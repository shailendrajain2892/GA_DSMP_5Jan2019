{
  "nbformat": 4,
  "nbformat_minor": 0,
  "metadata": {
    "colab": {
      "name": "Capstone_Mahindra_First_Choice.ipynb",
      "version": "0.3.2",
      "provenance": [],
      "collapsed_sections": [],
      "include_colab_link": true
    },
    "kernelspec": {
      "name": "python3",
      "display_name": "Python 3"
    }
  },
  "cells": [
    {
      "cell_type": "markdown",
      "metadata": {
        "id": "view-in-github",
        "colab_type": "text"
      },
      "source": [
        "<a href=\"https://colab.research.google.com/github/shailendrajain2892/GA_DSMP_5Jan2019/blob/master/Capstone_Mahindra_First_Choice.ipynb\" target=\"_parent\"><img src=\"https://colab.research.google.com/assets/colab-badge.svg\" alt=\"Open In Colab\"/></a>"
      ]
    },
    {
      "cell_type": "code",
      "metadata": {
        "id": "ijiRV1yciq_5",
        "colab_type": "code",
        "colab": {}
      },
      "source": [
        "import pandas as pd\n",
        "import numpy as np"
      ],
      "execution_count": 0,
      "outputs": []
    },
    {
      "cell_type": "code",
      "metadata": {
        "id": "N4N3OoCEiylL",
        "colab_type": "code",
        "outputId": "0df65057-115b-4675-a088-9c5d1b4a1a7b",
        "colab": {
          "base_uri": "https://localhost:8080/",
          "height": 34
        }
      },
      "source": [
        "from google.colab import drive\n",
        "drive.mount('/content/drive')"
      ],
      "execution_count": 2,
      "outputs": [
        {
          "output_type": "stream",
          "text": [
            "Drive already mounted at /content/drive; to attempt to forcibly remount, call drive.mount(\"/content/drive\", force_remount=True).\n"
          ],
          "name": "stdout"
        }
      ]
    },
    {
      "cell_type": "markdown",
      "metadata": {
        "id": "RP-Ew7HwbmCa",
        "colab_type": "text"
      },
      "source": [
        "##Load Plant data \n",
        "**remove duplicate and null columns.**"
      ]
    },
    {
      "cell_type": "code",
      "metadata": {
        "id": "8N057FhYjY3K",
        "colab_type": "code",
        "colab": {}
      },
      "source": [
        "plant_full_data = pd.read_csv('./drive/My Drive/Colab Notebooks/data/final_csv/plant.csv', index_col=0)"
      ],
      "execution_count": 0,
      "outputs": []
    },
    {
      "cell_type": "code",
      "metadata": {
        "id": "yEPSpLibktkQ",
        "colab_type": "code",
        "outputId": "401da699-5a72-4c12-a414-84af60a98f85",
        "colab": {
          "base_uri": "https://localhost:8080/",
          "height": 340
        }
      },
      "source": [
        "plant_full_data.head()"
      ],
      "execution_count": 4,
      "outputs": [
        {
          "output_type": "execute_result",
          "data": {
            "text/html": [
              "<div>\n",
              "<style scoped>\n",
              "    .dataframe tbody tr th:only-of-type {\n",
              "        vertical-align: middle;\n",
              "    }\n",
              "\n",
              "    .dataframe tbody tr th {\n",
              "        vertical-align: top;\n",
              "    }\n",
              "\n",
              "    .dataframe thead th {\n",
              "        text-align: right;\n",
              "    }\n",
              "</style>\n",
              "<table border=\"1\" class=\"dataframe\">\n",
              "  <thead>\n",
              "    <tr style=\"text-align: right;\">\n",
              "      <th></th>\n",
              "      <th>Plant</th>\n",
              "      <th>Name 1</th>\n",
              "      <th>Valuation Area</th>\n",
              "      <th>Customer no. - plant</th>\n",
              "      <th>Vendor number plant</th>\n",
              "      <th>Factory calendar</th>\n",
              "      <th>Name 2</th>\n",
              "      <th>House number and street</th>\n",
              "      <th>PO Box</th>\n",
              "      <th>Postal Code</th>\n",
              "      <th>City</th>\n",
              "      <th>Sales organization</th>\n",
              "      <th>State</th>\n",
              "    </tr>\n",
              "  </thead>\n",
              "  <tbody>\n",
              "    <tr>\n",
              "      <th>0</th>\n",
              "      <td>BC07</td>\n",
              "      <td>NERKUNDRAM</td>\n",
              "      <td>BC07</td>\n",
              "      <td>PLBC07</td>\n",
              "      <td>PLBC07</td>\n",
              "      <td>IN</td>\n",
              "      <td>NaN</td>\n",
              "      <td>No.117 Poonamallee High Road,</td>\n",
              "      <td>600107.0</td>\n",
              "      <td>600107</td>\n",
              "      <td>Chennai</td>\n",
              "      <td>MFCS</td>\n",
              "      <td>Tamil Nadu</td>\n",
              "    </tr>\n",
              "    <tr>\n",
              "      <th>1</th>\n",
              "      <td>BC30</td>\n",
              "      <td>SAS NAGAR - MOHALI</td>\n",
              "      <td>BC30</td>\n",
              "      <td>PLBC30</td>\n",
              "      <td>PLBC30</td>\n",
              "      <td>IN</td>\n",
              "      <td>NaN</td>\n",
              "      <td>C-118, Phase 07,</td>\n",
              "      <td>160055.0</td>\n",
              "      <td>160055</td>\n",
              "      <td>Mohali</td>\n",
              "      <td>MFCS</td>\n",
              "      <td>Punjab</td>\n",
              "    </tr>\n",
              "    <tr>\n",
              "      <th>2</th>\n",
              "      <td>X001</td>\n",
              "      <td>X001 - AUTO PLANET WHEELS</td>\n",
              "      <td>X001</td>\n",
              "      <td>PLX001</td>\n",
              "      <td>NaN</td>\n",
              "      <td>IN</td>\n",
              "      <td>Thane</td>\n",
              "      <td>Unit No.3, Kothari Compound,</td>\n",
              "      <td>400610.0</td>\n",
              "      <td>400610</td>\n",
              "      <td>Thane</td>\n",
              "      <td>MFCA</td>\n",
              "      <td>Maharashtra</td>\n",
              "    </tr>\n",
              "    <tr>\n",
              "      <th>3</th>\n",
              "      <td>X002</td>\n",
              "      <td>X002 - BHANDARI INDUSTRIES PVT</td>\n",
              "      <td>X002</td>\n",
              "      <td>PLX002</td>\n",
              "      <td>NaN</td>\n",
              "      <td>IN</td>\n",
              "      <td>Ghaziabad</td>\n",
              "      <td>18/1, C Site 4, Sahibabad</td>\n",
              "      <td>201010.0</td>\n",
              "      <td>201010</td>\n",
              "      <td>Ghaziabad</td>\n",
              "      <td>MFCA</td>\n",
              "      <td>Uttar Pradesh</td>\n",
              "    </tr>\n",
              "    <tr>\n",
              "      <th>4</th>\n",
              "      <td>X003</td>\n",
              "      <td>X003 - Om Sri Satya Sai Automo</td>\n",
              "      <td>X003</td>\n",
              "      <td>PLX003</td>\n",
              "      <td>NaN</td>\n",
              "      <td>IN</td>\n",
              "      <td>Bengaluru</td>\n",
              "      <td>#75, Sy.No. 83/2, Panathur Mai</td>\n",
              "      <td>560087.0</td>\n",
              "      <td>560087</td>\n",
              "      <td>Bengaluru</td>\n",
              "      <td>MFCB</td>\n",
              "      <td>Karnataka</td>\n",
              "    </tr>\n",
              "  </tbody>\n",
              "</table>\n",
              "</div>"
            ],
            "text/plain": [
              "  Plant                          Name 1  ... Sales organization          State\n",
              "0  BC07                      NERKUNDRAM  ...               MFCS     Tamil Nadu\n",
              "1  BC30              SAS NAGAR - MOHALI  ...               MFCS         Punjab\n",
              "2  X001       X001 - AUTO PLANET WHEELS  ...               MFCA    Maharashtra\n",
              "3  X002  X002 - BHANDARI INDUSTRIES PVT  ...               MFCA  Uttar Pradesh\n",
              "4  X003  X003 - Om Sri Satya Sai Automo  ...               MFCB      Karnataka\n",
              "\n",
              "[5 rows x 13 columns]"
            ]
          },
          "metadata": {
            "tags": []
          },
          "execution_count": 4
        }
      ]
    },
    {
      "cell_type": "code",
      "metadata": {
        "id": "R21BLM_DacpH",
        "colab_type": "code",
        "colab": {
          "base_uri": "https://localhost:8080/",
          "height": 255
        },
        "outputId": "d88e6147-5738-4099-f695-e43d00d0e20a"
      },
      "source": [
        "plant_full_data.isnull().sum()"
      ],
      "execution_count": 5,
      "outputs": [
        {
          "output_type": "execute_result",
          "data": {
            "text/plain": [
              "Plant                        0\n",
              "Name 1                       0\n",
              "Valuation Area               0\n",
              "Customer no. - plant         0\n",
              "Vendor number plant        436\n",
              "Factory calendar             0\n",
              "Name 2                       2\n",
              "House number and street      2\n",
              "PO Box                       1\n",
              "Postal Code                  0\n",
              "City                         0\n",
              "Sales organization           5\n",
              "State                        0\n",
              "dtype: int64"
            ]
          },
          "metadata": {
            "tags": []
          },
          "execution_count": 5
        }
      ]
    },
    {
      "cell_type": "code",
      "metadata": {
        "id": "kg1VM_-RaikQ",
        "colab_type": "code",
        "colab": {
          "base_uri": "https://localhost:8080/",
          "height": 34
        },
        "outputId": "b0c9007e-f9ff-4189-864f-0c0ffe29d97a"
      },
      "source": [
        "plant_full_data.shape"
      ],
      "execution_count": 6,
      "outputs": [
        {
          "output_type": "execute_result",
          "data": {
            "text/plain": [
              "(438, 13)"
            ]
          },
          "metadata": {
            "tags": []
          },
          "execution_count": 6
        }
      ]
    },
    {
      "cell_type": "markdown",
      "metadata": {
        "id": "BrLsb6wLc6tK",
        "colab_type": "text"
      },
      "source": [
        "**Drop columns=['Vendor number plant', 'Valuation Area', 'Factory calendar', 'Name 2', 'House number and street', 'PO Box', 'Sales organization']**"
      ]
    },
    {
      "cell_type": "code",
      "metadata": {
        "id": "xiOmysjbam9V",
        "colab_type": "code",
        "colab": {}
      },
      "source": [
        "plant = plant_full_data.drop(columns=['Vendor number plant', 'Valuation Area', 'Factory calendar', 'Name 2', 'House number and street', 'PO Box', 'Sales organization', 'Customer no. - plant'])"
      ],
      "execution_count": 0,
      "outputs": []
    },
    {
      "cell_type": "code",
      "metadata": {
        "id": "x-g1ppOOavsV",
        "colab_type": "code",
        "colab": {
          "base_uri": "https://localhost:8080/",
          "height": 34
        },
        "outputId": "b05d8787-1459-4af3-bac9-dfbbe8a7ab7f"
      },
      "source": [
        "plant.shape"
      ],
      "execution_count": 8,
      "outputs": [
        {
          "output_type": "execute_result",
          "data": {
            "text/plain": [
              "(438, 5)"
            ]
          },
          "metadata": {
            "tags": []
          },
          "execution_count": 8
        }
      ]
    },
    {
      "cell_type": "code",
      "metadata": {
        "id": "fxctlvb1dMy5",
        "colab_type": "code",
        "colab": {
          "base_uri": "https://localhost:8080/",
          "height": 119
        },
        "outputId": "49adf524-884b-4e87-acbf-a8ac5ea8158b"
      },
      "source": [
        "plant.isnull().sum()"
      ],
      "execution_count": 9,
      "outputs": [
        {
          "output_type": "execute_result",
          "data": {
            "text/plain": [
              "Plant          0\n",
              "Name 1         0\n",
              "Postal Code    0\n",
              "City           0\n",
              "State          0\n",
              "dtype: int64"
            ]
          },
          "metadata": {
            "tags": []
          },
          "execution_count": 9
        }
      ]
    },
    {
      "cell_type": "markdown",
      "metadata": {
        "id": "xVqML_yzdr1o",
        "colab_type": "text"
      },
      "source": [
        "##Read Customer Data. \n",
        "**Remove Duplicate and Missing values columns**."
      ]
    },
    {
      "cell_type": "code",
      "metadata": {
        "id": "Ae7b-ddplUqh",
        "colab_type": "code",
        "outputId": "444b2af4-27a9-479a-bfbb-6a5b7ff2389a",
        "colab": {
          "base_uri": "https://localhost:8080/",
          "height": 71
        }
      },
      "source": [
        "customer_full_data = pd.read_csv('./drive/My Drive/Colab Notebooks/data/final_csv/customer.csv', index_col=0)"
      ],
      "execution_count": 10,
      "outputs": [
        {
          "output_type": "stream",
          "text": [
            "/usr/local/lib/python3.6/dist-packages/IPython/core/interactiveshell.py:2718: DtypeWarning: Columns (1,2) have mixed types. Specify dtype option on import or set low_memory=False.\n",
            "  interactivity=interactivity, compiler=compiler, result=result)\n"
          ],
          "name": "stderr"
        }
      ]
    },
    {
      "cell_type": "code",
      "metadata": {
        "id": "pzB4RwgXlxrM",
        "colab_type": "code",
        "outputId": "02b5c8ed-469c-4a9f-a5a0-6847683a1e78",
        "colab": {
          "base_uri": "https://localhost:8080/",
          "height": 204
        }
      },
      "source": [
        "customer_full_data.head()"
      ],
      "execution_count": 11,
      "outputs": [
        {
          "output_type": "execute_result",
          "data": {
            "text/html": [
              "<div>\n",
              "<style scoped>\n",
              "    .dataframe tbody tr th:only-of-type {\n",
              "        vertical-align: middle;\n",
              "    }\n",
              "\n",
              "    .dataframe tbody tr th {\n",
              "        vertical-align: top;\n",
              "    }\n",
              "\n",
              "    .dataframe thead th {\n",
              "        text-align: right;\n",
              "    }\n",
              "</style>\n",
              "<table border=\"1\" class=\"dataframe\">\n",
              "  <thead>\n",
              "    <tr style=\"text-align: right;\">\n",
              "      <th></th>\n",
              "      <th>Business Partner</th>\n",
              "      <th>Customer No.</th>\n",
              "      <th>Partner Type</th>\n",
              "      <th>Data Origin</th>\n",
              "      <th>Title</th>\n",
              "      <th>Marital Status</th>\n",
              "      <th>Occupation</th>\n",
              "      <th>Date of Birth</th>\n",
              "      <th>Death date</th>\n",
              "    </tr>\n",
              "  </thead>\n",
              "  <tbody>\n",
              "    <tr>\n",
              "      <th>0</th>\n",
              "      <td>31</td>\n",
              "      <td>1</td>\n",
              "      <td>1.0</td>\n",
              "      <td>Z001</td>\n",
              "      <td>NaN</td>\n",
              "      <td>NaN</td>\n",
              "      <td>NaN</td>\n",
              "      <td>NaN</td>\n",
              "      <td>NaN</td>\n",
              "    </tr>\n",
              "    <tr>\n",
              "      <th>1</th>\n",
              "      <td>32</td>\n",
              "      <td>2</td>\n",
              "      <td>1.0</td>\n",
              "      <td>Z005</td>\n",
              "      <td>NaN</td>\n",
              "      <td>NaN</td>\n",
              "      <td>NaN</td>\n",
              "      <td>NaN</td>\n",
              "      <td>NaN</td>\n",
              "    </tr>\n",
              "    <tr>\n",
              "      <th>2</th>\n",
              "      <td>34</td>\n",
              "      <td>4</td>\n",
              "      <td>1.0</td>\n",
              "      <td>Z005</td>\n",
              "      <td>NaN</td>\n",
              "      <td>2.0</td>\n",
              "      <td>NaN</td>\n",
              "      <td>NaN</td>\n",
              "      <td>NaN</td>\n",
              "    </tr>\n",
              "    <tr>\n",
              "      <th>3</th>\n",
              "      <td>35</td>\n",
              "      <td>5</td>\n",
              "      <td>1.0</td>\n",
              "      <td>Z005</td>\n",
              "      <td>NaN</td>\n",
              "      <td>NaN</td>\n",
              "      <td>NaN</td>\n",
              "      <td>NaN</td>\n",
              "      <td>NaN</td>\n",
              "    </tr>\n",
              "    <tr>\n",
              "      <th>4</th>\n",
              "      <td>42</td>\n",
              "      <td>7</td>\n",
              "      <td>1.0</td>\n",
              "      <td>Z008</td>\n",
              "      <td>NaN</td>\n",
              "      <td>NaN</td>\n",
              "      <td>NaN</td>\n",
              "      <td>NaN</td>\n",
              "      <td>NaN</td>\n",
              "    </tr>\n",
              "  </tbody>\n",
              "</table>\n",
              "</div>"
            ],
            "text/plain": [
              "  Business Partner Customer No.  ...  Date of Birth Death date\n",
              "0               31            1  ...            NaN        NaN\n",
              "1               32            2  ...            NaN        NaN\n",
              "2               34            4  ...            NaN        NaN\n",
              "3               35            5  ...            NaN        NaN\n",
              "4               42            7  ...            NaN        NaN\n",
              "\n",
              "[5 rows x 9 columns]"
            ]
          },
          "metadata": {
            "tags": []
          },
          "execution_count": 11
        }
      ]
    },
    {
      "cell_type": "code",
      "metadata": {
        "id": "m9o7xFETe5OI",
        "colab_type": "code",
        "colab": {
          "base_uri": "https://localhost:8080/",
          "height": 34
        },
        "outputId": "a89848e5-cce7-4d5e-f1d1-db0a77f971ae"
      },
      "source": [
        "customer_full_data.shape"
      ],
      "execution_count": 12,
      "outputs": [
        {
          "output_type": "execute_result",
          "data": {
            "text/plain": [
              "(555338, 9)"
            ]
          },
          "metadata": {
            "tags": []
          },
          "execution_count": 12
        }
      ]
    },
    {
      "cell_type": "code",
      "metadata": {
        "id": "1wojI66kVXjs",
        "colab_type": "code",
        "outputId": "1dbef75d-6818-48ab-ade1-85e4bd55ef87",
        "colab": {
          "base_uri": "https://localhost:8080/",
          "height": 187
        }
      },
      "source": [
        "customer_full_data.isnull().sum()"
      ],
      "execution_count": 13,
      "outputs": [
        {
          "output_type": "execute_result",
          "data": {
            "text/plain": [
              "Business Partner         0\n",
              "Customer No.             0\n",
              "Partner Type            78\n",
              "Data Origin            136\n",
              "Title                46307\n",
              "Marital Status      539301\n",
              "Occupation          540780\n",
              "Date of Birth       541894\n",
              "Death date          554675\n",
              "dtype: int64"
            ]
          },
          "metadata": {
            "tags": []
          },
          "execution_count": 13
        }
      ]
    },
    {
      "cell_type": "code",
      "metadata": {
        "id": "mC2YZ6mmgA0q",
        "colab_type": "code",
        "colab": {}
      },
      "source": [
        "customer = customer_full_data.drop(columns = ['Marital Status', 'Occupation', 'Date of Birth', 'Death date'])"
      ],
      "execution_count": 0,
      "outputs": []
    },
    {
      "cell_type": "code",
      "metadata": {
        "id": "H9JXOWb-jJxr",
        "colab_type": "code",
        "colab": {
          "base_uri": "https://localhost:8080/",
          "height": 119
        },
        "outputId": "3b0f8e03-3e1c-48a4-c9cd-710e28f79b2b"
      },
      "source": [
        "customer.dtypes"
      ],
      "execution_count": 15,
      "outputs": [
        {
          "output_type": "execute_result",
          "data": {
            "text/plain": [
              "Business Partner     object\n",
              "Customer No.         object\n",
              "Partner Type        float64\n",
              "Data Origin          object\n",
              "Title               float64\n",
              "dtype: object"
            ]
          },
          "metadata": {
            "tags": []
          },
          "execution_count": 15
        }
      ]
    },
    {
      "cell_type": "code",
      "metadata": {
        "id": "6qOtHQd0gUHt",
        "colab_type": "code",
        "colab": {
          "base_uri": "https://localhost:8080/",
          "height": 119
        },
        "outputId": "adf13e0c-2b74-454c-f9c0-78f37ef6c2de"
      },
      "source": [
        "customer.isnull().sum()"
      ],
      "execution_count": 16,
      "outputs": [
        {
          "output_type": "execute_result",
          "data": {
            "text/plain": [
              "Business Partner        0\n",
              "Customer No.            0\n",
              "Partner Type           78\n",
              "Data Origin           136\n",
              "Title               46307\n",
              "dtype: int64"
            ]
          },
          "metadata": {
            "tags": []
          },
          "execution_count": 16
        }
      ]
    },
    {
      "cell_type": "markdown",
      "metadata": {
        "id": "BJs7yJAjlwP2",
        "colab_type": "text"
      },
      "source": [
        "**FIll Missing Values in Partner Type, Data Origin, Title columns with most_frequently used values.**"
      ]
    },
    {
      "cell_type": "code",
      "metadata": {
        "id": "_ezt1434hKqd",
        "colab_type": "code",
        "colab": {}
      },
      "source": [
        "most_frequent_value = customer['Partner Type'].mode()\n",
        "customer['Partner Type'] = customer['Partner Type'].fillna(most_frequent_value[0])"
      ],
      "execution_count": 0,
      "outputs": []
    },
    {
      "cell_type": "code",
      "metadata": {
        "id": "fC5xpwkRlVtZ",
        "colab_type": "code",
        "colab": {}
      },
      "source": [
        "customer['Data Origin'] = customer['Data Origin'].fillna(customer['Data Origin'].mode()[0])"
      ],
      "execution_count": 0,
      "outputs": []
    },
    {
      "cell_type": "code",
      "metadata": {
        "id": "1bT6C0ZnlgUI",
        "colab_type": "code",
        "colab": {}
      },
      "source": [
        "customer['Title'] = customer['Title'].fillna(customer['Title'].mode()[0])"
      ],
      "execution_count": 0,
      "outputs": []
    },
    {
      "cell_type": "code",
      "metadata": {
        "id": "zTUNWHj8lvTE",
        "colab_type": "code",
        "colab": {
          "base_uri": "https://localhost:8080/",
          "height": 119
        },
        "outputId": "96f4661d-6393-407c-f310-8cca45b105fe"
      },
      "source": [
        "customer.isnull().sum()"
      ],
      "execution_count": 20,
      "outputs": [
        {
          "output_type": "execute_result",
          "data": {
            "text/plain": [
              "Business Partner    0\n",
              "Customer No.        0\n",
              "Partner Type        0\n",
              "Data Origin         0\n",
              "Title               0\n",
              "dtype: int64"
            ]
          },
          "metadata": {
            "tags": []
          },
          "execution_count": 20
        }
      ]
    },
    {
      "cell_type": "markdown",
      "metadata": {
        "id": "_SjzdmPwoaq4",
        "colab_type": "text"
      },
      "source": [
        "##Load Vehicle Data. \n",
        "**Treat missing and nan values.**"
      ]
    },
    {
      "cell_type": "code",
      "metadata": {
        "id": "N1SGaJcDl5xE",
        "colab_type": "code",
        "outputId": "023cd163-2f5d-4f43-f5c7-7d7104be473e",
        "colab": {
          "base_uri": "https://localhost:8080/",
          "height": 71
        }
      },
      "source": [
        "vehicles_full_data = pd.read_csv('./drive/My Drive/Colab Notebooks/data/final_csv/vehicles.csv', index_col=0)"
      ],
      "execution_count": 21,
      "outputs": [
        {
          "output_type": "stream",
          "text": [
            "/usr/local/lib/python3.6/dist-packages/IPython/core/interactiveshell.py:2718: DtypeWarning: Columns (4) have mixed types. Specify dtype option on import or set low_memory=False.\n",
            "  interactivity=interactivity, compiler=compiler, result=result)\n"
          ],
          "name": "stderr"
        }
      ]
    },
    {
      "cell_type": "code",
      "metadata": {
        "id": "e_wT8KtYsVDr",
        "colab_type": "code",
        "outputId": "c966647d-8771-4d6e-ce54-82c0523777ae",
        "colab": {
          "base_uri": "https://localhost:8080/",
          "height": 204
        }
      },
      "source": [
        "vehicles_full_data.head()"
      ],
      "execution_count": 22,
      "outputs": [
        {
          "output_type": "execute_result",
          "data": {
            "text/html": [
              "<div>\n",
              "<style scoped>\n",
              "    .dataframe tbody tr th:only-of-type {\n",
              "        vertical-align: middle;\n",
              "    }\n",
              "\n",
              "    .dataframe tbody tr th {\n",
              "        vertical-align: top;\n",
              "    }\n",
              "\n",
              "    .dataframe thead th {\n",
              "        text-align: right;\n",
              "    }\n",
              "</style>\n",
              "<table border=\"1\" class=\"dataframe\">\n",
              "  <thead>\n",
              "    <tr style=\"text-align: right;\">\n",
              "      <th></th>\n",
              "      <th>Vehicle Model</th>\n",
              "      <th>Product GUID</th>\n",
              "      <th>License Plate Number</th>\n",
              "      <th>Fuel Type</th>\n",
              "    </tr>\n",
              "  </thead>\n",
              "  <tbody>\n",
              "    <tr>\n",
              "      <th>0</th>\n",
              "      <td>Z_MAHINDRA</td>\n",
              "      <td>000C2937F0991ED493A0CC3579ED97ED</td>\n",
              "      <td>MH12HN2835</td>\n",
              "      <td>2</td>\n",
              "    </tr>\n",
              "    <tr>\n",
              "      <th>1</th>\n",
              "      <td>Z_TATA</td>\n",
              "      <td>000C2937F0991ED493A19620CB69DDA0</td>\n",
              "      <td>TN10AL3462</td>\n",
              "      <td>2</td>\n",
              "    </tr>\n",
              "    <tr>\n",
              "      <th>2</th>\n",
              "      <td>Z_MARUTI</td>\n",
              "      <td>000C2937F0991ED493A28DAFBFBA870E</td>\n",
              "      <td>AP28DG9695</td>\n",
              "      <td>1</td>\n",
              "    </tr>\n",
              "    <tr>\n",
              "      <th>3</th>\n",
              "      <td>Z_HONDA</td>\n",
              "      <td>000C2937F0991ED493A496B779A143D3</td>\n",
              "      <td>MH15DS9580</td>\n",
              "      <td>1</td>\n",
              "    </tr>\n",
              "    <tr>\n",
              "      <th>4</th>\n",
              "      <td>Z_MARUTI</td>\n",
              "      <td>000C2937F0991ED493A58273B92EC2F8</td>\n",
              "      <td>MH14CK0669</td>\n",
              "      <td>2</td>\n",
              "    </tr>\n",
              "  </tbody>\n",
              "</table>\n",
              "</div>"
            ],
            "text/plain": [
              "  Vehicle Model  ... Fuel Type\n",
              "0    Z_MAHINDRA  ...         2\n",
              "1        Z_TATA  ...         2\n",
              "2      Z_MARUTI  ...         1\n",
              "3       Z_HONDA  ...         1\n",
              "4      Z_MARUTI  ...         2\n",
              "\n",
              "[5 rows x 4 columns]"
            ]
          },
          "metadata": {
            "tags": []
          },
          "execution_count": 22
        }
      ]
    },
    {
      "cell_type": "code",
      "metadata": {
        "id": "KeshmvEGpTBC",
        "colab_type": "code",
        "colab": {
          "base_uri": "https://localhost:8080/",
          "height": 34
        },
        "outputId": "6675df74-d541-470a-f614-3bc852c06942"
      },
      "source": [
        "vehicles_full_data.shape"
      ],
      "execution_count": 23,
      "outputs": [
        {
          "output_type": "execute_result",
          "data": {
            "text/plain": [
              "(588761, 4)"
            ]
          },
          "metadata": {
            "tags": []
          },
          "execution_count": 23
        }
      ]
    },
    {
      "cell_type": "code",
      "metadata": {
        "id": "5e2KQAa9pLKC",
        "colab_type": "code",
        "colab": {
          "base_uri": "https://localhost:8080/",
          "height": 102
        },
        "outputId": "cb439ea7-56c1-4307-8112-8fd9592c705e"
      },
      "source": [
        "vehicles_full_data.isnull().sum()"
      ],
      "execution_count": 24,
      "outputs": [
        {
          "output_type": "execute_result",
          "data": {
            "text/plain": [
              "Vehicle Model               0\n",
              "Product GUID                0\n",
              "License Plate Number     2058\n",
              "Fuel Type               15627\n",
              "dtype: int64"
            ]
          },
          "metadata": {
            "tags": []
          },
          "execution_count": 24
        }
      ]
    },
    {
      "cell_type": "markdown",
      "metadata": {
        "id": "61U8R8REqiYL",
        "colab_type": "text"
      },
      "source": [
        "***`Remove Product GUID column`***"
      ]
    },
    {
      "cell_type": "code",
      "metadata": {
        "id": "kzii6AKApzLH",
        "colab_type": "code",
        "colab": {}
      },
      "source": [
        "vehicles = vehicles_full_data.drop(columns='Product GUID')"
      ],
      "execution_count": 0,
      "outputs": []
    },
    {
      "cell_type": "code",
      "metadata": {
        "id": "rxylrfdyqhtv",
        "colab_type": "code",
        "colab": {
          "base_uri": "https://localhost:8080/",
          "height": 34
        },
        "outputId": "ca515130-d77a-4ef5-d89e-b6d8967510d5"
      },
      "source": [
        "vehicles.shape"
      ],
      "execution_count": 26,
      "outputs": [
        {
          "output_type": "execute_result",
          "data": {
            "text/plain": [
              "(588761, 3)"
            ]
          },
          "metadata": {
            "tags": []
          },
          "execution_count": 26
        }
      ]
    },
    {
      "cell_type": "code",
      "metadata": {
        "id": "w4___Ep9qw2h",
        "colab_type": "code",
        "colab": {
          "base_uri": "https://localhost:8080/",
          "height": 85
        },
        "outputId": "33db1828-8e85-42e3-f2cd-8d63a1a04557"
      },
      "source": [
        "vehicles.isnull().sum()"
      ],
      "execution_count": 27,
      "outputs": [
        {
          "output_type": "execute_result",
          "data": {
            "text/plain": [
              "Vehicle Model               0\n",
              "License Plate Number     2058\n",
              "Fuel Type               15627\n",
              "dtype: int64"
            ]
          },
          "metadata": {
            "tags": []
          },
          "execution_count": 27
        }
      ]
    },
    {
      "cell_type": "code",
      "metadata": {
        "id": "AV3T2ddjq4dO",
        "colab_type": "code",
        "colab": {
          "base_uri": "https://localhost:8080/",
          "height": 85
        },
        "outputId": "4635eaee-b96a-496f-8f27-b7844941d00f"
      },
      "source": [
        "vehicles.dtypes"
      ],
      "execution_count": 28,
      "outputs": [
        {
          "output_type": "execute_result",
          "data": {
            "text/plain": [
              "Vehicle Model           object\n",
              "License Plate Number    object\n",
              "Fuel Type               object\n",
              "dtype: object"
            ]
          },
          "metadata": {
            "tags": []
          },
          "execution_count": 28
        }
      ]
    },
    {
      "cell_type": "markdown",
      "metadata": {
        "id": "cdjfWR-rrN5s",
        "colab_type": "text"
      },
      "source": [
        "***`Remove vehicles which doesn't have License Plate Number`***"
      ]
    },
    {
      "cell_type": "code",
      "metadata": {
        "id": "CdymoOowpzRB",
        "colab_type": "code",
        "colab": {}
      },
      "source": [
        "vehicles.dropna(subset=['License Plate Number'], inplace=True)"
      ],
      "execution_count": 0,
      "outputs": []
    },
    {
      "cell_type": "code",
      "metadata": {
        "id": "c7_Y8xRIrLKd",
        "colab_type": "code",
        "colab": {
          "base_uri": "https://localhost:8080/",
          "height": 34
        },
        "outputId": "16961799-a04b-44ca-eae3-120142c263aa"
      },
      "source": [
        "vehicles.shape"
      ],
      "execution_count": 30,
      "outputs": [
        {
          "output_type": "execute_result",
          "data": {
            "text/plain": [
              "(586703, 3)"
            ]
          },
          "metadata": {
            "tags": []
          },
          "execution_count": 30
        }
      ]
    },
    {
      "cell_type": "code",
      "metadata": {
        "id": "yIenhMf5raGy",
        "colab_type": "code",
        "colab": {}
      },
      "source": [
        "vehicles['Fuel Type'] = vehicles['Fuel Type'].fillna(vehicles['Fuel Type'].mode()[0])"
      ],
      "execution_count": 0,
      "outputs": []
    },
    {
      "cell_type": "code",
      "metadata": {
        "id": "CePgWMv-r5JV",
        "colab_type": "code",
        "colab": {
          "base_uri": "https://localhost:8080/",
          "height": 85
        },
        "outputId": "50a86df3-0045-45ac-afb1-1a2e8afa3b3a"
      },
      "source": [
        "vehicles.isnull().sum()"
      ],
      "execution_count": 32,
      "outputs": [
        {
          "output_type": "execute_result",
          "data": {
            "text/plain": [
              "Vehicle Model           0\n",
              "License Plate Number    0\n",
              "Fuel Type               0\n",
              "dtype: int64"
            ]
          },
          "metadata": {
            "tags": []
          },
          "execution_count": 32
        }
      ]
    },
    {
      "cell_type": "markdown",
      "metadata": {
        "id": "-gDSUTYQr-83",
        "colab_type": "text"
      },
      "source": [
        "## Load Invoice Data\n",
        "Handle missing, duplicate data"
      ]
    },
    {
      "cell_type": "code",
      "metadata": {
        "id": "V-e3x0M7si2Y",
        "colab_type": "code",
        "outputId": "74c2f172-e78b-4a01-ab8e-ca148e6bfec0",
        "colab": {
          "base_uri": "https://localhost:8080/",
          "height": 71
        }
      },
      "source": [
        "invoice_full_data = pd.read_csv('/content/drive/My Drive/Colab Notebooks/data/final_csv/invoice.csv',index_col=0)"
      ],
      "execution_count": 33,
      "outputs": [
        {
          "output_type": "stream",
          "text": [
            "/usr/local/lib/python3.6/dist-packages/IPython/core/interactiveshell.py:2718: DtypeWarning: Columns (9,10,14,15,21,41,51) have mixed types. Specify dtype option on import or set low_memory=False.\n",
            "  interactivity=interactivity, compiler=compiler, result=result)\n"
          ],
          "name": "stderr"
        }
      ]
    },
    {
      "cell_type": "code",
      "metadata": {
        "id": "EHceLpPfss7g",
        "colab_type": "code",
        "outputId": "f48566b0-8742-4743-9bbe-d8245ef37aaa",
        "colab": {
          "base_uri": "https://localhost:8080/",
          "height": 428
        }
      },
      "source": [
        "invoice_full_data.head()"
      ],
      "execution_count": 34,
      "outputs": [
        {
          "output_type": "execute_result",
          "data": {
            "text/html": [
              "<div>\n",
              "<style scoped>\n",
              "    .dataframe tbody tr th:only-of-type {\n",
              "        vertical-align: middle;\n",
              "    }\n",
              "\n",
              "    .dataframe tbody tr th {\n",
              "        vertical-align: top;\n",
              "    }\n",
              "\n",
              "    .dataframe thead th {\n",
              "        text-align: right;\n",
              "    }\n",
              "</style>\n",
              "<table border=\"1\" class=\"dataframe\">\n",
              "  <thead>\n",
              "    <tr style=\"text-align: right;\">\n",
              "      <th></th>\n",
              "      <th>Amt Rcvd From Custom</th>\n",
              "      <th>Amt Rcvd From Ins Co</th>\n",
              "      <th>Area / Locality</th>\n",
              "      <th>CGST(14%)</th>\n",
              "      <th>CGST(2.5%)</th>\n",
              "      <th>CGST(6%)</th>\n",
              "      <th>CGST(9%)</th>\n",
              "      <th>CITY</th>\n",
              "      <th>Cash /Cashless Type</th>\n",
              "      <th>Claim No.</th>\n",
              "      <th>Cust Type</th>\n",
              "      <th>Customer No.</th>\n",
              "      <th>District</th>\n",
              "      <th>Expiry Date</th>\n",
              "      <th>Gate Pass Date</th>\n",
              "      <th>Gate Pass Time</th>\n",
              "      <th>IGST(12%)</th>\n",
              "      <th>IGST(18%)</th>\n",
              "      <th>IGST(28%)</th>\n",
              "      <th>IGST(5%)</th>\n",
              "      <th>Insurance Company</th>\n",
              "      <th>Invoice Date</th>\n",
              "      <th>Invoice No</th>\n",
              "      <th>Invoice Time</th>\n",
              "      <th>Job Card No</th>\n",
              "      <th>JobCard Date</th>\n",
              "      <th>JobCard Time</th>\n",
              "      <th>KMs Reading</th>\n",
              "      <th>Labour Total</th>\n",
              "      <th>Make</th>\n",
              "      <th>Misc Total</th>\n",
              "      <th>Model</th>\n",
              "      <th>ODN No.</th>\n",
              "      <th>OSL Total</th>\n",
              "      <th>Order Type</th>\n",
              "      <th>Outstanding Amt</th>\n",
              "      <th>Parts Total</th>\n",
              "      <th>Pin code</th>\n",
              "      <th>Plant</th>\n",
              "      <th>Plant Name1</th>\n",
              "      <th>Policy no.</th>\n",
              "      <th>Print Status</th>\n",
              "      <th>Recovrbl Exp</th>\n",
              "      <th>Regn No</th>\n",
              "      <th>SGST/UGST(14%)</th>\n",
              "      <th>SGST/UGST(2.5%)</th>\n",
              "      <th>SGST/UGST(6%)</th>\n",
              "      <th>SGST/UGST(9%)</th>\n",
              "      <th>Service Advisor Name</th>\n",
              "      <th>TDS amount</th>\n",
              "      <th>Technician Name</th>\n",
              "      <th>Total Amt Wtd Tax.</th>\n",
              "      <th>Total CGST</th>\n",
              "      <th>Total GST</th>\n",
              "      <th>Total IGST</th>\n",
              "      <th>Total SGST/UGST</th>\n",
              "      <th>Total Value</th>\n",
              "      <th>User ID</th>\n",
              "    </tr>\n",
              "  </thead>\n",
              "  <tbody>\n",
              "    <tr>\n",
              "      <th>0</th>\n",
              "      <td>0.0</td>\n",
              "      <td>0.0</td>\n",
              "      <td>NaN</td>\n",
              "      <td>0.0</td>\n",
              "      <td>0.0</td>\n",
              "      <td>0.0</td>\n",
              "      <td>0.0</td>\n",
              "      <td>Nashik</td>\n",
              "      <td>NaN</td>\n",
              "      <td>NaN</td>\n",
              "      <td>Retail</td>\n",
              "      <td>E14006</td>\n",
              "      <td>Maharashtra</td>\n",
              "      <td>NaN</td>\n",
              "      <td>NaN</td>\n",
              "      <td>00:00:00</td>\n",
              "      <td>0.0</td>\n",
              "      <td>0.0</td>\n",
              "      <td>0.0</td>\n",
              "      <td>0.0</td>\n",
              "      <td>NaN</td>\n",
              "      <td>2012-04-02</td>\n",
              "      <td>7000000011</td>\n",
              "      <td>17:04:33</td>\n",
              "      <td>101</td>\n",
              "      <td>2012-04-02</td>\n",
              "      <td>15:15:31</td>\n",
              "      <td>80440</td>\n",
              "      <td>420.09</td>\n",
              "      <td>HYUNDAI</td>\n",
              "      <td>0.0</td>\n",
              "      <td>SANTRO</td>\n",
              "      <td>7.000000e+09</td>\n",
              "      <td>0.00</td>\n",
              "      <td>Running Repairs</td>\n",
              "      <td>0.0</td>\n",
              "      <td>0.00</td>\n",
              "      <td>422000</td>\n",
              "      <td>BC03</td>\n",
              "      <td>NASHIK</td>\n",
              "      <td>NaN</td>\n",
              "      <td>NO</td>\n",
              "      <td>0.0</td>\n",
              "      <td>MH15BN2714</td>\n",
              "      <td>0.0</td>\n",
              "      <td>0.0</td>\n",
              "      <td>0.0</td>\n",
              "      <td>0.0</td>\n",
              "      <td>NaN</td>\n",
              "      <td>0.0</td>\n",
              "      <td>NaN</td>\n",
              "      <td>420.09</td>\n",
              "      <td>0.0</td>\n",
              "      <td>0.0</td>\n",
              "      <td>0.0</td>\n",
              "      <td>0.0</td>\n",
              "      <td>420.09</td>\n",
              "      <td>GOLIVE</td>\n",
              "    </tr>\n",
              "    <tr>\n",
              "      <th>1</th>\n",
              "      <td>0.0</td>\n",
              "      <td>0.0</td>\n",
              "      <td>NaN</td>\n",
              "      <td>0.0</td>\n",
              "      <td>0.0</td>\n",
              "      <td>0.0</td>\n",
              "      <td>0.0</td>\n",
              "      <td>THANE</td>\n",
              "      <td>NaN</td>\n",
              "      <td>NaN</td>\n",
              "      <td>Retail</td>\n",
              "      <td>0000000017</td>\n",
              "      <td>Maharashtra</td>\n",
              "      <td>NaN</td>\n",
              "      <td>NaN</td>\n",
              "      <td>00:00:00</td>\n",
              "      <td>0.0</td>\n",
              "      <td>0.0</td>\n",
              "      <td>0.0</td>\n",
              "      <td>0.0</td>\n",
              "      <td>NaN</td>\n",
              "      <td>2012-04-02</td>\n",
              "      <td>7000000014</td>\n",
              "      <td>17:26:52</td>\n",
              "      <td>105</td>\n",
              "      <td>2012-04-02</td>\n",
              "      <td>16:13:11</td>\n",
              "      <td>98474</td>\n",
              "      <td>179.75</td>\n",
              "      <td>MAHINDRA &amp;  MAHINDRA</td>\n",
              "      <td>0.0</td>\n",
              "      <td>LOGAN P</td>\n",
              "      <td>7.000000e+09</td>\n",
              "      <td>0.00</td>\n",
              "      <td>Running Repairs</td>\n",
              "      <td>0.0</td>\n",
              "      <td>0.00</td>\n",
              "      <td>401107</td>\n",
              "      <td>BC01</td>\n",
              "      <td>THANE</td>\n",
              "      <td>NaN</td>\n",
              "      <td>NO</td>\n",
              "      <td>0.0</td>\n",
              "      <td>MH04DN6210</td>\n",
              "      <td>0.0</td>\n",
              "      <td>0.0</td>\n",
              "      <td>0.0</td>\n",
              "      <td>0.0</td>\n",
              "      <td>NaN</td>\n",
              "      <td>0.0</td>\n",
              "      <td>NaN</td>\n",
              "      <td>179.75</td>\n",
              "      <td>0.0</td>\n",
              "      <td>0.0</td>\n",
              "      <td>0.0</td>\n",
              "      <td>0.0</td>\n",
              "      <td>179.75</td>\n",
              "      <td>GOLIVE</td>\n",
              "    </tr>\n",
              "    <tr>\n",
              "      <th>2</th>\n",
              "      <td>0.0</td>\n",
              "      <td>0.0</td>\n",
              "      <td>NaN</td>\n",
              "      <td>0.0</td>\n",
              "      <td>0.0</td>\n",
              "      <td>0.0</td>\n",
              "      <td>0.0</td>\n",
              "      <td>Hyderabad</td>\n",
              "      <td>NaN</td>\n",
              "      <td>NaN</td>\n",
              "      <td>Retail</td>\n",
              "      <td>0000000007</td>\n",
              "      <td>Andhra Pradesh</td>\n",
              "      <td>NaN</td>\n",
              "      <td>NaN</td>\n",
              "      <td>00:00:00</td>\n",
              "      <td>0.0</td>\n",
              "      <td>0.0</td>\n",
              "      <td>0.0</td>\n",
              "      <td>0.0</td>\n",
              "      <td>NaN</td>\n",
              "      <td>2012-04-02</td>\n",
              "      <td>7000000016</td>\n",
              "      <td>17:44:03</td>\n",
              "      <td>6</td>\n",
              "      <td>2012-04-02</td>\n",
              "      <td>12:47:59</td>\n",
              "      <td>137832</td>\n",
              "      <td>1340.37</td>\n",
              "      <td>MAHINDRA &amp;  MAHINDRA</td>\n",
              "      <td>0.0</td>\n",
              "      <td>SCORPIO CRDE</td>\n",
              "      <td>7.000000e+09</td>\n",
              "      <td>0.00</td>\n",
              "      <td>Paid Service</td>\n",
              "      <td>0.0</td>\n",
              "      <td>0.00</td>\n",
              "      <td>500038</td>\n",
              "      <td>BC04</td>\n",
              "      <td>BALANAGAR</td>\n",
              "      <td>NaN</td>\n",
              "      <td>NO</td>\n",
              "      <td>0.0</td>\n",
              "      <td>AP11AB0153</td>\n",
              "      <td>0.0</td>\n",
              "      <td>0.0</td>\n",
              "      <td>0.0</td>\n",
              "      <td>0.0</td>\n",
              "      <td>NaN</td>\n",
              "      <td>0.0</td>\n",
              "      <td>NaN</td>\n",
              "      <td>1340.37</td>\n",
              "      <td>0.0</td>\n",
              "      <td>0.0</td>\n",
              "      <td>0.0</td>\n",
              "      <td>0.0</td>\n",
              "      <td>1340.37</td>\n",
              "      <td>GOLIVE</td>\n",
              "    </tr>\n",
              "    <tr>\n",
              "      <th>3</th>\n",
              "      <td>0.0</td>\n",
              "      <td>0.0</td>\n",
              "      <td>NaN</td>\n",
              "      <td>0.0</td>\n",
              "      <td>0.0</td>\n",
              "      <td>0.0</td>\n",
              "      <td>0.0</td>\n",
              "      <td>Hyderabad</td>\n",
              "      <td>NaN</td>\n",
              "      <td>NaN</td>\n",
              "      <td>Retail</td>\n",
              "      <td>E22364</td>\n",
              "      <td>Andhra Pradesh</td>\n",
              "      <td>NaN</td>\n",
              "      <td>NaN</td>\n",
              "      <td>00:00:00</td>\n",
              "      <td>0.0</td>\n",
              "      <td>0.0</td>\n",
              "      <td>0.0</td>\n",
              "      <td>0.0</td>\n",
              "      <td>NaN</td>\n",
              "      <td>2012-04-02</td>\n",
              "      <td>7000000026</td>\n",
              "      <td>20:04:51</td>\n",
              "      <td>24</td>\n",
              "      <td>2012-04-01</td>\n",
              "      <td>16:19:32</td>\n",
              "      <td>75627</td>\n",
              "      <td>1709.06</td>\n",
              "      <td>MAHINDRA &amp;  MAHINDRA</td>\n",
              "      <td>0.0</td>\n",
              "      <td>SCORPIO CRDE</td>\n",
              "      <td>7.000000e+09</td>\n",
              "      <td>480.02</td>\n",
              "      <td>Paid Service</td>\n",
              "      <td>0.0</td>\n",
              "      <td>3317.37</td>\n",
              "      <td>500023</td>\n",
              "      <td>BC04</td>\n",
              "      <td>BALANAGAR</td>\n",
              "      <td>NaN</td>\n",
              "      <td>NO</td>\n",
              "      <td>0.0</td>\n",
              "      <td>AP9BJ4847</td>\n",
              "      <td>0.0</td>\n",
              "      <td>0.0</td>\n",
              "      <td>0.0</td>\n",
              "      <td>0.0</td>\n",
              "      <td>NaN</td>\n",
              "      <td>0.0</td>\n",
              "      <td>4302339</td>\n",
              "      <td>5506.45</td>\n",
              "      <td>0.0</td>\n",
              "      <td>0.0</td>\n",
              "      <td>0.0</td>\n",
              "      <td>0.0</td>\n",
              "      <td>5506.45</td>\n",
              "      <td>GOLIVE</td>\n",
              "    </tr>\n",
              "    <tr>\n",
              "      <th>4</th>\n",
              "      <td>0.0</td>\n",
              "      <td>0.0</td>\n",
              "      <td>NaN</td>\n",
              "      <td>0.0</td>\n",
              "      <td>0.0</td>\n",
              "      <td>0.0</td>\n",
              "      <td>0.0</td>\n",
              "      <td>Hyderabad</td>\n",
              "      <td>NaN</td>\n",
              "      <td>NaN</td>\n",
              "      <td>Retail</td>\n",
              "      <td>E25218</td>\n",
              "      <td>Andhra Pradesh</td>\n",
              "      <td>NaN</td>\n",
              "      <td>NaN</td>\n",
              "      <td>00:00:00</td>\n",
              "      <td>0.0</td>\n",
              "      <td>0.0</td>\n",
              "      <td>0.0</td>\n",
              "      <td>0.0</td>\n",
              "      <td>NaN</td>\n",
              "      <td>2012-04-02</td>\n",
              "      <td>7000000027</td>\n",
              "      <td>20:24:21</td>\n",
              "      <td>23</td>\n",
              "      <td>2012-04-01</td>\n",
              "      <td>16:19:32</td>\n",
              "      <td>1</td>\n",
              "      <td>2074.88</td>\n",
              "      <td>TATA MOTORS</td>\n",
              "      <td>0.0</td>\n",
              "      <td>INDICA</td>\n",
              "      <td>7.000000e+09</td>\n",
              "      <td>0.00</td>\n",
              "      <td>Accidental</td>\n",
              "      <td>0.0</td>\n",
              "      <td>3105.67</td>\n",
              "      <td>500045</td>\n",
              "      <td>BC04</td>\n",
              "      <td>BALANAGAR</td>\n",
              "      <td>NaN</td>\n",
              "      <td>NO</td>\n",
              "      <td>0.0</td>\n",
              "      <td>AP29BB4586</td>\n",
              "      <td>0.0</td>\n",
              "      <td>0.0</td>\n",
              "      <td>0.0</td>\n",
              "      <td>0.0</td>\n",
              "      <td>NaN</td>\n",
              "      <td>0.0</td>\n",
              "      <td>4302337</td>\n",
              "      <td>5180.55</td>\n",
              "      <td>0.0</td>\n",
              "      <td>0.0</td>\n",
              "      <td>0.0</td>\n",
              "      <td>0.0</td>\n",
              "      <td>5180.55</td>\n",
              "      <td>GOLIVE</td>\n",
              "    </tr>\n",
              "  </tbody>\n",
              "</table>\n",
              "</div>"
            ],
            "text/plain": [
              "   Amt Rcvd From Custom  Amt Rcvd From Ins Co  ... Total Value  User ID\n",
              "0                   0.0                   0.0  ...      420.09   GOLIVE\n",
              "1                   0.0                   0.0  ...      179.75   GOLIVE\n",
              "2                   0.0                   0.0  ...     1340.37   GOLIVE\n",
              "3                   0.0                   0.0  ...     5506.45   GOLIVE\n",
              "4                   0.0                   0.0  ...     5180.55   GOLIVE\n",
              "\n",
              "[5 rows x 58 columns]"
            ]
          },
          "metadata": {
            "tags": []
          },
          "execution_count": 34
        }
      ]
    },
    {
      "cell_type": "code",
      "metadata": {
        "id": "vEJjDsZOsWvd",
        "colab_type": "code",
        "colab": {
          "base_uri": "https://localhost:8080/",
          "height": 34
        },
        "outputId": "c0bd8fb1-caff-4fb0-d0a6-7d9ac9743ddc"
      },
      "source": [
        "invoice_full_data.shape"
      ],
      "execution_count": 35,
      "outputs": [
        {
          "output_type": "execute_result",
          "data": {
            "text/plain": [
              "(984741, 58)"
            ]
          },
          "metadata": {
            "tags": []
          },
          "execution_count": 35
        }
      ]
    },
    {
      "cell_type": "code",
      "metadata": {
        "id": "fXG5tq3bsW-x",
        "colab_type": "code",
        "colab": {}
      },
      "source": [
        "columns_to_be_removed = invoice_full_data.isnull().sum()[invoice_full_data.isnull().sum().sort_values() > 29178].index"
      ],
      "execution_count": 0,
      "outputs": []
    },
    {
      "cell_type": "code",
      "metadata": {
        "id": "NqOKaco9D_ly",
        "colab_type": "code",
        "colab": {}
      },
      "source": [
        "invoice = invoice_full_data.drop(columns=columns_to_be_removed)"
      ],
      "execution_count": 0,
      "outputs": []
    },
    {
      "cell_type": "code",
      "metadata": {
        "id": "CE-wcFK9EEhJ",
        "colab_type": "code",
        "colab": {
          "base_uri": "https://localhost:8080/",
          "height": 34
        },
        "outputId": "7ebfcb57-edf7-42d0-e2de-2519ba9e2c00"
      },
      "source": [
        "invoice.shape"
      ],
      "execution_count": 38,
      "outputs": [
        {
          "output_type": "execute_result",
          "data": {
            "text/plain": [
              "(984741, 28)"
            ]
          },
          "metadata": {
            "tags": []
          },
          "execution_count": 38
        }
      ]
    },
    {
      "cell_type": "code",
      "metadata": {
        "id": "M32ZbEo5EK8s",
        "colab_type": "code",
        "colab": {
          "base_uri": "https://localhost:8080/",
          "height": 411
        },
        "outputId": "3151186b-2836-4bb0-a937-a381e09a4e8b"
      },
      "source": [
        "invoice.head(5)"
      ],
      "execution_count": 39,
      "outputs": [
        {
          "output_type": "execute_result",
          "data": {
            "text/html": [
              "<div>\n",
              "<style scoped>\n",
              "    .dataframe tbody tr th:only-of-type {\n",
              "        vertical-align: middle;\n",
              "    }\n",
              "\n",
              "    .dataframe tbody tr th {\n",
              "        vertical-align: top;\n",
              "    }\n",
              "\n",
              "    .dataframe thead th {\n",
              "        text-align: right;\n",
              "    }\n",
              "</style>\n",
              "<table border=\"1\" class=\"dataframe\">\n",
              "  <thead>\n",
              "    <tr style=\"text-align: right;\">\n",
              "      <th></th>\n",
              "      <th>Area / Locality</th>\n",
              "      <th>CITY</th>\n",
              "      <th>Cust Type</th>\n",
              "      <th>Customer No.</th>\n",
              "      <th>District</th>\n",
              "      <th>Gate Pass Time</th>\n",
              "      <th>Invoice Date</th>\n",
              "      <th>Invoice No</th>\n",
              "      <th>Invoice Time</th>\n",
              "      <th>Job Card No</th>\n",
              "      <th>JobCard Date</th>\n",
              "      <th>JobCard Time</th>\n",
              "      <th>KMs Reading</th>\n",
              "      <th>Labour Total</th>\n",
              "      <th>Make</th>\n",
              "      <th>Misc Total</th>\n",
              "      <th>Model</th>\n",
              "      <th>OSL Total</th>\n",
              "      <th>Order Type</th>\n",
              "      <th>Parts Total</th>\n",
              "      <th>Pin code</th>\n",
              "      <th>Plant</th>\n",
              "      <th>Plant Name1</th>\n",
              "      <th>Print Status</th>\n",
              "      <th>Recovrbl Exp</th>\n",
              "      <th>Regn No</th>\n",
              "      <th>Total Amt Wtd Tax.</th>\n",
              "      <th>User ID</th>\n",
              "    </tr>\n",
              "  </thead>\n",
              "  <tbody>\n",
              "    <tr>\n",
              "      <th>0</th>\n",
              "      <td>NaN</td>\n",
              "      <td>Nashik</td>\n",
              "      <td>Retail</td>\n",
              "      <td>E14006</td>\n",
              "      <td>Maharashtra</td>\n",
              "      <td>00:00:00</td>\n",
              "      <td>2012-04-02</td>\n",
              "      <td>7000000011</td>\n",
              "      <td>17:04:33</td>\n",
              "      <td>101</td>\n",
              "      <td>2012-04-02</td>\n",
              "      <td>15:15:31</td>\n",
              "      <td>80440</td>\n",
              "      <td>420.09</td>\n",
              "      <td>HYUNDAI</td>\n",
              "      <td>0.0</td>\n",
              "      <td>SANTRO</td>\n",
              "      <td>0.00</td>\n",
              "      <td>Running Repairs</td>\n",
              "      <td>0.00</td>\n",
              "      <td>422000</td>\n",
              "      <td>BC03</td>\n",
              "      <td>NASHIK</td>\n",
              "      <td>NO</td>\n",
              "      <td>0.0</td>\n",
              "      <td>MH15BN2714</td>\n",
              "      <td>420.09</td>\n",
              "      <td>GOLIVE</td>\n",
              "    </tr>\n",
              "    <tr>\n",
              "      <th>1</th>\n",
              "      <td>NaN</td>\n",
              "      <td>THANE</td>\n",
              "      <td>Retail</td>\n",
              "      <td>0000000017</td>\n",
              "      <td>Maharashtra</td>\n",
              "      <td>00:00:00</td>\n",
              "      <td>2012-04-02</td>\n",
              "      <td>7000000014</td>\n",
              "      <td>17:26:52</td>\n",
              "      <td>105</td>\n",
              "      <td>2012-04-02</td>\n",
              "      <td>16:13:11</td>\n",
              "      <td>98474</td>\n",
              "      <td>179.75</td>\n",
              "      <td>MAHINDRA &amp;  MAHINDRA</td>\n",
              "      <td>0.0</td>\n",
              "      <td>LOGAN P</td>\n",
              "      <td>0.00</td>\n",
              "      <td>Running Repairs</td>\n",
              "      <td>0.00</td>\n",
              "      <td>401107</td>\n",
              "      <td>BC01</td>\n",
              "      <td>THANE</td>\n",
              "      <td>NO</td>\n",
              "      <td>0.0</td>\n",
              "      <td>MH04DN6210</td>\n",
              "      <td>179.75</td>\n",
              "      <td>GOLIVE</td>\n",
              "    </tr>\n",
              "    <tr>\n",
              "      <th>2</th>\n",
              "      <td>NaN</td>\n",
              "      <td>Hyderabad</td>\n",
              "      <td>Retail</td>\n",
              "      <td>0000000007</td>\n",
              "      <td>Andhra Pradesh</td>\n",
              "      <td>00:00:00</td>\n",
              "      <td>2012-04-02</td>\n",
              "      <td>7000000016</td>\n",
              "      <td>17:44:03</td>\n",
              "      <td>6</td>\n",
              "      <td>2012-04-02</td>\n",
              "      <td>12:47:59</td>\n",
              "      <td>137832</td>\n",
              "      <td>1340.37</td>\n",
              "      <td>MAHINDRA &amp;  MAHINDRA</td>\n",
              "      <td>0.0</td>\n",
              "      <td>SCORPIO CRDE</td>\n",
              "      <td>0.00</td>\n",
              "      <td>Paid Service</td>\n",
              "      <td>0.00</td>\n",
              "      <td>500038</td>\n",
              "      <td>BC04</td>\n",
              "      <td>BALANAGAR</td>\n",
              "      <td>NO</td>\n",
              "      <td>0.0</td>\n",
              "      <td>AP11AB0153</td>\n",
              "      <td>1340.37</td>\n",
              "      <td>GOLIVE</td>\n",
              "    </tr>\n",
              "    <tr>\n",
              "      <th>3</th>\n",
              "      <td>NaN</td>\n",
              "      <td>Hyderabad</td>\n",
              "      <td>Retail</td>\n",
              "      <td>E22364</td>\n",
              "      <td>Andhra Pradesh</td>\n",
              "      <td>00:00:00</td>\n",
              "      <td>2012-04-02</td>\n",
              "      <td>7000000026</td>\n",
              "      <td>20:04:51</td>\n",
              "      <td>24</td>\n",
              "      <td>2012-04-01</td>\n",
              "      <td>16:19:32</td>\n",
              "      <td>75627</td>\n",
              "      <td>1709.06</td>\n",
              "      <td>MAHINDRA &amp;  MAHINDRA</td>\n",
              "      <td>0.0</td>\n",
              "      <td>SCORPIO CRDE</td>\n",
              "      <td>480.02</td>\n",
              "      <td>Paid Service</td>\n",
              "      <td>3317.37</td>\n",
              "      <td>500023</td>\n",
              "      <td>BC04</td>\n",
              "      <td>BALANAGAR</td>\n",
              "      <td>NO</td>\n",
              "      <td>0.0</td>\n",
              "      <td>AP9BJ4847</td>\n",
              "      <td>5506.45</td>\n",
              "      <td>GOLIVE</td>\n",
              "    </tr>\n",
              "    <tr>\n",
              "      <th>4</th>\n",
              "      <td>NaN</td>\n",
              "      <td>Hyderabad</td>\n",
              "      <td>Retail</td>\n",
              "      <td>E25218</td>\n",
              "      <td>Andhra Pradesh</td>\n",
              "      <td>00:00:00</td>\n",
              "      <td>2012-04-02</td>\n",
              "      <td>7000000027</td>\n",
              "      <td>20:24:21</td>\n",
              "      <td>23</td>\n",
              "      <td>2012-04-01</td>\n",
              "      <td>16:19:32</td>\n",
              "      <td>1</td>\n",
              "      <td>2074.88</td>\n",
              "      <td>TATA MOTORS</td>\n",
              "      <td>0.0</td>\n",
              "      <td>INDICA</td>\n",
              "      <td>0.00</td>\n",
              "      <td>Accidental</td>\n",
              "      <td>3105.67</td>\n",
              "      <td>500045</td>\n",
              "      <td>BC04</td>\n",
              "      <td>BALANAGAR</td>\n",
              "      <td>NO</td>\n",
              "      <td>0.0</td>\n",
              "      <td>AP29BB4586</td>\n",
              "      <td>5180.55</td>\n",
              "      <td>GOLIVE</td>\n",
              "    </tr>\n",
              "  </tbody>\n",
              "</table>\n",
              "</div>"
            ],
            "text/plain": [
              "  Area / Locality       CITY Cust Type  ...     Regn No Total Amt Wtd Tax. User ID\n",
              "0             NaN     Nashik    Retail  ...  MH15BN2714             420.09  GOLIVE\n",
              "1             NaN      THANE    Retail  ...  MH04DN6210             179.75  GOLIVE\n",
              "2             NaN  Hyderabad    Retail  ...  AP11AB0153            1340.37  GOLIVE\n",
              "3             NaN  Hyderabad    Retail  ...   AP9BJ4847            5506.45  GOLIVE\n",
              "4             NaN  Hyderabad    Retail  ...  AP29BB4586            5180.55  GOLIVE\n",
              "\n",
              "[5 rows x 28 columns]"
            ]
          },
          "metadata": {
            "tags": []
          },
          "execution_count": 39
        }
      ]
    },
    {
      "cell_type": "code",
      "metadata": {
        "id": "ADyVxU0TLKJb",
        "colab_type": "code",
        "colab": {}
      },
      "source": [
        "columns_irrelevant = ['Area / Locality', 'Print Status', 'Gate Pass Time', 'Recovrbl Exp']"
      ],
      "execution_count": 0,
      "outputs": []
    },
    {
      "cell_type": "code",
      "metadata": {
        "id": "owC2gn0thq_P",
        "colab_type": "code",
        "colab": {}
      },
      "source": [
        "invoice = invoice.drop(columns=columns_irrelevant)"
      ],
      "execution_count": 0,
      "outputs": []
    },
    {
      "cell_type": "code",
      "metadata": {
        "id": "UIxpmur3jQkx",
        "colab_type": "code",
        "colab": {}
      },
      "source": [
        "invoice.dropna(subset=['Regn No'], inplace=True)"
      ],
      "execution_count": 0,
      "outputs": []
    },
    {
      "cell_type": "code",
      "metadata": {
        "id": "KthPw8BoLX7G",
        "colab_type": "code",
        "colab": {
          "base_uri": "https://localhost:8080/",
          "height": 442
        },
        "outputId": "9027d1b5-2b6c-4533-a91a-58c692ff3b49"
      },
      "source": [
        "invoice.isnull().sum().sort_values()"
      ],
      "execution_count": 43,
      "outputs": [
        {
          "output_type": "execute_result",
          "data": {
            "text/plain": [
              "Labour Total             0\n",
              "Regn No                  0\n",
              "Plant Name1              0\n",
              "Plant                    0\n",
              "Pin code                 0\n",
              "Parts Total              0\n",
              "Order Type               0\n",
              "OSL Total                0\n",
              "Misc Total               0\n",
              "Make                     0\n",
              "Total Amt Wtd Tax.       0\n",
              "User ID                  0\n",
              "JobCard Time             0\n",
              "JobCard Date             0\n",
              "Job Card No              0\n",
              "Invoice Time             0\n",
              "Invoice No               0\n",
              "Invoice Date             0\n",
              "District                 0\n",
              "Customer No.             0\n",
              "KMs Reading              0\n",
              "Cust Type                4\n",
              "CITY                     4\n",
              "Model                 1524\n",
              "dtype: int64"
            ]
          },
          "metadata": {
            "tags": []
          },
          "execution_count": 43
        }
      ]
    },
    {
      "cell_type": "code",
      "metadata": {
        "id": "kCGj8yMNcc7I",
        "colab_type": "code",
        "colab": {}
      },
      "source": [
        "invoice['Cust Type'] = invoice['Cust Type'].fillna(invoice['Cust Type'].mode()[0])\n",
        "invoice['CITY'] = invoice['CITY'].fillna(invoice['CITY'].mode()[0])\n",
        "invoice['Model']  = invoice['Model'].fillna(invoice['Model'].mode()[0])"
      ],
      "execution_count": 0,
      "outputs": []
    },
    {
      "cell_type": "code",
      "metadata": {
        "id": "9BPxLAzujpTb",
        "colab_type": "code",
        "colab": {
          "base_uri": "https://localhost:8080/",
          "height": 442
        },
        "outputId": "85a7270c-f99d-437e-d87a-33f32dbc8257"
      },
      "source": [
        "invoice.isnull().sum().sort_values()"
      ],
      "execution_count": 45,
      "outputs": [
        {
          "output_type": "execute_result",
          "data": {
            "text/plain": [
              "CITY                  0\n",
              "Regn No               0\n",
              "Plant Name1           0\n",
              "Plant                 0\n",
              "Pin code              0\n",
              "Parts Total           0\n",
              "Order Type            0\n",
              "OSL Total             0\n",
              "Model                 0\n",
              "Misc Total            0\n",
              "Make                  0\n",
              "Labour Total          0\n",
              "KMs Reading           0\n",
              "JobCard Time          0\n",
              "JobCard Date          0\n",
              "Job Card No           0\n",
              "Invoice Time          0\n",
              "Invoice No            0\n",
              "Invoice Date          0\n",
              "District              0\n",
              "Customer No.          0\n",
              "Cust Type             0\n",
              "Total Amt Wtd Tax.    0\n",
              "User ID               0\n",
              "dtype: int64"
            ]
          },
          "metadata": {
            "tags": []
          },
          "execution_count": 45
        }
      ]
    },
    {
      "cell_type": "markdown",
      "metadata": {
        "id": "2J0JfMJ8kfkx",
        "colab_type": "text"
      },
      "source": [
        "## Read JTD data\n",
        "* Handle missing and duplicate data."
      ]
    },
    {
      "cell_type": "code",
      "metadata": {
        "id": "Q5YbQqDus6dw",
        "colab_type": "code",
        "outputId": "c95eeaa8-0482-42df-a70b-f4fafdeb333b",
        "colab": {
          "base_uri": "https://localhost:8080/",
          "height": 71
        }
      },
      "source": [
        "jtd = pd.read_csv('/content/drive/My Drive/Colab Notebooks/data/final_csv/jtd.csv', index_col=0)"
      ],
      "execution_count": 46,
      "outputs": [
        {
          "output_type": "stream",
          "text": [
            "/usr/local/lib/python3.6/dist-packages/numpy/lib/arraysetops.py:569: FutureWarning: elementwise comparison failed; returning scalar instead, but in the future will perform elementwise comparison\n",
            "  mask |= (ar1 == a)\n"
          ],
          "name": "stderr"
        }
      ]
    },
    {
      "cell_type": "code",
      "metadata": {
        "id": "4SceHKu8tAEn",
        "colab_type": "code",
        "outputId": "5ba64402-c91b-4237-a8a0-986f6f8ebc83",
        "colab": {
          "base_uri": "https://localhost:8080/",
          "height": 204
        }
      },
      "source": [
        "jtd.head()"
      ],
      "execution_count": 47,
      "outputs": [
        {
          "output_type": "execute_result",
          "data": {
            "text/html": [
              "<div>\n",
              "<style scoped>\n",
              "    .dataframe tbody tr th:only-of-type {\n",
              "        vertical-align: middle;\n",
              "    }\n",
              "\n",
              "    .dataframe tbody tr th {\n",
              "        vertical-align: top;\n",
              "    }\n",
              "\n",
              "    .dataframe thead th {\n",
              "        text-align: right;\n",
              "    }\n",
              "</style>\n",
              "<table border=\"1\" class=\"dataframe\">\n",
              "  <thead>\n",
              "    <tr style=\"text-align: right;\">\n",
              "      <th></th>\n",
              "      <th>DBM Order</th>\n",
              "      <th>Order Item</th>\n",
              "      <th>Material</th>\n",
              "      <th>Labor Value Number</th>\n",
              "      <th>Description</th>\n",
              "      <th>Item Category</th>\n",
              "      <th>Order Quantity</th>\n",
              "      <th>Target quantity UoM</th>\n",
              "      <th>Net value</th>\n",
              "    </tr>\n",
              "  </thead>\n",
              "  <tbody>\n",
              "    <tr>\n",
              "      <th>0</th>\n",
              "      <td>98050</td>\n",
              "      <td>10</td>\n",
              "      <td>1EMJ96615412</td>\n",
              "      <td>NaN</td>\n",
              "      <td>SWITCH A-A/C CONTROL</td>\n",
              "      <td>P002</td>\n",
              "      <td>1.0</td>\n",
              "      <td>EA</td>\n",
              "      <td>5185.92</td>\n",
              "    </tr>\n",
              "    <tr>\n",
              "      <th>1</th>\n",
              "      <td>98050</td>\n",
              "      <td>20</td>\n",
              "      <td>1EMJ96548238</td>\n",
              "      <td>NaN</td>\n",
              "      <td>WEATHER STRIP A-REAR DOOR LH</td>\n",
              "      <td>P002</td>\n",
              "      <td>1.0</td>\n",
              "      <td>EA</td>\n",
              "      <td>1433.49</td>\n",
              "    </tr>\n",
              "    <tr>\n",
              "      <th>2</th>\n",
              "      <td>98050</td>\n",
              "      <td>30</td>\n",
              "      <td>1EMJ96548102</td>\n",
              "      <td>NaN</td>\n",
              "      <td>WEATHER STRIP A-FRONT DOOR LH</td>\n",
              "      <td>P002</td>\n",
              "      <td>1.0</td>\n",
              "      <td>EA</td>\n",
              "      <td>1526.88</td>\n",
              "    </tr>\n",
              "    <tr>\n",
              "      <th>3</th>\n",
              "      <td>98050</td>\n",
              "      <td>40</td>\n",
              "      <td>1EMJ96548239</td>\n",
              "      <td>NaN</td>\n",
              "      <td>WEATHER STRIP A-REAR DOOR RH</td>\n",
              "      <td>P002</td>\n",
              "      <td>1.0</td>\n",
              "      <td>EA</td>\n",
              "      <td>1433.49</td>\n",
              "    </tr>\n",
              "    <tr>\n",
              "      <th>4</th>\n",
              "      <td>98050</td>\n",
              "      <td>50</td>\n",
              "      <td>1EMJ96548103</td>\n",
              "      <td>NaN</td>\n",
              "      <td>WEATHER STRIP A-FRONT DOOR RH</td>\n",
              "      <td>P002</td>\n",
              "      <td>1.0</td>\n",
              "      <td>EA</td>\n",
              "      <td>1526.88</td>\n",
              "    </tr>\n",
              "  </tbody>\n",
              "</table>\n",
              "</div>"
            ],
            "text/plain": [
              "   DBM Order  Order Item  ... Target quantity UoM Net value\n",
              "0      98050          10  ...                  EA   5185.92\n",
              "1      98050          20  ...                  EA   1433.49\n",
              "2      98050          30  ...                  EA   1526.88\n",
              "3      98050          40  ...                  EA   1433.49\n",
              "4      98050          50  ...                  EA   1526.88\n",
              "\n",
              "[5 rows x 9 columns]"
            ]
          },
          "metadata": {
            "tags": []
          },
          "execution_count": 47
        }
      ]
    },
    {
      "cell_type": "code",
      "metadata": {
        "id": "BL1V-0c4kvyz",
        "colab_type": "code",
        "colab": {
          "base_uri": "https://localhost:8080/",
          "height": 34
        },
        "outputId": "1bad4faf-23df-41ff-9e90-e271c3efcc4a"
      },
      "source": [
        "jtd.shape"
      ],
      "execution_count": 48,
      "outputs": [
        {
          "output_type": "execute_result",
          "data": {
            "text/plain": [
              "(5619484, 9)"
            ]
          },
          "metadata": {
            "tags": []
          },
          "execution_count": 48
        }
      ]
    },
    {
      "cell_type": "code",
      "metadata": {
        "id": "yAdjItftkrm3",
        "colab_type": "code",
        "colab": {
          "base_uri": "https://localhost:8080/",
          "height": 187
        },
        "outputId": "63a56212-c3f2-45b2-ad4e-b06898da21d6"
      },
      "source": [
        "jtd.isnull().sum().sort_values()"
      ],
      "execution_count": 49,
      "outputs": [
        {
          "output_type": "execute_result",
          "data": {
            "text/plain": [
              "DBM Order                    0\n",
              "Order Item                   0\n",
              "Item Category                0\n",
              "Order Quantity               0\n",
              "Net value                    0\n",
              "Material                 51629\n",
              "Description              51629\n",
              "Target quantity UoM      51629\n",
              "Labor Value Number     3774033\n",
              "dtype: int64"
            ]
          },
          "metadata": {
            "tags": []
          },
          "execution_count": 49
        }
      ]
    },
    {
      "cell_type": "markdown",
      "metadata": {
        "id": "E_ANL4TJmjIM",
        "colab_type": "text"
      },
      "source": [
        "## Merge the Data\n",
        "**Merge Invoice and Customer Data on Customer No. Key**"
      ]
    },
    {
      "cell_type": "code",
      "metadata": {
        "id": "v9IP3WO9v_uT",
        "colab_type": "code",
        "colab": {}
      },
      "source": [
        "invoice['Customer No.'] = invoice['Customer No.'].str.lstrip('0')"
      ],
      "execution_count": 0,
      "outputs": []
    },
    {
      "cell_type": "code",
      "metadata": {
        "id": "1zgxfmYZsMUo",
        "colab_type": "code",
        "colab": {}
      },
      "source": [
        "customer['Customer No.'] = customer['Customer No.'].astype(str)"
      ],
      "execution_count": 0,
      "outputs": []
    },
    {
      "cell_type": "code",
      "metadata": {
        "id": "4ecC8PX-xsDZ",
        "colab_type": "code",
        "colab": {}
      },
      "source": [
        "invoice_customer = pd.merge(invoice, customer, on='Customer No.')"
      ],
      "execution_count": 0,
      "outputs": []
    },
    {
      "cell_type": "code",
      "metadata": {
        "id": "oVDs_BjwxuoL",
        "colab_type": "code",
        "outputId": "1d87eaa4-54b7-4f75-ea9f-03b70b31c9c6",
        "colab": {
          "base_uri": "https://localhost:8080/",
          "height": 34
        }
      },
      "source": [
        "invoice_customer.shape, len(invoice['Customer No.'].unique()), len(customer['Customer No.'].unique()), len(invoice_customer['Customer No.'].unique())"
      ],
      "execution_count": 53,
      "outputs": [
        {
          "output_type": "execute_result",
          "data": {
            "text/plain": [
              "((981217, 28), 502770, 555338, 502480)"
            ]
          },
          "metadata": {
            "tags": []
          },
          "execution_count": 53
        }
      ]
    },
    {
      "cell_type": "code",
      "metadata": {
        "id": "T_7DAYhv_ULl",
        "colab_type": "code",
        "outputId": "792d2d53-32e5-464a-e67b-966d70881591",
        "colab": {
          "base_uri": "https://localhost:8080/",
          "height": 510
        }
      },
      "source": [
        "invoice_customer.isnull().sum()"
      ],
      "execution_count": 64,
      "outputs": [
        {
          "output_type": "execute_result",
          "data": {
            "text/plain": [
              "CITY                  0\n",
              "Cust Type             0\n",
              "Customer No.          0\n",
              "District              0\n",
              "Invoice Date          0\n",
              "Invoice No            0\n",
              "Invoice Time          0\n",
              "Job Card No           0\n",
              "JobCard Date          0\n",
              "JobCard Time          0\n",
              "KMs Reading           0\n",
              "Labour Total          0\n",
              "Make                  0\n",
              "Misc Total            0\n",
              "Model                 0\n",
              "OSL Total             0\n",
              "Order Type            0\n",
              "Parts Total           0\n",
              "Pin code              0\n",
              "Plant                 0\n",
              "Plant Name1           0\n",
              "Regn No               0\n",
              "Total Amt Wtd Tax.    0\n",
              "User ID               0\n",
              "Business Partner      0\n",
              "Partner Type          0\n",
              "Data Origin           0\n",
              "Title                 0\n",
              "dtype: int64"
            ]
          },
          "metadata": {
            "tags": []
          },
          "execution_count": 64
        }
      ]
    },
    {
      "cell_type": "markdown",
      "metadata": {
        "id": "q2Q2GdF6mwiD",
        "colab_type": "text"
      },
      "source": [
        "**Merge Vehicle and Invoice Customer df based on Registration number and License plat number**"
      ]
    },
    {
      "cell_type": "code",
      "metadata": {
        "id": "Q_k4JBrUmvcB",
        "colab_type": "code",
        "outputId": "8e31b440-da90-49d8-d00b-daaaf3666ae8",
        "colab": {
          "base_uri": "https://localhost:8080/",
          "height": 394
        }
      },
      "source": [
        "invoice_customer.head()"
      ],
      "execution_count": 55,
      "outputs": [
        {
          "output_type": "execute_result",
          "data": {
            "text/html": [
              "<div>\n",
              "<style scoped>\n",
              "    .dataframe tbody tr th:only-of-type {\n",
              "        vertical-align: middle;\n",
              "    }\n",
              "\n",
              "    .dataframe tbody tr th {\n",
              "        vertical-align: top;\n",
              "    }\n",
              "\n",
              "    .dataframe thead th {\n",
              "        text-align: right;\n",
              "    }\n",
              "</style>\n",
              "<table border=\"1\" class=\"dataframe\">\n",
              "  <thead>\n",
              "    <tr style=\"text-align: right;\">\n",
              "      <th></th>\n",
              "      <th>CITY</th>\n",
              "      <th>Cust Type</th>\n",
              "      <th>Customer No.</th>\n",
              "      <th>District</th>\n",
              "      <th>Invoice Date</th>\n",
              "      <th>Invoice No</th>\n",
              "      <th>Invoice Time</th>\n",
              "      <th>Job Card No</th>\n",
              "      <th>JobCard Date</th>\n",
              "      <th>JobCard Time</th>\n",
              "      <th>KMs Reading</th>\n",
              "      <th>Labour Total</th>\n",
              "      <th>Make</th>\n",
              "      <th>Misc Total</th>\n",
              "      <th>Model</th>\n",
              "      <th>OSL Total</th>\n",
              "      <th>Order Type</th>\n",
              "      <th>Parts Total</th>\n",
              "      <th>Pin code</th>\n",
              "      <th>Plant</th>\n",
              "      <th>Plant Name1</th>\n",
              "      <th>Regn No</th>\n",
              "      <th>Total Amt Wtd Tax.</th>\n",
              "      <th>User ID</th>\n",
              "      <th>Business Partner</th>\n",
              "      <th>Partner Type</th>\n",
              "      <th>Data Origin</th>\n",
              "      <th>Title</th>\n",
              "    </tr>\n",
              "  </thead>\n",
              "  <tbody>\n",
              "    <tr>\n",
              "      <th>0</th>\n",
              "      <td>Nashik</td>\n",
              "      <td>Retail</td>\n",
              "      <td>E14006</td>\n",
              "      <td>Maharashtra</td>\n",
              "      <td>2012-04-02</td>\n",
              "      <td>7000000011</td>\n",
              "      <td>17:04:33</td>\n",
              "      <td>101</td>\n",
              "      <td>2012-04-02</td>\n",
              "      <td>15:15:31</td>\n",
              "      <td>80440</td>\n",
              "      <td>420.09</td>\n",
              "      <td>HYUNDAI</td>\n",
              "      <td>0.0</td>\n",
              "      <td>SANTRO</td>\n",
              "      <td>0.0</td>\n",
              "      <td>Running Repairs</td>\n",
              "      <td>0.00</td>\n",
              "      <td>422000</td>\n",
              "      <td>BC03</td>\n",
              "      <td>NASHIK</td>\n",
              "      <td>MH15BN2714</td>\n",
              "      <td>420.09</td>\n",
              "      <td>GOLIVE</td>\n",
              "      <td>E14006</td>\n",
              "      <td>1.0</td>\n",
              "      <td>Z001</td>\n",
              "      <td>2.0</td>\n",
              "    </tr>\n",
              "    <tr>\n",
              "      <th>1</th>\n",
              "      <td>Nashik</td>\n",
              "      <td>Retail</td>\n",
              "      <td>E14006</td>\n",
              "      <td>Maharashtra</td>\n",
              "      <td>2012-12-05</td>\n",
              "      <td>7000016665</td>\n",
              "      <td>17:53:56</td>\n",
              "      <td>16545</td>\n",
              "      <td>2012-12-05</td>\n",
              "      <td>10:45:16</td>\n",
              "      <td>89165</td>\n",
              "      <td>779.09</td>\n",
              "      <td>HYUNDAI</td>\n",
              "      <td>0.0</td>\n",
              "      <td>SANTRO</td>\n",
              "      <td>0.0</td>\n",
              "      <td>Paid Service</td>\n",
              "      <td>858.34</td>\n",
              "      <td>422000</td>\n",
              "      <td>BC03</td>\n",
              "      <td>NASHIK</td>\n",
              "      <td>MH15BN2714</td>\n",
              "      <td>1637.43</td>\n",
              "      <td>BC03SA3</td>\n",
              "      <td>E14006</td>\n",
              "      <td>1.0</td>\n",
              "      <td>Z001</td>\n",
              "      <td>2.0</td>\n",
              "    </tr>\n",
              "    <tr>\n",
              "      <th>2</th>\n",
              "      <td>Nashik</td>\n",
              "      <td>Retail</td>\n",
              "      <td>E14006</td>\n",
              "      <td>Maharashtra</td>\n",
              "      <td>2017-04-14</td>\n",
              "      <td>7164601412</td>\n",
              "      <td>15:29:52</td>\n",
              "      <td>674656</td>\n",
              "      <td>2017-04-13</td>\n",
              "      <td>17:09:17</td>\n",
              "      <td>35165</td>\n",
              "      <td>579.13</td>\n",
              "      <td>HONDA</td>\n",
              "      <td>0.0</td>\n",
              "      <td>CITY</td>\n",
              "      <td>0.0</td>\n",
              "      <td>Paid Service</td>\n",
              "      <td>40.54</td>\n",
              "      <td>422000</td>\n",
              "      <td>X073</td>\n",
              "      <td>X073- KRITI AUTOMOBILE REPAIR</td>\n",
              "      <td>MH15EB5067</td>\n",
              "      <td>619.67</td>\n",
              "      <td>X073SA1</td>\n",
              "      <td>E14006</td>\n",
              "      <td>1.0</td>\n",
              "      <td>Z001</td>\n",
              "      <td>2.0</td>\n",
              "    </tr>\n",
              "    <tr>\n",
              "      <th>3</th>\n",
              "      <td>Nashik</td>\n",
              "      <td>Retail</td>\n",
              "      <td>E14006</td>\n",
              "      <td>Maharashtra</td>\n",
              "      <td>2017-07-26</td>\n",
              "      <td>7164602068</td>\n",
              "      <td>12:07:36</td>\n",
              "      <td>809011</td>\n",
              "      <td>2017-07-26</td>\n",
              "      <td>11:01:16</td>\n",
              "      <td>36165</td>\n",
              "      <td>3.46</td>\n",
              "      <td>HONDA</td>\n",
              "      <td>0.0</td>\n",
              "      <td>CITY</td>\n",
              "      <td>0.0</td>\n",
              "      <td>Running Repairs</td>\n",
              "      <td>0.00</td>\n",
              "      <td>422000</td>\n",
              "      <td>X073</td>\n",
              "      <td>X073- KRITI AUTOMOBILE REPAIR</td>\n",
              "      <td>MH15EB5067</td>\n",
              "      <td>3.46</td>\n",
              "      <td>X073SA1</td>\n",
              "      <td>E14006</td>\n",
              "      <td>1.0</td>\n",
              "      <td>Z001</td>\n",
              "      <td>2.0</td>\n",
              "    </tr>\n",
              "    <tr>\n",
              "      <th>4</th>\n",
              "      <td>Nashik</td>\n",
              "      <td>Retail</td>\n",
              "      <td>E14006</td>\n",
              "      <td>Maharashtra</td>\n",
              "      <td>2014-05-13</td>\n",
              "      <td>7000113010</td>\n",
              "      <td>10:18:16</td>\n",
              "      <td>113877</td>\n",
              "      <td>2014-05-12</td>\n",
              "      <td>10:09:53</td>\n",
              "      <td>104111</td>\n",
              "      <td>1539.84</td>\n",
              "      <td>HYUNDAI</td>\n",
              "      <td>0.0</td>\n",
              "      <td>SANTRO</td>\n",
              "      <td>0.0</td>\n",
              "      <td>Paid Service</td>\n",
              "      <td>1685.14</td>\n",
              "      <td>422000</td>\n",
              "      <td>BC03</td>\n",
              "      <td>NASHIK</td>\n",
              "      <td>MH15BN2714</td>\n",
              "      <td>3224.98</td>\n",
              "      <td>BC03SA2</td>\n",
              "      <td>E14006</td>\n",
              "      <td>1.0</td>\n",
              "      <td>Z001</td>\n",
              "      <td>2.0</td>\n",
              "    </tr>\n",
              "  </tbody>\n",
              "</table>\n",
              "</div>"
            ],
            "text/plain": [
              "     CITY Cust Type Customer No.  ... Partner Type Data Origin  Title\n",
              "0  Nashik    Retail       E14006  ...          1.0        Z001    2.0\n",
              "1  Nashik    Retail       E14006  ...          1.0        Z001    2.0\n",
              "2  Nashik    Retail       E14006  ...          1.0        Z001    2.0\n",
              "3  Nashik    Retail       E14006  ...          1.0        Z001    2.0\n",
              "4  Nashik    Retail       E14006  ...          1.0        Z001    2.0\n",
              "\n",
              "[5 rows x 28 columns]"
            ]
          },
          "metadata": {
            "tags": []
          },
          "execution_count": 55
        }
      ]
    },
    {
      "cell_type": "code",
      "metadata": {
        "id": "MdXw7L2S3DQY",
        "colab_type": "code",
        "colab": {}
      },
      "source": [
        "invoice_customer['Regn No'] = invoice_customer['Regn No'].astype(str)"
      ],
      "execution_count": 0,
      "outputs": []
    },
    {
      "cell_type": "code",
      "metadata": {
        "id": "3rXdqugiUhoH",
        "colab_type": "code",
        "colab": {}
      },
      "source": [
        "vehicles['License Plate Number'] = vehicles['License Plate Number'].astype(str)"
      ],
      "execution_count": 0,
      "outputs": []
    },
    {
      "cell_type": "code",
      "metadata": {
        "id": "lzQQ2GUP3Ma6",
        "colab_type": "code",
        "outputId": "a65df817-d645-4764-9b6a-4ccad94b63c2",
        "colab": {
          "base_uri": "https://localhost:8080/",
          "height": 51
        }
      },
      "source": [
        "vehicles['License Plate Number'].unique()"
      ],
      "execution_count": 58,
      "outputs": [
        {
          "output_type": "execute_result",
          "data": {
            "text/plain": [
              "array(['MH12HN2835', 'TN10AL3462', 'AP28DG9695', ..., 'KA09Z6087',\n",
              "       'TN30K7112', 'KA09MB290'], dtype=object)"
            ]
          },
          "metadata": {
            "tags": []
          },
          "execution_count": 58
        }
      ]
    },
    {
      "cell_type": "code",
      "metadata": {
        "id": "MEABAJsECyV2",
        "colab_type": "code",
        "outputId": "29602405-0087-4e2d-84ed-4b56cc782e64",
        "colab": {
          "base_uri": "https://localhost:8080/",
          "height": 34
        }
      },
      "source": [
        "invoice_customer.shape"
      ],
      "execution_count": 59,
      "outputs": [
        {
          "output_type": "execute_result",
          "data": {
            "text/plain": [
              "(981217, 28)"
            ]
          },
          "metadata": {
            "tags": []
          },
          "execution_count": 59
        }
      ]
    },
    {
      "cell_type": "code",
      "metadata": {
        "id": "O_rVbCif3fLx",
        "colab_type": "code",
        "colab": {}
      },
      "source": [
        "invoice_customer_vehicles = pd.merge(invoice_customer, vehicles, left_on='Regn No', right_on='License Plate Number')"
      ],
      "execution_count": 0,
      "outputs": []
    },
    {
      "cell_type": "code",
      "metadata": {
        "id": "d3ZGvPXG3tiX",
        "colab_type": "code",
        "colab": {}
      },
      "source": [
        "invoice_customer_vehicles.drop(columns='Regn No', inplace=True)"
      ],
      "execution_count": 0,
      "outputs": []
    },
    {
      "cell_type": "code",
      "metadata": {
        "id": "vU4KJFwUP2M8",
        "colab_type": "code",
        "outputId": "c2f1976e-349f-43e8-ca12-0a44fa24d8c2",
        "colab": {
          "base_uri": "https://localhost:8080/",
          "height": 85
        }
      },
      "source": [
        "vehicles.isnull().sum()"
      ],
      "execution_count": 67,
      "outputs": [
        {
          "output_type": "execute_result",
          "data": {
            "text/plain": [
              "Vehicle Model           0\n",
              "License Plate Number    0\n",
              "Fuel Type               0\n",
              "dtype: int64"
            ]
          },
          "metadata": {
            "tags": []
          },
          "execution_count": 67
        }
      ]
    },
    {
      "cell_type": "code",
      "metadata": {
        "id": "xdslQ3ljE16a",
        "colab_type": "code",
        "outputId": "34ae7c9e-0391-4f49-f84d-e6293bd60339",
        "colab": {
          "base_uri": "https://localhost:8080/",
          "height": 544
        }
      },
      "source": [
        "invoice_customer_vehicles.isnull().sum()"
      ],
      "execution_count": 68,
      "outputs": [
        {
          "output_type": "execute_result",
          "data": {
            "text/plain": [
              "CITY                    0\n",
              "Cust Type               0\n",
              "Customer No.            0\n",
              "District                0\n",
              "Invoice Date            0\n",
              "Invoice No              0\n",
              "Invoice Time            0\n",
              "Job Card No             0\n",
              "JobCard Date            0\n",
              "JobCard Time            0\n",
              "KMs Reading             0\n",
              "Labour Total            0\n",
              "Make                    0\n",
              "Misc Total              0\n",
              "Model                   0\n",
              "OSL Total               0\n",
              "Order Type              0\n",
              "Parts Total             0\n",
              "Pin code                0\n",
              "Plant                   0\n",
              "Plant Name1             0\n",
              "Total Amt Wtd Tax.      0\n",
              "User ID                 0\n",
              "Business Partner        0\n",
              "Partner Type            0\n",
              "Data Origin             0\n",
              "Title                   0\n",
              "Vehicle Model           0\n",
              "License Plate Number    0\n",
              "Fuel Type               0\n",
              "dtype: int64"
            ]
          },
          "metadata": {
            "tags": []
          },
          "execution_count": 68
        }
      ]
    },
    {
      "cell_type": "code",
      "metadata": {
        "id": "XTFhuwhcvmNB",
        "colab_type": "code",
        "colab": {
          "base_uri": "https://localhost:8080/",
          "height": 34
        },
        "outputId": "c245fd63-5be6-466b-b017-b9b115223638"
      },
      "source": [
        "invoice_customer_vehicles.shape"
      ],
      "execution_count": 72,
      "outputs": [
        {
          "output_type": "execute_result",
          "data": {
            "text/plain": [
              "(984165, 30)"
            ]
          },
          "metadata": {
            "tags": []
          },
          "execution_count": 72
        }
      ]
    },
    {
      "cell_type": "markdown",
      "metadata": {
        "id": "vP32h0DvvFtp",
        "colab_type": "text"
      },
      "source": [
        "**Merge invoice_customer_vehicles and Plant**"
      ]
    },
    {
      "cell_type": "code",
      "metadata": {
        "id": "xmxkFlXMu9Hc",
        "colab_type": "code",
        "colab": {
          "base_uri": "https://localhost:8080/",
          "height": 34
        },
        "outputId": "dc0e0704-d5be-46ee-9b91-eb5e93fa3a2e"
      },
      "source": [
        "plant.shape"
      ],
      "execution_count": 69,
      "outputs": [
        {
          "output_type": "execute_result",
          "data": {
            "text/plain": [
              "(438, 5)"
            ]
          },
          "metadata": {
            "tags": []
          },
          "execution_count": 69
        }
      ]
    },
    {
      "cell_type": "code",
      "metadata": {
        "id": "IcKRbfOlwaVJ",
        "colab_type": "code",
        "colab": {
          "base_uri": "https://localhost:8080/",
          "height": 34
        },
        "outputId": "003d8be8-611f-4b3b-979a-35500b5312fb"
      },
      "source": [
        "len(invoice_customer_vehicles.Plant.unique()), len(plant.Plant.unique())"
      ],
      "execution_count": 76,
      "outputs": [
        {
          "output_type": "execute_result",
          "data": {
            "text/plain": [
              "(431, 438)"
            ]
          },
          "metadata": {
            "tags": []
          },
          "execution_count": 76
        }
      ]
    },
    {
      "cell_type": "code",
      "metadata": {
        "id": "mt9d-E4kvLmL",
        "colab_type": "code",
        "colab": {}
      },
      "source": [
        "invoice_customer_vehicles_plant = pd.merge(invoice_customer_vehicles, plant, on='Plant', how='left')"
      ],
      "execution_count": 0,
      "outputs": []
    },
    {
      "cell_type": "code",
      "metadata": {
        "id": "jZ5UrVXqvgU5",
        "colab_type": "code",
        "colab": {
          "base_uri": "https://localhost:8080/",
          "height": 34
        },
        "outputId": "8f0d83b8-be30-4102-90ef-1a0bf82fbb52"
      },
      "source": [
        "invoice_customer_vehicles_plant.shape"
      ],
      "execution_count": 78,
      "outputs": [
        {
          "output_type": "execute_result",
          "data": {
            "text/plain": [
              "(984165, 34)"
            ]
          },
          "metadata": {
            "tags": []
          },
          "execution_count": 78
        }
      ]
    }
  ]
}