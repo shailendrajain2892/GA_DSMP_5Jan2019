{
  "nbformat": 4,
  "nbformat_minor": 0,
  "metadata": {
    "colab": {
      "name": "Capstone_Mahindra_First_Choice.ipynb",
      "version": "0.3.2",
      "provenance": [],
      "collapsed_sections": [
        "RP-Ew7HwbmCa",
        "xVqML_yzdr1o",
        "_SjzdmPwoaq4",
        "-gDSUTYQr-83",
        "2J0JfMJ8kfkx",
        "E_ANL4TJmjIM",
        "xboWtcYxLV3J"
      ],
      "include_colab_link": true
    },
    "kernelspec": {
      "name": "python3",
      "display_name": "Python 3"
    }
  },
  "cells": [
    {
      "cell_type": "markdown",
      "metadata": {
        "id": "view-in-github",
        "colab_type": "text"
      },
      "source": [
        "<a href=\"https://colab.research.google.com/github/shailendrajain2892/GA_DSMP_5Jan2019/blob/master/Capstone_Mahindra_First_Choice.ipynb\" target=\"_parent\"><img src=\"https://colab.research.google.com/assets/colab-badge.svg\" alt=\"Open In Colab\"/></a>"
      ]
    },
    {
      "cell_type": "code",
      "metadata": {
        "id": "ijiRV1yciq_5",
        "colab_type": "code",
        "colab": {}
      },
      "source": [
        "import pandas as pd\n",
        "import numpy as np"
      ],
      "execution_count": 0,
      "outputs": []
    },
    {
      "cell_type": "code",
      "metadata": {
        "id": "N4N3OoCEiylL",
        "colab_type": "code",
        "outputId": "b65a8ad5-b5bc-43d6-dd11-54e0cdd1c765",
        "colab": {
          "base_uri": "https://localhost:8080/",
          "height": 34
        }
      },
      "source": [
        "from google.colab import drive\n",
        "drive.mount('/content/drive')"
      ],
      "execution_count": 0,
      "outputs": [
        {
          "output_type": "stream",
          "text": [
            "Drive already mounted at /content/drive; to attempt to forcibly remount, call drive.mount(\"/content/drive\", force_remount=True).\n"
          ],
          "name": "stdout"
        }
      ]
    },
    {
      "cell_type": "markdown",
      "metadata": {
        "id": "RP-Ew7HwbmCa",
        "colab_type": "text"
      },
      "source": [
        "##Load Plant data \n",
        "**remove duplicate and null columns.**"
      ]
    },
    {
      "cell_type": "code",
      "metadata": {
        "id": "8N057FhYjY3K",
        "colab_type": "code",
        "colab": {}
      },
      "source": [
        "plant_full_data = pd.read_csv('./drive/My Drive/Colab Notebooks/data/final_csv/plant.csv', index_col=0)"
      ],
      "execution_count": 0,
      "outputs": []
    },
    {
      "cell_type": "code",
      "metadata": {
        "id": "yEPSpLibktkQ",
        "colab_type": "code",
        "outputId": "4bd65e25-a6e1-4212-c295-02b7e762b369",
        "colab": {
          "base_uri": "https://localhost:8080/",
          "height": 340
        }
      },
      "source": [
        "plant_full_data.head()"
      ],
      "execution_count": 0,
      "outputs": [
        {
          "output_type": "execute_result",
          "data": {
            "text/html": [
              "<div>\n",
              "<style scoped>\n",
              "    .dataframe tbody tr th:only-of-type {\n",
              "        vertical-align: middle;\n",
              "    }\n",
              "\n",
              "    .dataframe tbody tr th {\n",
              "        vertical-align: top;\n",
              "    }\n",
              "\n",
              "    .dataframe thead th {\n",
              "        text-align: right;\n",
              "    }\n",
              "</style>\n",
              "<table border=\"1\" class=\"dataframe\">\n",
              "  <thead>\n",
              "    <tr style=\"text-align: right;\">\n",
              "      <th></th>\n",
              "      <th>Plant</th>\n",
              "      <th>Name 1</th>\n",
              "      <th>Valuation Area</th>\n",
              "      <th>Customer no. - plant</th>\n",
              "      <th>Vendor number plant</th>\n",
              "      <th>Factory calendar</th>\n",
              "      <th>Name 2</th>\n",
              "      <th>House number and street</th>\n",
              "      <th>PO Box</th>\n",
              "      <th>Postal Code</th>\n",
              "      <th>City</th>\n",
              "      <th>Sales organization</th>\n",
              "      <th>State</th>\n",
              "    </tr>\n",
              "  </thead>\n",
              "  <tbody>\n",
              "    <tr>\n",
              "      <th>0</th>\n",
              "      <td>BC07</td>\n",
              "      <td>NERKUNDRAM</td>\n",
              "      <td>BC07</td>\n",
              "      <td>PLBC07</td>\n",
              "      <td>PLBC07</td>\n",
              "      <td>IN</td>\n",
              "      <td>NaN</td>\n",
              "      <td>No.117 Poonamallee High Road,</td>\n",
              "      <td>600107.0</td>\n",
              "      <td>600107</td>\n",
              "      <td>Chennai</td>\n",
              "      <td>MFCS</td>\n",
              "      <td>Tamil Nadu</td>\n",
              "    </tr>\n",
              "    <tr>\n",
              "      <th>1</th>\n",
              "      <td>BC30</td>\n",
              "      <td>SAS NAGAR - MOHALI</td>\n",
              "      <td>BC30</td>\n",
              "      <td>PLBC30</td>\n",
              "      <td>PLBC30</td>\n",
              "      <td>IN</td>\n",
              "      <td>NaN</td>\n",
              "      <td>C-118, Phase 07,</td>\n",
              "      <td>160055.0</td>\n",
              "      <td>160055</td>\n",
              "      <td>Mohali</td>\n",
              "      <td>MFCS</td>\n",
              "      <td>Punjab</td>\n",
              "    </tr>\n",
              "    <tr>\n",
              "      <th>2</th>\n",
              "      <td>X001</td>\n",
              "      <td>X001 - AUTO PLANET WHEELS</td>\n",
              "      <td>X001</td>\n",
              "      <td>PLX001</td>\n",
              "      <td>NaN</td>\n",
              "      <td>IN</td>\n",
              "      <td>Thane</td>\n",
              "      <td>Unit No.3, Kothari Compound,</td>\n",
              "      <td>400610.0</td>\n",
              "      <td>400610</td>\n",
              "      <td>Thane</td>\n",
              "      <td>MFCA</td>\n",
              "      <td>Maharashtra</td>\n",
              "    </tr>\n",
              "    <tr>\n",
              "      <th>3</th>\n",
              "      <td>X002</td>\n",
              "      <td>X002 - BHANDARI INDUSTRIES PVT</td>\n",
              "      <td>X002</td>\n",
              "      <td>PLX002</td>\n",
              "      <td>NaN</td>\n",
              "      <td>IN</td>\n",
              "      <td>Ghaziabad</td>\n",
              "      <td>18/1, C Site 4, Sahibabad</td>\n",
              "      <td>201010.0</td>\n",
              "      <td>201010</td>\n",
              "      <td>Ghaziabad</td>\n",
              "      <td>MFCA</td>\n",
              "      <td>Uttar Pradesh</td>\n",
              "    </tr>\n",
              "    <tr>\n",
              "      <th>4</th>\n",
              "      <td>X003</td>\n",
              "      <td>X003 - Om Sri Satya Sai Automo</td>\n",
              "      <td>X003</td>\n",
              "      <td>PLX003</td>\n",
              "      <td>NaN</td>\n",
              "      <td>IN</td>\n",
              "      <td>Bengaluru</td>\n",
              "      <td>#75, Sy.No. 83/2, Panathur Mai</td>\n",
              "      <td>560087.0</td>\n",
              "      <td>560087</td>\n",
              "      <td>Bengaluru</td>\n",
              "      <td>MFCB</td>\n",
              "      <td>Karnataka</td>\n",
              "    </tr>\n",
              "  </tbody>\n",
              "</table>\n",
              "</div>"
            ],
            "text/plain": [
              "  Plant                          Name 1  ... Sales organization          State\n",
              "0  BC07                      NERKUNDRAM  ...               MFCS     Tamil Nadu\n",
              "1  BC30              SAS NAGAR - MOHALI  ...               MFCS         Punjab\n",
              "2  X001       X001 - AUTO PLANET WHEELS  ...               MFCA    Maharashtra\n",
              "3  X002  X002 - BHANDARI INDUSTRIES PVT  ...               MFCA  Uttar Pradesh\n",
              "4  X003  X003 - Om Sri Satya Sai Automo  ...               MFCB      Karnataka\n",
              "\n",
              "[5 rows x 13 columns]"
            ]
          },
          "metadata": {
            "tags": []
          },
          "execution_count": 4
        }
      ]
    },
    {
      "cell_type": "code",
      "metadata": {
        "id": "R21BLM_DacpH",
        "colab_type": "code",
        "outputId": "fcb7d554-99f7-4c82-9e22-41a27ea111ae",
        "colab": {
          "base_uri": "https://localhost:8080/",
          "height": 255
        }
      },
      "source": [
        "plant_full_data.isnull().sum()"
      ],
      "execution_count": 0,
      "outputs": [
        {
          "output_type": "execute_result",
          "data": {
            "text/plain": [
              "Plant                        0\n",
              "Name 1                       0\n",
              "Valuation Area               0\n",
              "Customer no. - plant         0\n",
              "Vendor number plant        436\n",
              "Factory calendar             0\n",
              "Name 2                       2\n",
              "House number and street      2\n",
              "PO Box                       1\n",
              "Postal Code                  0\n",
              "City                         0\n",
              "Sales organization           5\n",
              "State                        0\n",
              "dtype: int64"
            ]
          },
          "metadata": {
            "tags": []
          },
          "execution_count": 5
        }
      ]
    },
    {
      "cell_type": "code",
      "metadata": {
        "id": "kg1VM_-RaikQ",
        "colab_type": "code",
        "outputId": "447070c6-2790-4c44-defd-cb8c33988243",
        "colab": {
          "base_uri": "https://localhost:8080/",
          "height": 34
        }
      },
      "source": [
        "plant_full_data.shape"
      ],
      "execution_count": 0,
      "outputs": [
        {
          "output_type": "execute_result",
          "data": {
            "text/plain": [
              "(438, 13)"
            ]
          },
          "metadata": {
            "tags": []
          },
          "execution_count": 6
        }
      ]
    },
    {
      "cell_type": "markdown",
      "metadata": {
        "id": "BrLsb6wLc6tK",
        "colab_type": "text"
      },
      "source": [
        "**Drop columns=['Vendor number plant', 'Valuation Area', 'Factory calendar', 'Name 2', 'House number and street', 'PO Box', 'Sales organization']**"
      ]
    },
    {
      "cell_type": "code",
      "metadata": {
        "id": "xiOmysjbam9V",
        "colab_type": "code",
        "colab": {}
      },
      "source": [
        "plant = plant_full_data.drop(columns=['Vendor number plant', 'Valuation Area', 'Factory calendar', 'Name 2', 'House number and street', 'PO Box', 'Sales organization', 'Customer no. - plant'])"
      ],
      "execution_count": 0,
      "outputs": []
    },
    {
      "cell_type": "code",
      "metadata": {
        "id": "x-g1ppOOavsV",
        "colab_type": "code",
        "outputId": "0eddb767-6486-4261-d4de-b6615ad690cf",
        "colab": {
          "base_uri": "https://localhost:8080/",
          "height": 34
        }
      },
      "source": [
        "plant.shape"
      ],
      "execution_count": 0,
      "outputs": [
        {
          "output_type": "execute_result",
          "data": {
            "text/plain": [
              "(438, 5)"
            ]
          },
          "metadata": {
            "tags": []
          },
          "execution_count": 8
        }
      ]
    },
    {
      "cell_type": "code",
      "metadata": {
        "id": "fxctlvb1dMy5",
        "colab_type": "code",
        "outputId": "d2b61f73-3d88-4989-c152-c7415c0aa401",
        "colab": {
          "base_uri": "https://localhost:8080/",
          "height": 119
        }
      },
      "source": [
        "plant.isnull().sum()"
      ],
      "execution_count": 0,
      "outputs": [
        {
          "output_type": "execute_result",
          "data": {
            "text/plain": [
              "Plant          0\n",
              "Name 1         0\n",
              "Postal Code    0\n",
              "City           0\n",
              "State          0\n",
              "dtype: int64"
            ]
          },
          "metadata": {
            "tags": []
          },
          "execution_count": 9
        }
      ]
    },
    {
      "cell_type": "markdown",
      "metadata": {
        "id": "xVqML_yzdr1o",
        "colab_type": "text"
      },
      "source": [
        "##Read Customer Data. \n",
        "**Remove Duplicate and Missing values columns**."
      ]
    },
    {
      "cell_type": "code",
      "metadata": {
        "id": "Ae7b-ddplUqh",
        "colab_type": "code",
        "outputId": "42d841f8-e07c-4a0c-97fb-d3f949316dc1",
        "colab": {
          "base_uri": "https://localhost:8080/",
          "height": 71
        }
      },
      "source": [
        "customer_full_data = pd.read_csv('./drive/My Drive/Colab Notebooks/data/final_csv/customer.csv', index_col=0)"
      ],
      "execution_count": 0,
      "outputs": [
        {
          "output_type": "stream",
          "text": [
            "/usr/local/lib/python3.6/dist-packages/IPython/core/interactiveshell.py:2718: DtypeWarning: Columns (1,2) have mixed types. Specify dtype option on import or set low_memory=False.\n",
            "  interactivity=interactivity, compiler=compiler, result=result)\n"
          ],
          "name": "stderr"
        }
      ]
    },
    {
      "cell_type": "code",
      "metadata": {
        "id": "pzB4RwgXlxrM",
        "colab_type": "code",
        "outputId": "945dddcf-d974-4d1e-86bb-bb8566b9594b",
        "colab": {
          "base_uri": "https://localhost:8080/",
          "height": 204
        }
      },
      "source": [
        "customer_full_data.head()"
      ],
      "execution_count": 0,
      "outputs": [
        {
          "output_type": "execute_result",
          "data": {
            "text/html": [
              "<div>\n",
              "<style scoped>\n",
              "    .dataframe tbody tr th:only-of-type {\n",
              "        vertical-align: middle;\n",
              "    }\n",
              "\n",
              "    .dataframe tbody tr th {\n",
              "        vertical-align: top;\n",
              "    }\n",
              "\n",
              "    .dataframe thead th {\n",
              "        text-align: right;\n",
              "    }\n",
              "</style>\n",
              "<table border=\"1\" class=\"dataframe\">\n",
              "  <thead>\n",
              "    <tr style=\"text-align: right;\">\n",
              "      <th></th>\n",
              "      <th>Business Partner</th>\n",
              "      <th>Customer No.</th>\n",
              "      <th>Partner Type</th>\n",
              "      <th>Data Origin</th>\n",
              "      <th>Title</th>\n",
              "      <th>Marital Status</th>\n",
              "      <th>Occupation</th>\n",
              "      <th>Date of Birth</th>\n",
              "      <th>Death date</th>\n",
              "    </tr>\n",
              "  </thead>\n",
              "  <tbody>\n",
              "    <tr>\n",
              "      <th>0</th>\n",
              "      <td>31</td>\n",
              "      <td>1</td>\n",
              "      <td>1.0</td>\n",
              "      <td>Z001</td>\n",
              "      <td>NaN</td>\n",
              "      <td>NaN</td>\n",
              "      <td>NaN</td>\n",
              "      <td>NaN</td>\n",
              "      <td>NaN</td>\n",
              "    </tr>\n",
              "    <tr>\n",
              "      <th>1</th>\n",
              "      <td>32</td>\n",
              "      <td>2</td>\n",
              "      <td>1.0</td>\n",
              "      <td>Z005</td>\n",
              "      <td>NaN</td>\n",
              "      <td>NaN</td>\n",
              "      <td>NaN</td>\n",
              "      <td>NaN</td>\n",
              "      <td>NaN</td>\n",
              "    </tr>\n",
              "    <tr>\n",
              "      <th>2</th>\n",
              "      <td>34</td>\n",
              "      <td>4</td>\n",
              "      <td>1.0</td>\n",
              "      <td>Z005</td>\n",
              "      <td>NaN</td>\n",
              "      <td>2.0</td>\n",
              "      <td>NaN</td>\n",
              "      <td>NaN</td>\n",
              "      <td>NaN</td>\n",
              "    </tr>\n",
              "    <tr>\n",
              "      <th>3</th>\n",
              "      <td>35</td>\n",
              "      <td>5</td>\n",
              "      <td>1.0</td>\n",
              "      <td>Z005</td>\n",
              "      <td>NaN</td>\n",
              "      <td>NaN</td>\n",
              "      <td>NaN</td>\n",
              "      <td>NaN</td>\n",
              "      <td>NaN</td>\n",
              "    </tr>\n",
              "    <tr>\n",
              "      <th>4</th>\n",
              "      <td>42</td>\n",
              "      <td>7</td>\n",
              "      <td>1.0</td>\n",
              "      <td>Z008</td>\n",
              "      <td>NaN</td>\n",
              "      <td>NaN</td>\n",
              "      <td>NaN</td>\n",
              "      <td>NaN</td>\n",
              "      <td>NaN</td>\n",
              "    </tr>\n",
              "  </tbody>\n",
              "</table>\n",
              "</div>"
            ],
            "text/plain": [
              "  Business Partner Customer No.  ...  Date of Birth Death date\n",
              "0               31            1  ...            NaN        NaN\n",
              "1               32            2  ...            NaN        NaN\n",
              "2               34            4  ...            NaN        NaN\n",
              "3               35            5  ...            NaN        NaN\n",
              "4               42            7  ...            NaN        NaN\n",
              "\n",
              "[5 rows x 9 columns]"
            ]
          },
          "metadata": {
            "tags": []
          },
          "execution_count": 11
        }
      ]
    },
    {
      "cell_type": "code",
      "metadata": {
        "id": "m9o7xFETe5OI",
        "colab_type": "code",
        "outputId": "ab334855-5c82-414b-8e11-3074983e2acc",
        "colab": {
          "base_uri": "https://localhost:8080/",
          "height": 34
        }
      },
      "source": [
        "customer_full_data.shape"
      ],
      "execution_count": 0,
      "outputs": [
        {
          "output_type": "execute_result",
          "data": {
            "text/plain": [
              "(555338, 9)"
            ]
          },
          "metadata": {
            "tags": []
          },
          "execution_count": 12
        }
      ]
    },
    {
      "cell_type": "code",
      "metadata": {
        "id": "1wojI66kVXjs",
        "colab_type": "code",
        "outputId": "d5f89be9-547c-4e7d-f4f2-ff3db5bd64f9",
        "colab": {
          "base_uri": "https://localhost:8080/",
          "height": 187
        }
      },
      "source": [
        "customer_full_data.isnull().sum()"
      ],
      "execution_count": 0,
      "outputs": [
        {
          "output_type": "execute_result",
          "data": {
            "text/plain": [
              "Business Partner         0\n",
              "Customer No.             0\n",
              "Partner Type            78\n",
              "Data Origin            136\n",
              "Title                46307\n",
              "Marital Status      539301\n",
              "Occupation          540780\n",
              "Date of Birth       541894\n",
              "Death date          554675\n",
              "dtype: int64"
            ]
          },
          "metadata": {
            "tags": []
          },
          "execution_count": 13
        }
      ]
    },
    {
      "cell_type": "code",
      "metadata": {
        "id": "mC2YZ6mmgA0q",
        "colab_type": "code",
        "colab": {}
      },
      "source": [
        "customer = customer_full_data.drop(columns = ['Marital Status', 'Occupation', 'Date of Birth', 'Death date', 'Business Partner'])"
      ],
      "execution_count": 0,
      "outputs": []
    },
    {
      "cell_type": "code",
      "metadata": {
        "id": "H9JXOWb-jJxr",
        "colab_type": "code",
        "outputId": "c4673cbc-61e1-4aa4-f9bc-5b967d9620e3",
        "colab": {
          "base_uri": "https://localhost:8080/",
          "height": 102
        }
      },
      "source": [
        "customer.dtypes"
      ],
      "execution_count": 0,
      "outputs": [
        {
          "output_type": "execute_result",
          "data": {
            "text/plain": [
              "Customer No.     object\n",
              "Partner Type    float64\n",
              "Data Origin      object\n",
              "Title           float64\n",
              "dtype: object"
            ]
          },
          "metadata": {
            "tags": []
          },
          "execution_count": 15
        }
      ]
    },
    {
      "cell_type": "code",
      "metadata": {
        "id": "6qOtHQd0gUHt",
        "colab_type": "code",
        "outputId": "7479e1c4-3e6f-49f8-e115-15a7967054be",
        "colab": {
          "base_uri": "https://localhost:8080/",
          "height": 102
        }
      },
      "source": [
        "customer.isnull().sum()"
      ],
      "execution_count": 0,
      "outputs": [
        {
          "output_type": "execute_result",
          "data": {
            "text/plain": [
              "Customer No.        0\n",
              "Partner Type       78\n",
              "Data Origin       136\n",
              "Title           46307\n",
              "dtype: int64"
            ]
          },
          "metadata": {
            "tags": []
          },
          "execution_count": 16
        }
      ]
    },
    {
      "cell_type": "markdown",
      "metadata": {
        "id": "BJs7yJAjlwP2",
        "colab_type": "text"
      },
      "source": [
        "**FIll Missing Values in Partner Type, Data Origin, Title columns with most_frequently used values.**"
      ]
    },
    {
      "cell_type": "code",
      "metadata": {
        "id": "_ezt1434hKqd",
        "colab_type": "code",
        "colab": {}
      },
      "source": [
        "most_frequent_value = customer['Partner Type'].mode()\n",
        "customer['Partner Type'] = customer['Partner Type'].fillna(most_frequent_value[0])"
      ],
      "execution_count": 0,
      "outputs": []
    },
    {
      "cell_type": "code",
      "metadata": {
        "id": "fC5xpwkRlVtZ",
        "colab_type": "code",
        "colab": {}
      },
      "source": [
        "customer['Data Origin'] = customer['Data Origin'].fillna(customer['Data Origin'].mode()[0])"
      ],
      "execution_count": 0,
      "outputs": []
    },
    {
      "cell_type": "code",
      "metadata": {
        "id": "1bT6C0ZnlgUI",
        "colab_type": "code",
        "colab": {}
      },
      "source": [
        "customer['Title'] = customer['Title'].fillna(customer['Title'].mode()[0])"
      ],
      "execution_count": 0,
      "outputs": []
    },
    {
      "cell_type": "code",
      "metadata": {
        "id": "zTUNWHj8lvTE",
        "colab_type": "code",
        "outputId": "69b69c01-4a22-488e-dd78-7b2d70b56fdf",
        "colab": {
          "base_uri": "https://localhost:8080/",
          "height": 102
        }
      },
      "source": [
        "customer.isnull().sum()"
      ],
      "execution_count": 0,
      "outputs": [
        {
          "output_type": "execute_result",
          "data": {
            "text/plain": [
              "Customer No.    0\n",
              "Partner Type    0\n",
              "Data Origin     0\n",
              "Title           0\n",
              "dtype: int64"
            ]
          },
          "metadata": {
            "tags": []
          },
          "execution_count": 20
        }
      ]
    },
    {
      "cell_type": "markdown",
      "metadata": {
        "id": "_SjzdmPwoaq4",
        "colab_type": "text"
      },
      "source": [
        "##Load Vehicle Data. \n",
        "**Treat missing and nan values.**"
      ]
    },
    {
      "cell_type": "code",
      "metadata": {
        "id": "N1SGaJcDl5xE",
        "colab_type": "code",
        "outputId": "60ae276c-35e6-4eef-f1d0-7e6e5ac14e2f",
        "colab": {
          "base_uri": "https://localhost:8080/",
          "height": 71
        }
      },
      "source": [
        "vehicles_full_data = pd.read_csv('./drive/My Drive/Colab Notebooks/data/final_csv/vehicles.csv', index_col=0)"
      ],
      "execution_count": 0,
      "outputs": [
        {
          "output_type": "stream",
          "text": [
            "/usr/local/lib/python3.6/dist-packages/IPython/core/interactiveshell.py:2718: DtypeWarning: Columns (4) have mixed types. Specify dtype option on import or set low_memory=False.\n",
            "  interactivity=interactivity, compiler=compiler, result=result)\n"
          ],
          "name": "stderr"
        }
      ]
    },
    {
      "cell_type": "code",
      "metadata": {
        "id": "e_wT8KtYsVDr",
        "colab_type": "code",
        "outputId": "2a73e1c3-f96f-44ba-84f0-2272406a24ed",
        "colab": {
          "base_uri": "https://localhost:8080/",
          "height": 204
        }
      },
      "source": [
        "vehicles_full_data.head()"
      ],
      "execution_count": 0,
      "outputs": [
        {
          "output_type": "execute_result",
          "data": {
            "text/html": [
              "<div>\n",
              "<style scoped>\n",
              "    .dataframe tbody tr th:only-of-type {\n",
              "        vertical-align: middle;\n",
              "    }\n",
              "\n",
              "    .dataframe tbody tr th {\n",
              "        vertical-align: top;\n",
              "    }\n",
              "\n",
              "    .dataframe thead th {\n",
              "        text-align: right;\n",
              "    }\n",
              "</style>\n",
              "<table border=\"1\" class=\"dataframe\">\n",
              "  <thead>\n",
              "    <tr style=\"text-align: right;\">\n",
              "      <th></th>\n",
              "      <th>Vehicle Model</th>\n",
              "      <th>Product GUID</th>\n",
              "      <th>License Plate Number</th>\n",
              "      <th>Fuel Type</th>\n",
              "    </tr>\n",
              "  </thead>\n",
              "  <tbody>\n",
              "    <tr>\n",
              "      <th>0</th>\n",
              "      <td>Z_MAHINDRA</td>\n",
              "      <td>000C2937F0991ED493A0CC3579ED97ED</td>\n",
              "      <td>MH12HN2835</td>\n",
              "      <td>2</td>\n",
              "    </tr>\n",
              "    <tr>\n",
              "      <th>1</th>\n",
              "      <td>Z_TATA</td>\n",
              "      <td>000C2937F0991ED493A19620CB69DDA0</td>\n",
              "      <td>TN10AL3462</td>\n",
              "      <td>2</td>\n",
              "    </tr>\n",
              "    <tr>\n",
              "      <th>2</th>\n",
              "      <td>Z_MARUTI</td>\n",
              "      <td>000C2937F0991ED493A28DAFBFBA870E</td>\n",
              "      <td>AP28DG9695</td>\n",
              "      <td>1</td>\n",
              "    </tr>\n",
              "    <tr>\n",
              "      <th>3</th>\n",
              "      <td>Z_HONDA</td>\n",
              "      <td>000C2937F0991ED493A496B779A143D3</td>\n",
              "      <td>MH15DS9580</td>\n",
              "      <td>1</td>\n",
              "    </tr>\n",
              "    <tr>\n",
              "      <th>4</th>\n",
              "      <td>Z_MARUTI</td>\n",
              "      <td>000C2937F0991ED493A58273B92EC2F8</td>\n",
              "      <td>MH14CK0669</td>\n",
              "      <td>2</td>\n",
              "    </tr>\n",
              "  </tbody>\n",
              "</table>\n",
              "</div>"
            ],
            "text/plain": [
              "  Vehicle Model  ... Fuel Type\n",
              "0    Z_MAHINDRA  ...         2\n",
              "1        Z_TATA  ...         2\n",
              "2      Z_MARUTI  ...         1\n",
              "3       Z_HONDA  ...         1\n",
              "4      Z_MARUTI  ...         2\n",
              "\n",
              "[5 rows x 4 columns]"
            ]
          },
          "metadata": {
            "tags": []
          },
          "execution_count": 22
        }
      ]
    },
    {
      "cell_type": "code",
      "metadata": {
        "id": "KeshmvEGpTBC",
        "colab_type": "code",
        "outputId": "0c5b8de4-dba4-4df0-d197-7cfd1e1b85d1",
        "colab": {
          "base_uri": "https://localhost:8080/",
          "height": 34
        }
      },
      "source": [
        "vehicles_full_data.shape"
      ],
      "execution_count": 0,
      "outputs": [
        {
          "output_type": "execute_result",
          "data": {
            "text/plain": [
              "(588761, 4)"
            ]
          },
          "metadata": {
            "tags": []
          },
          "execution_count": 23
        }
      ]
    },
    {
      "cell_type": "code",
      "metadata": {
        "id": "5e2KQAa9pLKC",
        "colab_type": "code",
        "outputId": "ff3766da-55b2-491d-ec45-d489f678ea84",
        "colab": {
          "base_uri": "https://localhost:8080/",
          "height": 102
        }
      },
      "source": [
        "vehicles_full_data.isnull().sum()"
      ],
      "execution_count": 0,
      "outputs": [
        {
          "output_type": "execute_result",
          "data": {
            "text/plain": [
              "Vehicle Model               0\n",
              "Product GUID                0\n",
              "License Plate Number     2058\n",
              "Fuel Type               15627\n",
              "dtype: int64"
            ]
          },
          "metadata": {
            "tags": []
          },
          "execution_count": 24
        }
      ]
    },
    {
      "cell_type": "markdown",
      "metadata": {
        "id": "61U8R8REqiYL",
        "colab_type": "text"
      },
      "source": [
        "***`Remove Product GUID column`***"
      ]
    },
    {
      "cell_type": "code",
      "metadata": {
        "id": "kzii6AKApzLH",
        "colab_type": "code",
        "colab": {}
      },
      "source": [
        "vehicles = vehicles_full_data.drop(columns='Product GUID')"
      ],
      "execution_count": 0,
      "outputs": []
    },
    {
      "cell_type": "code",
      "metadata": {
        "id": "rxylrfdyqhtv",
        "colab_type": "code",
        "outputId": "8da2ac3c-da64-4f19-abc6-ba7486abaf06",
        "colab": {
          "base_uri": "https://localhost:8080/",
          "height": 34
        }
      },
      "source": [
        "vehicles.shape"
      ],
      "execution_count": 0,
      "outputs": [
        {
          "output_type": "execute_result",
          "data": {
            "text/plain": [
              "(588761, 3)"
            ]
          },
          "metadata": {
            "tags": []
          },
          "execution_count": 26
        }
      ]
    },
    {
      "cell_type": "code",
      "metadata": {
        "id": "w4___Ep9qw2h",
        "colab_type": "code",
        "outputId": "fd955f7b-d002-40cb-f4c3-1720a417684d",
        "colab": {
          "base_uri": "https://localhost:8080/",
          "height": 85
        }
      },
      "source": [
        "vehicles.isnull().sum()"
      ],
      "execution_count": 0,
      "outputs": [
        {
          "output_type": "execute_result",
          "data": {
            "text/plain": [
              "Vehicle Model               0\n",
              "License Plate Number     2058\n",
              "Fuel Type               15627\n",
              "dtype: int64"
            ]
          },
          "metadata": {
            "tags": []
          },
          "execution_count": 27
        }
      ]
    },
    {
      "cell_type": "code",
      "metadata": {
        "id": "AV3T2ddjq4dO",
        "colab_type": "code",
        "outputId": "a38d5b75-264d-4066-f6b9-7f8afa9ef87e",
        "colab": {
          "base_uri": "https://localhost:8080/",
          "height": 85
        }
      },
      "source": [
        "vehicles.dtypes"
      ],
      "execution_count": 0,
      "outputs": [
        {
          "output_type": "execute_result",
          "data": {
            "text/plain": [
              "Vehicle Model           object\n",
              "License Plate Number    object\n",
              "Fuel Type               object\n",
              "dtype: object"
            ]
          },
          "metadata": {
            "tags": []
          },
          "execution_count": 28
        }
      ]
    },
    {
      "cell_type": "markdown",
      "metadata": {
        "id": "cdjfWR-rrN5s",
        "colab_type": "text"
      },
      "source": [
        "***`Remove vehicles which doesn't have License Plate Number`***"
      ]
    },
    {
      "cell_type": "code",
      "metadata": {
        "id": "CdymoOowpzRB",
        "colab_type": "code",
        "colab": {}
      },
      "source": [
        "vehicles.dropna(subset=['License Plate Number'], inplace=True)"
      ],
      "execution_count": 0,
      "outputs": []
    },
    {
      "cell_type": "code",
      "metadata": {
        "id": "c7_Y8xRIrLKd",
        "colab_type": "code",
        "outputId": "0e7a3dc0-da0d-4891-fbd5-dae781a7205b",
        "colab": {
          "base_uri": "https://localhost:8080/",
          "height": 34
        }
      },
      "source": [
        "vehicles.shape"
      ],
      "execution_count": 0,
      "outputs": [
        {
          "output_type": "execute_result",
          "data": {
            "text/plain": [
              "(586703, 3)"
            ]
          },
          "metadata": {
            "tags": []
          },
          "execution_count": 30
        }
      ]
    },
    {
      "cell_type": "code",
      "metadata": {
        "id": "yIenhMf5raGy",
        "colab_type": "code",
        "colab": {}
      },
      "source": [
        "vehicles['Fuel Type'] = vehicles['Fuel Type'].fillna(vehicles['Fuel Type'].mode()[0])"
      ],
      "execution_count": 0,
      "outputs": []
    },
    {
      "cell_type": "code",
      "metadata": {
        "id": "CePgWMv-r5JV",
        "colab_type": "code",
        "outputId": "5d1d2ec8-82b8-42a7-cfc9-d79c7852a068",
        "colab": {
          "base_uri": "https://localhost:8080/",
          "height": 85
        }
      },
      "source": [
        "vehicles.isnull().sum()"
      ],
      "execution_count": 0,
      "outputs": [
        {
          "output_type": "execute_result",
          "data": {
            "text/plain": [
              "Vehicle Model           0\n",
              "License Plate Number    0\n",
              "Fuel Type               0\n",
              "dtype: int64"
            ]
          },
          "metadata": {
            "tags": []
          },
          "execution_count": 32
        }
      ]
    },
    {
      "cell_type": "markdown",
      "metadata": {
        "id": "-gDSUTYQr-83",
        "colab_type": "text"
      },
      "source": [
        "## Load Invoice Data\n",
        "Handle missing, duplicate data"
      ]
    },
    {
      "cell_type": "code",
      "metadata": {
        "id": "V-e3x0M7si2Y",
        "colab_type": "code",
        "outputId": "8f0b0b93-7942-4e7d-9b25-7034bacd4cb6",
        "colab": {
          "base_uri": "https://localhost:8080/",
          "height": 71
        }
      },
      "source": [
        "invoice_full_data = pd.read_csv('/content/drive/My Drive/Colab Notebooks/data/final_csv/invoice.csv',index_col=0)"
      ],
      "execution_count": 0,
      "outputs": [
        {
          "output_type": "stream",
          "text": [
            "/usr/local/lib/python3.6/dist-packages/IPython/core/interactiveshell.py:2718: DtypeWarning: Columns (9,10,14,15,21,41,51) have mixed types. Specify dtype option on import or set low_memory=False.\n",
            "  interactivity=interactivity, compiler=compiler, result=result)\n"
          ],
          "name": "stderr"
        }
      ]
    },
    {
      "cell_type": "code",
      "metadata": {
        "id": "EHceLpPfss7g",
        "colab_type": "code",
        "outputId": "524971c5-9b65-49f0-a017-aec3ba7473da",
        "colab": {
          "base_uri": "https://localhost:8080/",
          "height": 428
        }
      },
      "source": [
        "invoice_full_data.head()"
      ],
      "execution_count": 0,
      "outputs": [
        {
          "output_type": "execute_result",
          "data": {
            "text/html": [
              "<div>\n",
              "<style scoped>\n",
              "    .dataframe tbody tr th:only-of-type {\n",
              "        vertical-align: middle;\n",
              "    }\n",
              "\n",
              "    .dataframe tbody tr th {\n",
              "        vertical-align: top;\n",
              "    }\n",
              "\n",
              "    .dataframe thead th {\n",
              "        text-align: right;\n",
              "    }\n",
              "</style>\n",
              "<table border=\"1\" class=\"dataframe\">\n",
              "  <thead>\n",
              "    <tr style=\"text-align: right;\">\n",
              "      <th></th>\n",
              "      <th>Amt Rcvd From Custom</th>\n",
              "      <th>Amt Rcvd From Ins Co</th>\n",
              "      <th>Area / Locality</th>\n",
              "      <th>CGST(14%)</th>\n",
              "      <th>CGST(2.5%)</th>\n",
              "      <th>CGST(6%)</th>\n",
              "      <th>CGST(9%)</th>\n",
              "      <th>CITY</th>\n",
              "      <th>Cash /Cashless Type</th>\n",
              "      <th>Claim No.</th>\n",
              "      <th>Cust Type</th>\n",
              "      <th>Customer No.</th>\n",
              "      <th>District</th>\n",
              "      <th>Expiry Date</th>\n",
              "      <th>Gate Pass Date</th>\n",
              "      <th>Gate Pass Time</th>\n",
              "      <th>IGST(12%)</th>\n",
              "      <th>IGST(18%)</th>\n",
              "      <th>IGST(28%)</th>\n",
              "      <th>IGST(5%)</th>\n",
              "      <th>Insurance Company</th>\n",
              "      <th>Invoice Date</th>\n",
              "      <th>Invoice No</th>\n",
              "      <th>Invoice Time</th>\n",
              "      <th>Job Card No</th>\n",
              "      <th>JobCard Date</th>\n",
              "      <th>JobCard Time</th>\n",
              "      <th>KMs Reading</th>\n",
              "      <th>Labour Total</th>\n",
              "      <th>Make</th>\n",
              "      <th>Misc Total</th>\n",
              "      <th>Model</th>\n",
              "      <th>ODN No.</th>\n",
              "      <th>OSL Total</th>\n",
              "      <th>Order Type</th>\n",
              "      <th>Outstanding Amt</th>\n",
              "      <th>Parts Total</th>\n",
              "      <th>Pin code</th>\n",
              "      <th>Plant</th>\n",
              "      <th>Plant Name1</th>\n",
              "      <th>Policy no.</th>\n",
              "      <th>Print Status</th>\n",
              "      <th>Recovrbl Exp</th>\n",
              "      <th>Regn No</th>\n",
              "      <th>SGST/UGST(14%)</th>\n",
              "      <th>SGST/UGST(2.5%)</th>\n",
              "      <th>SGST/UGST(6%)</th>\n",
              "      <th>SGST/UGST(9%)</th>\n",
              "      <th>Service Advisor Name</th>\n",
              "      <th>TDS amount</th>\n",
              "      <th>Technician Name</th>\n",
              "      <th>Total Amt Wtd Tax.</th>\n",
              "      <th>Total CGST</th>\n",
              "      <th>Total GST</th>\n",
              "      <th>Total IGST</th>\n",
              "      <th>Total SGST/UGST</th>\n",
              "      <th>Total Value</th>\n",
              "      <th>User ID</th>\n",
              "    </tr>\n",
              "  </thead>\n",
              "  <tbody>\n",
              "    <tr>\n",
              "      <th>0</th>\n",
              "      <td>0.0</td>\n",
              "      <td>0.0</td>\n",
              "      <td>NaN</td>\n",
              "      <td>0.0</td>\n",
              "      <td>0.0</td>\n",
              "      <td>0.0</td>\n",
              "      <td>0.0</td>\n",
              "      <td>Nashik</td>\n",
              "      <td>NaN</td>\n",
              "      <td>NaN</td>\n",
              "      <td>Retail</td>\n",
              "      <td>E14006</td>\n",
              "      <td>Maharashtra</td>\n",
              "      <td>NaN</td>\n",
              "      <td>NaN</td>\n",
              "      <td>00:00:00</td>\n",
              "      <td>0.0</td>\n",
              "      <td>0.0</td>\n",
              "      <td>0.0</td>\n",
              "      <td>0.0</td>\n",
              "      <td>NaN</td>\n",
              "      <td>2012-04-02</td>\n",
              "      <td>7000000011</td>\n",
              "      <td>17:04:33</td>\n",
              "      <td>101</td>\n",
              "      <td>2012-04-02</td>\n",
              "      <td>15:15:31</td>\n",
              "      <td>80440</td>\n",
              "      <td>420.09</td>\n",
              "      <td>HYUNDAI</td>\n",
              "      <td>0.0</td>\n",
              "      <td>SANTRO</td>\n",
              "      <td>7.000000e+09</td>\n",
              "      <td>0.00</td>\n",
              "      <td>Running Repairs</td>\n",
              "      <td>0.0</td>\n",
              "      <td>0.00</td>\n",
              "      <td>422000</td>\n",
              "      <td>BC03</td>\n",
              "      <td>NASHIK</td>\n",
              "      <td>NaN</td>\n",
              "      <td>NO</td>\n",
              "      <td>0.0</td>\n",
              "      <td>MH15BN2714</td>\n",
              "      <td>0.0</td>\n",
              "      <td>0.0</td>\n",
              "      <td>0.0</td>\n",
              "      <td>0.0</td>\n",
              "      <td>NaN</td>\n",
              "      <td>0.0</td>\n",
              "      <td>NaN</td>\n",
              "      <td>420.09</td>\n",
              "      <td>0.0</td>\n",
              "      <td>0.0</td>\n",
              "      <td>0.0</td>\n",
              "      <td>0.0</td>\n",
              "      <td>420.09</td>\n",
              "      <td>GOLIVE</td>\n",
              "    </tr>\n",
              "    <tr>\n",
              "      <th>1</th>\n",
              "      <td>0.0</td>\n",
              "      <td>0.0</td>\n",
              "      <td>NaN</td>\n",
              "      <td>0.0</td>\n",
              "      <td>0.0</td>\n",
              "      <td>0.0</td>\n",
              "      <td>0.0</td>\n",
              "      <td>THANE</td>\n",
              "      <td>NaN</td>\n",
              "      <td>NaN</td>\n",
              "      <td>Retail</td>\n",
              "      <td>0000000017</td>\n",
              "      <td>Maharashtra</td>\n",
              "      <td>NaN</td>\n",
              "      <td>NaN</td>\n",
              "      <td>00:00:00</td>\n",
              "      <td>0.0</td>\n",
              "      <td>0.0</td>\n",
              "      <td>0.0</td>\n",
              "      <td>0.0</td>\n",
              "      <td>NaN</td>\n",
              "      <td>2012-04-02</td>\n",
              "      <td>7000000014</td>\n",
              "      <td>17:26:52</td>\n",
              "      <td>105</td>\n",
              "      <td>2012-04-02</td>\n",
              "      <td>16:13:11</td>\n",
              "      <td>98474</td>\n",
              "      <td>179.75</td>\n",
              "      <td>MAHINDRA &amp;  MAHINDRA</td>\n",
              "      <td>0.0</td>\n",
              "      <td>LOGAN P</td>\n",
              "      <td>7.000000e+09</td>\n",
              "      <td>0.00</td>\n",
              "      <td>Running Repairs</td>\n",
              "      <td>0.0</td>\n",
              "      <td>0.00</td>\n",
              "      <td>401107</td>\n",
              "      <td>BC01</td>\n",
              "      <td>THANE</td>\n",
              "      <td>NaN</td>\n",
              "      <td>NO</td>\n",
              "      <td>0.0</td>\n",
              "      <td>MH04DN6210</td>\n",
              "      <td>0.0</td>\n",
              "      <td>0.0</td>\n",
              "      <td>0.0</td>\n",
              "      <td>0.0</td>\n",
              "      <td>NaN</td>\n",
              "      <td>0.0</td>\n",
              "      <td>NaN</td>\n",
              "      <td>179.75</td>\n",
              "      <td>0.0</td>\n",
              "      <td>0.0</td>\n",
              "      <td>0.0</td>\n",
              "      <td>0.0</td>\n",
              "      <td>179.75</td>\n",
              "      <td>GOLIVE</td>\n",
              "    </tr>\n",
              "    <tr>\n",
              "      <th>2</th>\n",
              "      <td>0.0</td>\n",
              "      <td>0.0</td>\n",
              "      <td>NaN</td>\n",
              "      <td>0.0</td>\n",
              "      <td>0.0</td>\n",
              "      <td>0.0</td>\n",
              "      <td>0.0</td>\n",
              "      <td>Hyderabad</td>\n",
              "      <td>NaN</td>\n",
              "      <td>NaN</td>\n",
              "      <td>Retail</td>\n",
              "      <td>0000000007</td>\n",
              "      <td>Andhra Pradesh</td>\n",
              "      <td>NaN</td>\n",
              "      <td>NaN</td>\n",
              "      <td>00:00:00</td>\n",
              "      <td>0.0</td>\n",
              "      <td>0.0</td>\n",
              "      <td>0.0</td>\n",
              "      <td>0.0</td>\n",
              "      <td>NaN</td>\n",
              "      <td>2012-04-02</td>\n",
              "      <td>7000000016</td>\n",
              "      <td>17:44:03</td>\n",
              "      <td>6</td>\n",
              "      <td>2012-04-02</td>\n",
              "      <td>12:47:59</td>\n",
              "      <td>137832</td>\n",
              "      <td>1340.37</td>\n",
              "      <td>MAHINDRA &amp;  MAHINDRA</td>\n",
              "      <td>0.0</td>\n",
              "      <td>SCORPIO CRDE</td>\n",
              "      <td>7.000000e+09</td>\n",
              "      <td>0.00</td>\n",
              "      <td>Paid Service</td>\n",
              "      <td>0.0</td>\n",
              "      <td>0.00</td>\n",
              "      <td>500038</td>\n",
              "      <td>BC04</td>\n",
              "      <td>BALANAGAR</td>\n",
              "      <td>NaN</td>\n",
              "      <td>NO</td>\n",
              "      <td>0.0</td>\n",
              "      <td>AP11AB0153</td>\n",
              "      <td>0.0</td>\n",
              "      <td>0.0</td>\n",
              "      <td>0.0</td>\n",
              "      <td>0.0</td>\n",
              "      <td>NaN</td>\n",
              "      <td>0.0</td>\n",
              "      <td>NaN</td>\n",
              "      <td>1340.37</td>\n",
              "      <td>0.0</td>\n",
              "      <td>0.0</td>\n",
              "      <td>0.0</td>\n",
              "      <td>0.0</td>\n",
              "      <td>1340.37</td>\n",
              "      <td>GOLIVE</td>\n",
              "    </tr>\n",
              "    <tr>\n",
              "      <th>3</th>\n",
              "      <td>0.0</td>\n",
              "      <td>0.0</td>\n",
              "      <td>NaN</td>\n",
              "      <td>0.0</td>\n",
              "      <td>0.0</td>\n",
              "      <td>0.0</td>\n",
              "      <td>0.0</td>\n",
              "      <td>Hyderabad</td>\n",
              "      <td>NaN</td>\n",
              "      <td>NaN</td>\n",
              "      <td>Retail</td>\n",
              "      <td>E22364</td>\n",
              "      <td>Andhra Pradesh</td>\n",
              "      <td>NaN</td>\n",
              "      <td>NaN</td>\n",
              "      <td>00:00:00</td>\n",
              "      <td>0.0</td>\n",
              "      <td>0.0</td>\n",
              "      <td>0.0</td>\n",
              "      <td>0.0</td>\n",
              "      <td>NaN</td>\n",
              "      <td>2012-04-02</td>\n",
              "      <td>7000000026</td>\n",
              "      <td>20:04:51</td>\n",
              "      <td>24</td>\n",
              "      <td>2012-04-01</td>\n",
              "      <td>16:19:32</td>\n",
              "      <td>75627</td>\n",
              "      <td>1709.06</td>\n",
              "      <td>MAHINDRA &amp;  MAHINDRA</td>\n",
              "      <td>0.0</td>\n",
              "      <td>SCORPIO CRDE</td>\n",
              "      <td>7.000000e+09</td>\n",
              "      <td>480.02</td>\n",
              "      <td>Paid Service</td>\n",
              "      <td>0.0</td>\n",
              "      <td>3317.37</td>\n",
              "      <td>500023</td>\n",
              "      <td>BC04</td>\n",
              "      <td>BALANAGAR</td>\n",
              "      <td>NaN</td>\n",
              "      <td>NO</td>\n",
              "      <td>0.0</td>\n",
              "      <td>AP9BJ4847</td>\n",
              "      <td>0.0</td>\n",
              "      <td>0.0</td>\n",
              "      <td>0.0</td>\n",
              "      <td>0.0</td>\n",
              "      <td>NaN</td>\n",
              "      <td>0.0</td>\n",
              "      <td>4302339</td>\n",
              "      <td>5506.45</td>\n",
              "      <td>0.0</td>\n",
              "      <td>0.0</td>\n",
              "      <td>0.0</td>\n",
              "      <td>0.0</td>\n",
              "      <td>5506.45</td>\n",
              "      <td>GOLIVE</td>\n",
              "    </tr>\n",
              "    <tr>\n",
              "      <th>4</th>\n",
              "      <td>0.0</td>\n",
              "      <td>0.0</td>\n",
              "      <td>NaN</td>\n",
              "      <td>0.0</td>\n",
              "      <td>0.0</td>\n",
              "      <td>0.0</td>\n",
              "      <td>0.0</td>\n",
              "      <td>Hyderabad</td>\n",
              "      <td>NaN</td>\n",
              "      <td>NaN</td>\n",
              "      <td>Retail</td>\n",
              "      <td>E25218</td>\n",
              "      <td>Andhra Pradesh</td>\n",
              "      <td>NaN</td>\n",
              "      <td>NaN</td>\n",
              "      <td>00:00:00</td>\n",
              "      <td>0.0</td>\n",
              "      <td>0.0</td>\n",
              "      <td>0.0</td>\n",
              "      <td>0.0</td>\n",
              "      <td>NaN</td>\n",
              "      <td>2012-04-02</td>\n",
              "      <td>7000000027</td>\n",
              "      <td>20:24:21</td>\n",
              "      <td>23</td>\n",
              "      <td>2012-04-01</td>\n",
              "      <td>16:19:32</td>\n",
              "      <td>1</td>\n",
              "      <td>2074.88</td>\n",
              "      <td>TATA MOTORS</td>\n",
              "      <td>0.0</td>\n",
              "      <td>INDICA</td>\n",
              "      <td>7.000000e+09</td>\n",
              "      <td>0.00</td>\n",
              "      <td>Accidental</td>\n",
              "      <td>0.0</td>\n",
              "      <td>3105.67</td>\n",
              "      <td>500045</td>\n",
              "      <td>BC04</td>\n",
              "      <td>BALANAGAR</td>\n",
              "      <td>NaN</td>\n",
              "      <td>NO</td>\n",
              "      <td>0.0</td>\n",
              "      <td>AP29BB4586</td>\n",
              "      <td>0.0</td>\n",
              "      <td>0.0</td>\n",
              "      <td>0.0</td>\n",
              "      <td>0.0</td>\n",
              "      <td>NaN</td>\n",
              "      <td>0.0</td>\n",
              "      <td>4302337</td>\n",
              "      <td>5180.55</td>\n",
              "      <td>0.0</td>\n",
              "      <td>0.0</td>\n",
              "      <td>0.0</td>\n",
              "      <td>0.0</td>\n",
              "      <td>5180.55</td>\n",
              "      <td>GOLIVE</td>\n",
              "    </tr>\n",
              "  </tbody>\n",
              "</table>\n",
              "</div>"
            ],
            "text/plain": [
              "   Amt Rcvd From Custom  Amt Rcvd From Ins Co  ... Total Value  User ID\n",
              "0                   0.0                   0.0  ...      420.09   GOLIVE\n",
              "1                   0.0                   0.0  ...      179.75   GOLIVE\n",
              "2                   0.0                   0.0  ...     1340.37   GOLIVE\n",
              "3                   0.0                   0.0  ...     5506.45   GOLIVE\n",
              "4                   0.0                   0.0  ...     5180.55   GOLIVE\n",
              "\n",
              "[5 rows x 58 columns]"
            ]
          },
          "metadata": {
            "tags": []
          },
          "execution_count": 34
        }
      ]
    },
    {
      "cell_type": "code",
      "metadata": {
        "id": "vEJjDsZOsWvd",
        "colab_type": "code",
        "outputId": "32d6070a-e8e6-4767-88d8-57d82540ada0",
        "colab": {
          "base_uri": "https://localhost:8080/",
          "height": 34
        }
      },
      "source": [
        "invoice_full_data.shape"
      ],
      "execution_count": 0,
      "outputs": [
        {
          "output_type": "execute_result",
          "data": {
            "text/plain": [
              "(984741, 58)"
            ]
          },
          "metadata": {
            "tags": []
          },
          "execution_count": 35
        }
      ]
    },
    {
      "cell_type": "code",
      "metadata": {
        "id": "fXG5tq3bsW-x",
        "colab_type": "code",
        "colab": {}
      },
      "source": [
        "columns_to_be_removed = invoice_full_data.isnull().sum()[invoice_full_data.isnull().sum().sort_values() > 29178].index"
      ],
      "execution_count": 0,
      "outputs": []
    },
    {
      "cell_type": "code",
      "metadata": {
        "id": "NqOKaco9D_ly",
        "colab_type": "code",
        "colab": {}
      },
      "source": [
        "invoice = invoice_full_data.drop(columns=columns_to_be_removed)"
      ],
      "execution_count": 0,
      "outputs": []
    },
    {
      "cell_type": "code",
      "metadata": {
        "id": "CE-wcFK9EEhJ",
        "colab_type": "code",
        "outputId": "a94af170-5a26-4caf-dc32-c5b5f1b94829",
        "colab": {
          "base_uri": "https://localhost:8080/",
          "height": 34
        }
      },
      "source": [
        "invoice.shape"
      ],
      "execution_count": 0,
      "outputs": [
        {
          "output_type": "execute_result",
          "data": {
            "text/plain": [
              "(984741, 28)"
            ]
          },
          "metadata": {
            "tags": []
          },
          "execution_count": 38
        }
      ]
    },
    {
      "cell_type": "code",
      "metadata": {
        "id": "M32ZbEo5EK8s",
        "colab_type": "code",
        "outputId": "2cf2fa41-9a08-4f6c-855d-ed0e3333fc3a",
        "colab": {
          "base_uri": "https://localhost:8080/",
          "height": 411
        }
      },
      "source": [
        "invoice.head(5)"
      ],
      "execution_count": 0,
      "outputs": [
        {
          "output_type": "execute_result",
          "data": {
            "text/html": [
              "<div>\n",
              "<style scoped>\n",
              "    .dataframe tbody tr th:only-of-type {\n",
              "        vertical-align: middle;\n",
              "    }\n",
              "\n",
              "    .dataframe tbody tr th {\n",
              "        vertical-align: top;\n",
              "    }\n",
              "\n",
              "    .dataframe thead th {\n",
              "        text-align: right;\n",
              "    }\n",
              "</style>\n",
              "<table border=\"1\" class=\"dataframe\">\n",
              "  <thead>\n",
              "    <tr style=\"text-align: right;\">\n",
              "      <th></th>\n",
              "      <th>Area / Locality</th>\n",
              "      <th>CITY</th>\n",
              "      <th>Cust Type</th>\n",
              "      <th>Customer No.</th>\n",
              "      <th>District</th>\n",
              "      <th>Gate Pass Time</th>\n",
              "      <th>Invoice Date</th>\n",
              "      <th>Invoice No</th>\n",
              "      <th>Invoice Time</th>\n",
              "      <th>Job Card No</th>\n",
              "      <th>JobCard Date</th>\n",
              "      <th>JobCard Time</th>\n",
              "      <th>KMs Reading</th>\n",
              "      <th>Labour Total</th>\n",
              "      <th>Make</th>\n",
              "      <th>Misc Total</th>\n",
              "      <th>Model</th>\n",
              "      <th>OSL Total</th>\n",
              "      <th>Order Type</th>\n",
              "      <th>Parts Total</th>\n",
              "      <th>Pin code</th>\n",
              "      <th>Plant</th>\n",
              "      <th>Plant Name1</th>\n",
              "      <th>Print Status</th>\n",
              "      <th>Recovrbl Exp</th>\n",
              "      <th>Regn No</th>\n",
              "      <th>Total Amt Wtd Tax.</th>\n",
              "      <th>User ID</th>\n",
              "    </tr>\n",
              "  </thead>\n",
              "  <tbody>\n",
              "    <tr>\n",
              "      <th>0</th>\n",
              "      <td>NaN</td>\n",
              "      <td>Nashik</td>\n",
              "      <td>Retail</td>\n",
              "      <td>E14006</td>\n",
              "      <td>Maharashtra</td>\n",
              "      <td>00:00:00</td>\n",
              "      <td>2012-04-02</td>\n",
              "      <td>7000000011</td>\n",
              "      <td>17:04:33</td>\n",
              "      <td>101</td>\n",
              "      <td>2012-04-02</td>\n",
              "      <td>15:15:31</td>\n",
              "      <td>80440</td>\n",
              "      <td>420.09</td>\n",
              "      <td>HYUNDAI</td>\n",
              "      <td>0.0</td>\n",
              "      <td>SANTRO</td>\n",
              "      <td>0.00</td>\n",
              "      <td>Running Repairs</td>\n",
              "      <td>0.00</td>\n",
              "      <td>422000</td>\n",
              "      <td>BC03</td>\n",
              "      <td>NASHIK</td>\n",
              "      <td>NO</td>\n",
              "      <td>0.0</td>\n",
              "      <td>MH15BN2714</td>\n",
              "      <td>420.09</td>\n",
              "      <td>GOLIVE</td>\n",
              "    </tr>\n",
              "    <tr>\n",
              "      <th>1</th>\n",
              "      <td>NaN</td>\n",
              "      <td>THANE</td>\n",
              "      <td>Retail</td>\n",
              "      <td>0000000017</td>\n",
              "      <td>Maharashtra</td>\n",
              "      <td>00:00:00</td>\n",
              "      <td>2012-04-02</td>\n",
              "      <td>7000000014</td>\n",
              "      <td>17:26:52</td>\n",
              "      <td>105</td>\n",
              "      <td>2012-04-02</td>\n",
              "      <td>16:13:11</td>\n",
              "      <td>98474</td>\n",
              "      <td>179.75</td>\n",
              "      <td>MAHINDRA &amp;  MAHINDRA</td>\n",
              "      <td>0.0</td>\n",
              "      <td>LOGAN P</td>\n",
              "      <td>0.00</td>\n",
              "      <td>Running Repairs</td>\n",
              "      <td>0.00</td>\n",
              "      <td>401107</td>\n",
              "      <td>BC01</td>\n",
              "      <td>THANE</td>\n",
              "      <td>NO</td>\n",
              "      <td>0.0</td>\n",
              "      <td>MH04DN6210</td>\n",
              "      <td>179.75</td>\n",
              "      <td>GOLIVE</td>\n",
              "    </tr>\n",
              "    <tr>\n",
              "      <th>2</th>\n",
              "      <td>NaN</td>\n",
              "      <td>Hyderabad</td>\n",
              "      <td>Retail</td>\n",
              "      <td>0000000007</td>\n",
              "      <td>Andhra Pradesh</td>\n",
              "      <td>00:00:00</td>\n",
              "      <td>2012-04-02</td>\n",
              "      <td>7000000016</td>\n",
              "      <td>17:44:03</td>\n",
              "      <td>6</td>\n",
              "      <td>2012-04-02</td>\n",
              "      <td>12:47:59</td>\n",
              "      <td>137832</td>\n",
              "      <td>1340.37</td>\n",
              "      <td>MAHINDRA &amp;  MAHINDRA</td>\n",
              "      <td>0.0</td>\n",
              "      <td>SCORPIO CRDE</td>\n",
              "      <td>0.00</td>\n",
              "      <td>Paid Service</td>\n",
              "      <td>0.00</td>\n",
              "      <td>500038</td>\n",
              "      <td>BC04</td>\n",
              "      <td>BALANAGAR</td>\n",
              "      <td>NO</td>\n",
              "      <td>0.0</td>\n",
              "      <td>AP11AB0153</td>\n",
              "      <td>1340.37</td>\n",
              "      <td>GOLIVE</td>\n",
              "    </tr>\n",
              "    <tr>\n",
              "      <th>3</th>\n",
              "      <td>NaN</td>\n",
              "      <td>Hyderabad</td>\n",
              "      <td>Retail</td>\n",
              "      <td>E22364</td>\n",
              "      <td>Andhra Pradesh</td>\n",
              "      <td>00:00:00</td>\n",
              "      <td>2012-04-02</td>\n",
              "      <td>7000000026</td>\n",
              "      <td>20:04:51</td>\n",
              "      <td>24</td>\n",
              "      <td>2012-04-01</td>\n",
              "      <td>16:19:32</td>\n",
              "      <td>75627</td>\n",
              "      <td>1709.06</td>\n",
              "      <td>MAHINDRA &amp;  MAHINDRA</td>\n",
              "      <td>0.0</td>\n",
              "      <td>SCORPIO CRDE</td>\n",
              "      <td>480.02</td>\n",
              "      <td>Paid Service</td>\n",
              "      <td>3317.37</td>\n",
              "      <td>500023</td>\n",
              "      <td>BC04</td>\n",
              "      <td>BALANAGAR</td>\n",
              "      <td>NO</td>\n",
              "      <td>0.0</td>\n",
              "      <td>AP9BJ4847</td>\n",
              "      <td>5506.45</td>\n",
              "      <td>GOLIVE</td>\n",
              "    </tr>\n",
              "    <tr>\n",
              "      <th>4</th>\n",
              "      <td>NaN</td>\n",
              "      <td>Hyderabad</td>\n",
              "      <td>Retail</td>\n",
              "      <td>E25218</td>\n",
              "      <td>Andhra Pradesh</td>\n",
              "      <td>00:00:00</td>\n",
              "      <td>2012-04-02</td>\n",
              "      <td>7000000027</td>\n",
              "      <td>20:24:21</td>\n",
              "      <td>23</td>\n",
              "      <td>2012-04-01</td>\n",
              "      <td>16:19:32</td>\n",
              "      <td>1</td>\n",
              "      <td>2074.88</td>\n",
              "      <td>TATA MOTORS</td>\n",
              "      <td>0.0</td>\n",
              "      <td>INDICA</td>\n",
              "      <td>0.00</td>\n",
              "      <td>Accidental</td>\n",
              "      <td>3105.67</td>\n",
              "      <td>500045</td>\n",
              "      <td>BC04</td>\n",
              "      <td>BALANAGAR</td>\n",
              "      <td>NO</td>\n",
              "      <td>0.0</td>\n",
              "      <td>AP29BB4586</td>\n",
              "      <td>5180.55</td>\n",
              "      <td>GOLIVE</td>\n",
              "    </tr>\n",
              "  </tbody>\n",
              "</table>\n",
              "</div>"
            ],
            "text/plain": [
              "  Area / Locality       CITY Cust Type  ...     Regn No Total Amt Wtd Tax. User ID\n",
              "0             NaN     Nashik    Retail  ...  MH15BN2714             420.09  GOLIVE\n",
              "1             NaN      THANE    Retail  ...  MH04DN6210             179.75  GOLIVE\n",
              "2             NaN  Hyderabad    Retail  ...  AP11AB0153            1340.37  GOLIVE\n",
              "3             NaN  Hyderabad    Retail  ...   AP9BJ4847            5506.45  GOLIVE\n",
              "4             NaN  Hyderabad    Retail  ...  AP29BB4586            5180.55  GOLIVE\n",
              "\n",
              "[5 rows x 28 columns]"
            ]
          },
          "metadata": {
            "tags": []
          },
          "execution_count": 39
        }
      ]
    },
    {
      "cell_type": "code",
      "metadata": {
        "id": "ADyVxU0TLKJb",
        "colab_type": "code",
        "colab": {}
      },
      "source": [
        "columns_irrelevant = ['Area / Locality', 'Print Status', 'Gate Pass Time', 'Recovrbl Exp']"
      ],
      "execution_count": 0,
      "outputs": []
    },
    {
      "cell_type": "code",
      "metadata": {
        "id": "owC2gn0thq_P",
        "colab_type": "code",
        "colab": {}
      },
      "source": [
        "invoice = invoice.drop(columns=columns_irrelevant)"
      ],
      "execution_count": 0,
      "outputs": []
    },
    {
      "cell_type": "code",
      "metadata": {
        "id": "UIxpmur3jQkx",
        "colab_type": "code",
        "colab": {}
      },
      "source": [
        "invoice.dropna(subset=['Regn No'], inplace=True)"
      ],
      "execution_count": 0,
      "outputs": []
    },
    {
      "cell_type": "code",
      "metadata": {
        "id": "KthPw8BoLX7G",
        "colab_type": "code",
        "outputId": "226011d9-f5f7-436d-f855-e14740ca06e5",
        "colab": {
          "base_uri": "https://localhost:8080/",
          "height": 442
        }
      },
      "source": [
        "invoice.isnull().sum().sort_values()"
      ],
      "execution_count": 0,
      "outputs": [
        {
          "output_type": "execute_result",
          "data": {
            "text/plain": [
              "Labour Total             0\n",
              "Regn No                  0\n",
              "Plant Name1              0\n",
              "Plant                    0\n",
              "Pin code                 0\n",
              "Parts Total              0\n",
              "Order Type               0\n",
              "OSL Total                0\n",
              "Misc Total               0\n",
              "Make                     0\n",
              "Total Amt Wtd Tax.       0\n",
              "User ID                  0\n",
              "JobCard Time             0\n",
              "JobCard Date             0\n",
              "Job Card No              0\n",
              "Invoice Time             0\n",
              "Invoice No               0\n",
              "Invoice Date             0\n",
              "District                 0\n",
              "Customer No.             0\n",
              "KMs Reading              0\n",
              "Cust Type                4\n",
              "CITY                     4\n",
              "Model                 1524\n",
              "dtype: int64"
            ]
          },
          "metadata": {
            "tags": []
          },
          "execution_count": 43
        }
      ]
    },
    {
      "cell_type": "code",
      "metadata": {
        "id": "kCGj8yMNcc7I",
        "colab_type": "code",
        "colab": {}
      },
      "source": [
        "invoice['Cust Type'] = invoice['Cust Type'].fillna(invoice['Cust Type'].mode()[0])\n",
        "invoice['CITY'] = invoice['CITY'].fillna(invoice['CITY'].mode()[0])\n",
        "invoice['Model']  = invoice['Model'].fillna(invoice['Model'].mode()[0])"
      ],
      "execution_count": 0,
      "outputs": []
    },
    {
      "cell_type": "code",
      "metadata": {
        "id": "9BPxLAzujpTb",
        "colab_type": "code",
        "outputId": "55e94aeb-c45c-4dcf-c658-b60b351b655a",
        "colab": {
          "base_uri": "https://localhost:8080/",
          "height": 442
        }
      },
      "source": [
        "invoice.isnull().sum().sort_values()"
      ],
      "execution_count": 0,
      "outputs": [
        {
          "output_type": "execute_result",
          "data": {
            "text/plain": [
              "CITY                  0\n",
              "Regn No               0\n",
              "Plant Name1           0\n",
              "Plant                 0\n",
              "Pin code              0\n",
              "Parts Total           0\n",
              "Order Type            0\n",
              "OSL Total             0\n",
              "Model                 0\n",
              "Misc Total            0\n",
              "Make                  0\n",
              "Labour Total          0\n",
              "KMs Reading           0\n",
              "JobCard Time          0\n",
              "JobCard Date          0\n",
              "Job Card No           0\n",
              "Invoice Time          0\n",
              "Invoice No            0\n",
              "Invoice Date          0\n",
              "District              0\n",
              "Customer No.          0\n",
              "Cust Type             0\n",
              "Total Amt Wtd Tax.    0\n",
              "User ID               0\n",
              "dtype: int64"
            ]
          },
          "metadata": {
            "tags": []
          },
          "execution_count": 45
        }
      ]
    },
    {
      "cell_type": "markdown",
      "metadata": {
        "id": "2J0JfMJ8kfkx",
        "colab_type": "text"
      },
      "source": [
        "## Read JTD data\n",
        "* Handle missing and duplicate data."
      ]
    },
    {
      "cell_type": "code",
      "metadata": {
        "id": "Q5YbQqDus6dw",
        "colab_type": "code",
        "outputId": "36342b70-3cd3-4625-8540-b81b629fce9f",
        "colab": {
          "base_uri": "https://localhost:8080/",
          "height": 71
        }
      },
      "source": [
        "jtd = pd.read_csv('/content/drive/My Drive/Colab Notebooks/data/final_csv/jtd.csv', index_col=0)"
      ],
      "execution_count": 0,
      "outputs": [
        {
          "output_type": "stream",
          "text": [
            "/usr/local/lib/python3.6/dist-packages/numpy/lib/arraysetops.py:569: FutureWarning: elementwise comparison failed; returning scalar instead, but in the future will perform elementwise comparison\n",
            "  mask |= (ar1 == a)\n"
          ],
          "name": "stderr"
        }
      ]
    },
    {
      "cell_type": "code",
      "metadata": {
        "id": "4SceHKu8tAEn",
        "colab_type": "code",
        "outputId": "6766b67c-af71-4035-879c-5692b8f0bc6a",
        "colab": {
          "base_uri": "https://localhost:8080/",
          "height": 204
        }
      },
      "source": [
        "jtd.head()"
      ],
      "execution_count": 0,
      "outputs": [
        {
          "output_type": "execute_result",
          "data": {
            "text/html": [
              "<div>\n",
              "<style scoped>\n",
              "    .dataframe tbody tr th:only-of-type {\n",
              "        vertical-align: middle;\n",
              "    }\n",
              "\n",
              "    .dataframe tbody tr th {\n",
              "        vertical-align: top;\n",
              "    }\n",
              "\n",
              "    .dataframe thead th {\n",
              "        text-align: right;\n",
              "    }\n",
              "</style>\n",
              "<table border=\"1\" class=\"dataframe\">\n",
              "  <thead>\n",
              "    <tr style=\"text-align: right;\">\n",
              "      <th></th>\n",
              "      <th>DBM Order</th>\n",
              "      <th>Order Item</th>\n",
              "      <th>Material</th>\n",
              "      <th>Labor Value Number</th>\n",
              "      <th>Description</th>\n",
              "      <th>Item Category</th>\n",
              "      <th>Order Quantity</th>\n",
              "      <th>Target quantity UoM</th>\n",
              "      <th>Net value</th>\n",
              "    </tr>\n",
              "  </thead>\n",
              "  <tbody>\n",
              "    <tr>\n",
              "      <th>0</th>\n",
              "      <td>98050</td>\n",
              "      <td>10</td>\n",
              "      <td>1EMJ96615412</td>\n",
              "      <td>NaN</td>\n",
              "      <td>SWITCH A-A/C CONTROL</td>\n",
              "      <td>P002</td>\n",
              "      <td>1.0</td>\n",
              "      <td>EA</td>\n",
              "      <td>5185.92</td>\n",
              "    </tr>\n",
              "    <tr>\n",
              "      <th>1</th>\n",
              "      <td>98050</td>\n",
              "      <td>20</td>\n",
              "      <td>1EMJ96548238</td>\n",
              "      <td>NaN</td>\n",
              "      <td>WEATHER STRIP A-REAR DOOR LH</td>\n",
              "      <td>P002</td>\n",
              "      <td>1.0</td>\n",
              "      <td>EA</td>\n",
              "      <td>1433.49</td>\n",
              "    </tr>\n",
              "    <tr>\n",
              "      <th>2</th>\n",
              "      <td>98050</td>\n",
              "      <td>30</td>\n",
              "      <td>1EMJ96548102</td>\n",
              "      <td>NaN</td>\n",
              "      <td>WEATHER STRIP A-FRONT DOOR LH</td>\n",
              "      <td>P002</td>\n",
              "      <td>1.0</td>\n",
              "      <td>EA</td>\n",
              "      <td>1526.88</td>\n",
              "    </tr>\n",
              "    <tr>\n",
              "      <th>3</th>\n",
              "      <td>98050</td>\n",
              "      <td>40</td>\n",
              "      <td>1EMJ96548239</td>\n",
              "      <td>NaN</td>\n",
              "      <td>WEATHER STRIP A-REAR DOOR RH</td>\n",
              "      <td>P002</td>\n",
              "      <td>1.0</td>\n",
              "      <td>EA</td>\n",
              "      <td>1433.49</td>\n",
              "    </tr>\n",
              "    <tr>\n",
              "      <th>4</th>\n",
              "      <td>98050</td>\n",
              "      <td>50</td>\n",
              "      <td>1EMJ96548103</td>\n",
              "      <td>NaN</td>\n",
              "      <td>WEATHER STRIP A-FRONT DOOR RH</td>\n",
              "      <td>P002</td>\n",
              "      <td>1.0</td>\n",
              "      <td>EA</td>\n",
              "      <td>1526.88</td>\n",
              "    </tr>\n",
              "  </tbody>\n",
              "</table>\n",
              "</div>"
            ],
            "text/plain": [
              "   DBM Order  Order Item  ... Target quantity UoM Net value\n",
              "0      98050          10  ...                  EA   5185.92\n",
              "1      98050          20  ...                  EA   1433.49\n",
              "2      98050          30  ...                  EA   1526.88\n",
              "3      98050          40  ...                  EA   1433.49\n",
              "4      98050          50  ...                  EA   1526.88\n",
              "\n",
              "[5 rows x 9 columns]"
            ]
          },
          "metadata": {
            "tags": []
          },
          "execution_count": 47
        }
      ]
    },
    {
      "cell_type": "code",
      "metadata": {
        "id": "BL1V-0c4kvyz",
        "colab_type": "code",
        "outputId": "6fea86e5-2698-4877-dfe6-3059fd860bf8",
        "colab": {
          "base_uri": "https://localhost:8080/",
          "height": 34
        }
      },
      "source": [
        "jtd.shape"
      ],
      "execution_count": 0,
      "outputs": [
        {
          "output_type": "execute_result",
          "data": {
            "text/plain": [
              "(5619484, 9)"
            ]
          },
          "metadata": {
            "tags": []
          },
          "execution_count": 48
        }
      ]
    },
    {
      "cell_type": "code",
      "metadata": {
        "id": "yAdjItftkrm3",
        "colab_type": "code",
        "outputId": "06978038-d33b-4fad-a92e-f7e5a155478d",
        "colab": {
          "base_uri": "https://localhost:8080/",
          "height": 187
        }
      },
      "source": [
        "jtd.isnull().sum().sort_values()"
      ],
      "execution_count": 0,
      "outputs": [
        {
          "output_type": "execute_result",
          "data": {
            "text/plain": [
              "DBM Order                    0\n",
              "Order Item                   0\n",
              "Item Category                0\n",
              "Order Quantity               0\n",
              "Net value                    0\n",
              "Material                 51629\n",
              "Description              51629\n",
              "Target quantity UoM      51629\n",
              "Labor Value Number     3774033\n",
              "dtype: int64"
            ]
          },
          "metadata": {
            "tags": []
          },
          "execution_count": 49
        }
      ]
    },
    {
      "cell_type": "markdown",
      "metadata": {
        "id": "E_ANL4TJmjIM",
        "colab_type": "text"
      },
      "source": [
        "## Merge the Data\n",
        "**Merge Invoice and Customer Data on Customer No. Key**"
      ]
    },
    {
      "cell_type": "code",
      "metadata": {
        "id": "v9IP3WO9v_uT",
        "colab_type": "code",
        "colab": {}
      },
      "source": [
        "invoice['Customer No.'] = invoice['Customer No.'].str.lstrip('0')"
      ],
      "execution_count": 0,
      "outputs": []
    },
    {
      "cell_type": "code",
      "metadata": {
        "id": "1zgxfmYZsMUo",
        "colab_type": "code",
        "colab": {}
      },
      "source": [
        "customer['Customer No.'] = customer['Customer No.'].astype(str)"
      ],
      "execution_count": 0,
      "outputs": []
    },
    {
      "cell_type": "code",
      "metadata": {
        "id": "4ecC8PX-xsDZ",
        "colab_type": "code",
        "colab": {}
      },
      "source": [
        "invoice_customer = pd.merge(invoice, customer, on='Customer No.')"
      ],
      "execution_count": 0,
      "outputs": []
    },
    {
      "cell_type": "code",
      "metadata": {
        "id": "oVDs_BjwxuoL",
        "colab_type": "code",
        "outputId": "fd1f3571-72df-4bba-a0f7-21f5e10c927d",
        "colab": {
          "base_uri": "https://localhost:8080/",
          "height": 34
        }
      },
      "source": [
        "invoice_customer.shape, len(invoice['Customer No.'].unique()), len(customer['Customer No.'].unique()), len(invoice_customer['Customer No.'].unique())"
      ],
      "execution_count": 0,
      "outputs": [
        {
          "output_type": "execute_result",
          "data": {
            "text/plain": [
              "((981217, 27), 502770, 555338, 502480)"
            ]
          },
          "metadata": {
            "tags": []
          },
          "execution_count": 53
        }
      ]
    },
    {
      "cell_type": "code",
      "metadata": {
        "id": "T_7DAYhv_ULl",
        "colab_type": "code",
        "outputId": "da04aeda-79de-4b0c-856c-fdebb6227dd9",
        "colab": {
          "base_uri": "https://localhost:8080/",
          "height": 493
        }
      },
      "source": [
        "invoice_customer.isnull().sum()"
      ],
      "execution_count": 0,
      "outputs": [
        {
          "output_type": "execute_result",
          "data": {
            "text/plain": [
              "CITY                  0\n",
              "Cust Type             0\n",
              "Customer No.          0\n",
              "District              0\n",
              "Invoice Date          0\n",
              "Invoice No            0\n",
              "Invoice Time          0\n",
              "Job Card No           0\n",
              "JobCard Date          0\n",
              "JobCard Time          0\n",
              "KMs Reading           0\n",
              "Labour Total          0\n",
              "Make                  0\n",
              "Misc Total            0\n",
              "Model                 0\n",
              "OSL Total             0\n",
              "Order Type            0\n",
              "Parts Total           0\n",
              "Pin code              0\n",
              "Plant                 0\n",
              "Plant Name1           0\n",
              "Regn No               0\n",
              "Total Amt Wtd Tax.    0\n",
              "User ID               0\n",
              "Partner Type          0\n",
              "Data Origin           0\n",
              "Title                 0\n",
              "dtype: int64"
            ]
          },
          "metadata": {
            "tags": []
          },
          "execution_count": 54
        }
      ]
    },
    {
      "cell_type": "markdown",
      "metadata": {
        "id": "q2Q2GdF6mwiD",
        "colab_type": "text"
      },
      "source": [
        "**Merge Vehicle and Invoice Customer df based on Registration number and License plat number**"
      ]
    },
    {
      "cell_type": "code",
      "metadata": {
        "id": "Q_k4JBrUmvcB",
        "colab_type": "code",
        "outputId": "ebcc75d3-da0b-4bcc-89af-e4aaf3aa7ff1",
        "colab": {
          "base_uri": "https://localhost:8080/",
          "height": 394
        }
      },
      "source": [
        "invoice_customer.head()"
      ],
      "execution_count": 0,
      "outputs": [
        {
          "output_type": "execute_result",
          "data": {
            "text/html": [
              "<div>\n",
              "<style scoped>\n",
              "    .dataframe tbody tr th:only-of-type {\n",
              "        vertical-align: middle;\n",
              "    }\n",
              "\n",
              "    .dataframe tbody tr th {\n",
              "        vertical-align: top;\n",
              "    }\n",
              "\n",
              "    .dataframe thead th {\n",
              "        text-align: right;\n",
              "    }\n",
              "</style>\n",
              "<table border=\"1\" class=\"dataframe\">\n",
              "  <thead>\n",
              "    <tr style=\"text-align: right;\">\n",
              "      <th></th>\n",
              "      <th>CITY</th>\n",
              "      <th>Cust Type</th>\n",
              "      <th>Customer No.</th>\n",
              "      <th>District</th>\n",
              "      <th>Invoice Date</th>\n",
              "      <th>Invoice No</th>\n",
              "      <th>Invoice Time</th>\n",
              "      <th>Job Card No</th>\n",
              "      <th>JobCard Date</th>\n",
              "      <th>JobCard Time</th>\n",
              "      <th>KMs Reading</th>\n",
              "      <th>Labour Total</th>\n",
              "      <th>Make</th>\n",
              "      <th>Misc Total</th>\n",
              "      <th>Model</th>\n",
              "      <th>OSL Total</th>\n",
              "      <th>Order Type</th>\n",
              "      <th>Parts Total</th>\n",
              "      <th>Pin code</th>\n",
              "      <th>Plant</th>\n",
              "      <th>Plant Name1</th>\n",
              "      <th>Regn No</th>\n",
              "      <th>Total Amt Wtd Tax.</th>\n",
              "      <th>User ID</th>\n",
              "      <th>Partner Type</th>\n",
              "      <th>Data Origin</th>\n",
              "      <th>Title</th>\n",
              "    </tr>\n",
              "  </thead>\n",
              "  <tbody>\n",
              "    <tr>\n",
              "      <th>0</th>\n",
              "      <td>Nashik</td>\n",
              "      <td>Retail</td>\n",
              "      <td>E14006</td>\n",
              "      <td>Maharashtra</td>\n",
              "      <td>2012-04-02</td>\n",
              "      <td>7000000011</td>\n",
              "      <td>17:04:33</td>\n",
              "      <td>101</td>\n",
              "      <td>2012-04-02</td>\n",
              "      <td>15:15:31</td>\n",
              "      <td>80440</td>\n",
              "      <td>420.09</td>\n",
              "      <td>HYUNDAI</td>\n",
              "      <td>0.0</td>\n",
              "      <td>SANTRO</td>\n",
              "      <td>0.0</td>\n",
              "      <td>Running Repairs</td>\n",
              "      <td>0.00</td>\n",
              "      <td>422000</td>\n",
              "      <td>BC03</td>\n",
              "      <td>NASHIK</td>\n",
              "      <td>MH15BN2714</td>\n",
              "      <td>420.09</td>\n",
              "      <td>GOLIVE</td>\n",
              "      <td>1.0</td>\n",
              "      <td>Z001</td>\n",
              "      <td>2.0</td>\n",
              "    </tr>\n",
              "    <tr>\n",
              "      <th>1</th>\n",
              "      <td>Nashik</td>\n",
              "      <td>Retail</td>\n",
              "      <td>E14006</td>\n",
              "      <td>Maharashtra</td>\n",
              "      <td>2012-12-05</td>\n",
              "      <td>7000016665</td>\n",
              "      <td>17:53:56</td>\n",
              "      <td>16545</td>\n",
              "      <td>2012-12-05</td>\n",
              "      <td>10:45:16</td>\n",
              "      <td>89165</td>\n",
              "      <td>779.09</td>\n",
              "      <td>HYUNDAI</td>\n",
              "      <td>0.0</td>\n",
              "      <td>SANTRO</td>\n",
              "      <td>0.0</td>\n",
              "      <td>Paid Service</td>\n",
              "      <td>858.34</td>\n",
              "      <td>422000</td>\n",
              "      <td>BC03</td>\n",
              "      <td>NASHIK</td>\n",
              "      <td>MH15BN2714</td>\n",
              "      <td>1637.43</td>\n",
              "      <td>BC03SA3</td>\n",
              "      <td>1.0</td>\n",
              "      <td>Z001</td>\n",
              "      <td>2.0</td>\n",
              "    </tr>\n",
              "    <tr>\n",
              "      <th>2</th>\n",
              "      <td>Nashik</td>\n",
              "      <td>Retail</td>\n",
              "      <td>E14006</td>\n",
              "      <td>Maharashtra</td>\n",
              "      <td>2017-04-14</td>\n",
              "      <td>7164601412</td>\n",
              "      <td>15:29:52</td>\n",
              "      <td>674656</td>\n",
              "      <td>2017-04-13</td>\n",
              "      <td>17:09:17</td>\n",
              "      <td>35165</td>\n",
              "      <td>579.13</td>\n",
              "      <td>HONDA</td>\n",
              "      <td>0.0</td>\n",
              "      <td>CITY</td>\n",
              "      <td>0.0</td>\n",
              "      <td>Paid Service</td>\n",
              "      <td>40.54</td>\n",
              "      <td>422000</td>\n",
              "      <td>X073</td>\n",
              "      <td>X073- KRITI AUTOMOBILE REPAIR</td>\n",
              "      <td>MH15EB5067</td>\n",
              "      <td>619.67</td>\n",
              "      <td>X073SA1</td>\n",
              "      <td>1.0</td>\n",
              "      <td>Z001</td>\n",
              "      <td>2.0</td>\n",
              "    </tr>\n",
              "    <tr>\n",
              "      <th>3</th>\n",
              "      <td>Nashik</td>\n",
              "      <td>Retail</td>\n",
              "      <td>E14006</td>\n",
              "      <td>Maharashtra</td>\n",
              "      <td>2017-07-26</td>\n",
              "      <td>7164602068</td>\n",
              "      <td>12:07:36</td>\n",
              "      <td>809011</td>\n",
              "      <td>2017-07-26</td>\n",
              "      <td>11:01:16</td>\n",
              "      <td>36165</td>\n",
              "      <td>3.46</td>\n",
              "      <td>HONDA</td>\n",
              "      <td>0.0</td>\n",
              "      <td>CITY</td>\n",
              "      <td>0.0</td>\n",
              "      <td>Running Repairs</td>\n",
              "      <td>0.00</td>\n",
              "      <td>422000</td>\n",
              "      <td>X073</td>\n",
              "      <td>X073- KRITI AUTOMOBILE REPAIR</td>\n",
              "      <td>MH15EB5067</td>\n",
              "      <td>3.46</td>\n",
              "      <td>X073SA1</td>\n",
              "      <td>1.0</td>\n",
              "      <td>Z001</td>\n",
              "      <td>2.0</td>\n",
              "    </tr>\n",
              "    <tr>\n",
              "      <th>4</th>\n",
              "      <td>Nashik</td>\n",
              "      <td>Retail</td>\n",
              "      <td>E14006</td>\n",
              "      <td>Maharashtra</td>\n",
              "      <td>2014-05-13</td>\n",
              "      <td>7000113010</td>\n",
              "      <td>10:18:16</td>\n",
              "      <td>113877</td>\n",
              "      <td>2014-05-12</td>\n",
              "      <td>10:09:53</td>\n",
              "      <td>104111</td>\n",
              "      <td>1539.84</td>\n",
              "      <td>HYUNDAI</td>\n",
              "      <td>0.0</td>\n",
              "      <td>SANTRO</td>\n",
              "      <td>0.0</td>\n",
              "      <td>Paid Service</td>\n",
              "      <td>1685.14</td>\n",
              "      <td>422000</td>\n",
              "      <td>BC03</td>\n",
              "      <td>NASHIK</td>\n",
              "      <td>MH15BN2714</td>\n",
              "      <td>3224.98</td>\n",
              "      <td>BC03SA2</td>\n",
              "      <td>1.0</td>\n",
              "      <td>Z001</td>\n",
              "      <td>2.0</td>\n",
              "    </tr>\n",
              "  </tbody>\n",
              "</table>\n",
              "</div>"
            ],
            "text/plain": [
              "     CITY Cust Type Customer No.  ... Partner Type Data Origin  Title\n",
              "0  Nashik    Retail       E14006  ...          1.0        Z001    2.0\n",
              "1  Nashik    Retail       E14006  ...          1.0        Z001    2.0\n",
              "2  Nashik    Retail       E14006  ...          1.0        Z001    2.0\n",
              "3  Nashik    Retail       E14006  ...          1.0        Z001    2.0\n",
              "4  Nashik    Retail       E14006  ...          1.0        Z001    2.0\n",
              "\n",
              "[5 rows x 27 columns]"
            ]
          },
          "metadata": {
            "tags": []
          },
          "execution_count": 55
        }
      ]
    },
    {
      "cell_type": "code",
      "metadata": {
        "id": "MdXw7L2S3DQY",
        "colab_type": "code",
        "colab": {}
      },
      "source": [
        "invoice_customer['Regn No'] = invoice_customer['Regn No'].astype(str)"
      ],
      "execution_count": 0,
      "outputs": []
    },
    {
      "cell_type": "code",
      "metadata": {
        "id": "3rXdqugiUhoH",
        "colab_type": "code",
        "colab": {}
      },
      "source": [
        "vehicles['License Plate Number'] = vehicles['License Plate Number'].astype(str)"
      ],
      "execution_count": 0,
      "outputs": []
    },
    {
      "cell_type": "code",
      "metadata": {
        "id": "lzQQ2GUP3Ma6",
        "colab_type": "code",
        "outputId": "d6ad1d62-b375-4e0d-d253-dc876a3f055a",
        "colab": {
          "base_uri": "https://localhost:8080/",
          "height": 51
        }
      },
      "source": [
        "vehicles['License Plate Number'].unique()"
      ],
      "execution_count": 0,
      "outputs": [
        {
          "output_type": "execute_result",
          "data": {
            "text/plain": [
              "array(['MH12HN2835', 'TN10AL3462', 'AP28DG9695', ..., 'KA09Z6087',\n",
              "       'TN30K7112', 'KA09MB290'], dtype=object)"
            ]
          },
          "metadata": {
            "tags": []
          },
          "execution_count": 58
        }
      ]
    },
    {
      "cell_type": "code",
      "metadata": {
        "id": "MEABAJsECyV2",
        "colab_type": "code",
        "outputId": "dd021102-1558-4bce-9d78-e95302c326d8",
        "colab": {
          "base_uri": "https://localhost:8080/",
          "height": 34
        }
      },
      "source": [
        "invoice_customer.shape"
      ],
      "execution_count": 0,
      "outputs": [
        {
          "output_type": "execute_result",
          "data": {
            "text/plain": [
              "(981217, 27)"
            ]
          },
          "metadata": {
            "tags": []
          },
          "execution_count": 59
        }
      ]
    },
    {
      "cell_type": "code",
      "metadata": {
        "id": "O_rVbCif3fLx",
        "colab_type": "code",
        "colab": {}
      },
      "source": [
        "invoice_customer_vehicles = pd.merge(invoice_customer, vehicles, left_on='Regn No', right_on='License Plate Number')"
      ],
      "execution_count": 0,
      "outputs": []
    },
    {
      "cell_type": "code",
      "metadata": {
        "id": "d3ZGvPXG3tiX",
        "colab_type": "code",
        "colab": {}
      },
      "source": [
        "invoice_customer_vehicles.drop(columns='Regn No', inplace=True)"
      ],
      "execution_count": 0,
      "outputs": []
    },
    {
      "cell_type": "code",
      "metadata": {
        "id": "vU4KJFwUP2M8",
        "colab_type": "code",
        "outputId": "4f702aa0-c1d2-47c0-879b-99ae3aac489e",
        "colab": {
          "base_uri": "https://localhost:8080/",
          "height": 85
        }
      },
      "source": [
        "vehicles.isnull().sum()"
      ],
      "execution_count": 0,
      "outputs": [
        {
          "output_type": "execute_result",
          "data": {
            "text/plain": [
              "Vehicle Model           0\n",
              "License Plate Number    0\n",
              "Fuel Type               0\n",
              "dtype: int64"
            ]
          },
          "metadata": {
            "tags": []
          },
          "execution_count": 62
        }
      ]
    },
    {
      "cell_type": "code",
      "metadata": {
        "id": "xdslQ3ljE16a",
        "colab_type": "code",
        "outputId": "75d1a72e-b6a7-47cb-ecd5-a66c0adb19a4",
        "colab": {
          "base_uri": "https://localhost:8080/",
          "height": 527
        }
      },
      "source": [
        "invoice_customer_vehicles.isnull().sum()"
      ],
      "execution_count": 0,
      "outputs": [
        {
          "output_type": "execute_result",
          "data": {
            "text/plain": [
              "CITY                    0\n",
              "Cust Type               0\n",
              "Customer No.            0\n",
              "District                0\n",
              "Invoice Date            0\n",
              "Invoice No              0\n",
              "Invoice Time            0\n",
              "Job Card No             0\n",
              "JobCard Date            0\n",
              "JobCard Time            0\n",
              "KMs Reading             0\n",
              "Labour Total            0\n",
              "Make                    0\n",
              "Misc Total              0\n",
              "Model                   0\n",
              "OSL Total               0\n",
              "Order Type              0\n",
              "Parts Total             0\n",
              "Pin code                0\n",
              "Plant                   0\n",
              "Plant Name1             0\n",
              "Total Amt Wtd Tax.      0\n",
              "User ID                 0\n",
              "Partner Type            0\n",
              "Data Origin             0\n",
              "Title                   0\n",
              "Vehicle Model           0\n",
              "License Plate Number    0\n",
              "Fuel Type               0\n",
              "dtype: int64"
            ]
          },
          "metadata": {
            "tags": []
          },
          "execution_count": 63
        }
      ]
    },
    {
      "cell_type": "code",
      "metadata": {
        "id": "XTFhuwhcvmNB",
        "colab_type": "code",
        "outputId": "641f58ac-0b59-42fc-c3d7-3b39c9613ab4",
        "colab": {
          "base_uri": "https://localhost:8080/",
          "height": 34
        }
      },
      "source": [
        "invoice_customer_vehicles.shape"
      ],
      "execution_count": 0,
      "outputs": [
        {
          "output_type": "execute_result",
          "data": {
            "text/plain": [
              "(984165, 29)"
            ]
          },
          "metadata": {
            "tags": []
          },
          "execution_count": 64
        }
      ]
    },
    {
      "cell_type": "markdown",
      "metadata": {
        "id": "vP32h0DvvFtp",
        "colab_type": "text"
      },
      "source": [
        "**Merge invoice_customer_vehicles and Plant**"
      ]
    },
    {
      "cell_type": "code",
      "metadata": {
        "id": "xmxkFlXMu9Hc",
        "colab_type": "code",
        "outputId": "e6130c81-97da-4dea-c870-e70cd2793501",
        "colab": {
          "base_uri": "https://localhost:8080/",
          "height": 34
        }
      },
      "source": [
        "plant.shape"
      ],
      "execution_count": 0,
      "outputs": [
        {
          "output_type": "execute_result",
          "data": {
            "text/plain": [
              "(438, 5)"
            ]
          },
          "metadata": {
            "tags": []
          },
          "execution_count": 65
        }
      ]
    },
    {
      "cell_type": "code",
      "metadata": {
        "id": "IcKRbfOlwaVJ",
        "colab_type": "code",
        "outputId": "2e358e90-8dbc-42e3-abb2-fcce7dfdf6c4",
        "colab": {
          "base_uri": "https://localhost:8080/",
          "height": 34
        }
      },
      "source": [
        "len(invoice_customer_vehicles.Plant.unique()), len(plant.Plant.unique())"
      ],
      "execution_count": 0,
      "outputs": [
        {
          "output_type": "execute_result",
          "data": {
            "text/plain": [
              "(431, 438)"
            ]
          },
          "metadata": {
            "tags": []
          },
          "execution_count": 66
        }
      ]
    },
    {
      "cell_type": "code",
      "metadata": {
        "id": "mt9d-E4kvLmL",
        "colab_type": "code",
        "colab": {}
      },
      "source": [
        "invoice_customer_vehicles_plant = pd.merge(invoice_customer_vehicles, plant, on='Plant')"
      ],
      "execution_count": 0,
      "outputs": []
    },
    {
      "cell_type": "code",
      "metadata": {
        "id": "jZ5UrVXqvgU5",
        "colab_type": "code",
        "outputId": "8deeeef6-432f-4def-e4f5-b10a62bcf3c2",
        "colab": {
          "base_uri": "https://localhost:8080/",
          "height": 34
        }
      },
      "source": [
        "invoice_customer_vehicles_plant.shape"
      ],
      "execution_count": 0,
      "outputs": [
        {
          "output_type": "execute_result",
          "data": {
            "text/plain": [
              "(743801, 33)"
            ]
          },
          "metadata": {
            "tags": []
          },
          "execution_count": 97
        }
      ]
    },
    {
      "cell_type": "code",
      "metadata": {
        "id": "-SueEcdtrCu6",
        "colab_type": "code",
        "outputId": "0e8a8ab6-b7d1-498f-b565-57167112441d",
        "colab": {
          "base_uri": "https://localhost:8080/",
          "height": 595
        }
      },
      "source": [
        "invoice_customer_vehicles_plant.isnull().sum()"
      ],
      "execution_count": 0,
      "outputs": [
        {
          "output_type": "execute_result",
          "data": {
            "text/plain": [
              "CITY                    0\n",
              "Cust Type               0\n",
              "Customer No.            0\n",
              "District                0\n",
              "Invoice Date            0\n",
              "Invoice No              0\n",
              "Invoice Time            0\n",
              "Job Card No             0\n",
              "JobCard Date            0\n",
              "JobCard Time            0\n",
              "KMs Reading             0\n",
              "Labour Total            0\n",
              "Make                    0\n",
              "Misc Total              0\n",
              "Model                   0\n",
              "OSL Total               0\n",
              "Order Type              0\n",
              "Parts Total             0\n",
              "Pin code                0\n",
              "Plant                   0\n",
              "Plant Name1             0\n",
              "Total Amt Wtd Tax.      0\n",
              "User ID                 0\n",
              "Partner Type            0\n",
              "Data Origin             0\n",
              "Title                   0\n",
              "Vehicle Model           0\n",
              "License Plate Number    0\n",
              "Fuel Type               0\n",
              "Name 1                  0\n",
              "Postal Code             0\n",
              "City                    0\n",
              "State                   0\n",
              "dtype: int64"
            ]
          },
          "metadata": {
            "tags": []
          },
          "execution_count": 98
        }
      ]
    },
    {
      "cell_type": "markdown",
      "metadata": {
        "id": "xboWtcYxLV3J",
        "colab_type": "text"
      },
      "source": [
        "## Prepare Data for Clustering after cleaning merged data"
      ]
    },
    {
      "cell_type": "code",
      "metadata": {
        "id": "aPVhZ7MVLPbU",
        "colab_type": "code",
        "outputId": "b20227e0-bff4-4496-ea05-b630af6edf5b",
        "colab": {
          "base_uri": "https://localhost:8080/",
          "height": 445
        }
      },
      "source": [
        "invoice_customer_vehicles_plant.head()"
      ],
      "execution_count": 0,
      "outputs": [
        {
          "output_type": "execute_result",
          "data": {
            "text/html": [
              "<div>\n",
              "<style scoped>\n",
              "    .dataframe tbody tr th:only-of-type {\n",
              "        vertical-align: middle;\n",
              "    }\n",
              "\n",
              "    .dataframe tbody tr th {\n",
              "        vertical-align: top;\n",
              "    }\n",
              "\n",
              "    .dataframe thead th {\n",
              "        text-align: right;\n",
              "    }\n",
              "</style>\n",
              "<table border=\"1\" class=\"dataframe\">\n",
              "  <thead>\n",
              "    <tr style=\"text-align: right;\">\n",
              "      <th></th>\n",
              "      <th>CITY</th>\n",
              "      <th>Cust Type</th>\n",
              "      <th>Customer No.</th>\n",
              "      <th>District</th>\n",
              "      <th>Invoice Date</th>\n",
              "      <th>Invoice No</th>\n",
              "      <th>Invoice Time</th>\n",
              "      <th>Job Card No</th>\n",
              "      <th>JobCard Date</th>\n",
              "      <th>JobCard Time</th>\n",
              "      <th>KMs Reading</th>\n",
              "      <th>Labour Total</th>\n",
              "      <th>Make</th>\n",
              "      <th>Misc Total</th>\n",
              "      <th>Model</th>\n",
              "      <th>OSL Total</th>\n",
              "      <th>Order Type</th>\n",
              "      <th>Parts Total</th>\n",
              "      <th>Pin code</th>\n",
              "      <th>Plant</th>\n",
              "      <th>Plant Name1</th>\n",
              "      <th>Total Amt Wtd Tax.</th>\n",
              "      <th>User ID</th>\n",
              "      <th>Partner Type</th>\n",
              "      <th>Data Origin</th>\n",
              "      <th>Title</th>\n",
              "      <th>Vehicle Model</th>\n",
              "      <th>License Plate Number</th>\n",
              "      <th>Fuel Type</th>\n",
              "      <th>Name 1</th>\n",
              "      <th>Postal Code</th>\n",
              "      <th>City</th>\n",
              "      <th>State</th>\n",
              "    </tr>\n",
              "  </thead>\n",
              "  <tbody>\n",
              "    <tr>\n",
              "      <th>0</th>\n",
              "      <td>Nashik</td>\n",
              "      <td>Retail</td>\n",
              "      <td>E14006</td>\n",
              "      <td>Maharashtra</td>\n",
              "      <td>2017-04-14</td>\n",
              "      <td>7164601412</td>\n",
              "      <td>15:29:52</td>\n",
              "      <td>674656</td>\n",
              "      <td>2017-04-13</td>\n",
              "      <td>17:09:17</td>\n",
              "      <td>35165</td>\n",
              "      <td>579.13</td>\n",
              "      <td>HONDA</td>\n",
              "      <td>0.0</td>\n",
              "      <td>CITY</td>\n",
              "      <td>0.0</td>\n",
              "      <td>Paid Service</td>\n",
              "      <td>40.54</td>\n",
              "      <td>422000</td>\n",
              "      <td>X073</td>\n",
              "      <td>X073- KRITI AUTOMOBILE REPAIR</td>\n",
              "      <td>619.67</td>\n",
              "      <td>X073SA1</td>\n",
              "      <td>1.0</td>\n",
              "      <td>Z001</td>\n",
              "      <td>2.0</td>\n",
              "      <td>Z_HONDA</td>\n",
              "      <td>MH15EB5067</td>\n",
              "      <td>2</td>\n",
              "      <td>X073- KRITI AUTOMOBILE REPAIR</td>\n",
              "      <td>422007</td>\n",
              "      <td>Nashik</td>\n",
              "      <td>Maharashtra</td>\n",
              "    </tr>\n",
              "    <tr>\n",
              "      <th>1</th>\n",
              "      <td>Nashik</td>\n",
              "      <td>Retail</td>\n",
              "      <td>E14006</td>\n",
              "      <td>Maharashtra</td>\n",
              "      <td>2017-07-26</td>\n",
              "      <td>7164602068</td>\n",
              "      <td>12:07:36</td>\n",
              "      <td>809011</td>\n",
              "      <td>2017-07-26</td>\n",
              "      <td>11:01:16</td>\n",
              "      <td>36165</td>\n",
              "      <td>3.46</td>\n",
              "      <td>HONDA</td>\n",
              "      <td>0.0</td>\n",
              "      <td>CITY</td>\n",
              "      <td>0.0</td>\n",
              "      <td>Running Repairs</td>\n",
              "      <td>0.00</td>\n",
              "      <td>422000</td>\n",
              "      <td>X073</td>\n",
              "      <td>X073- KRITI AUTOMOBILE REPAIR</td>\n",
              "      <td>3.46</td>\n",
              "      <td>X073SA1</td>\n",
              "      <td>1.0</td>\n",
              "      <td>Z001</td>\n",
              "      <td>2.0</td>\n",
              "      <td>Z_HONDA</td>\n",
              "      <td>MH15EB5067</td>\n",
              "      <td>2</td>\n",
              "      <td>X073- KRITI AUTOMOBILE REPAIR</td>\n",
              "      <td>422007</td>\n",
              "      <td>Nashik</td>\n",
              "      <td>Maharashtra</td>\n",
              "    </tr>\n",
              "    <tr>\n",
              "      <th>2</th>\n",
              "      <td>Nashik</td>\n",
              "      <td>Retail</td>\n",
              "      <td>E27136</td>\n",
              "      <td>Maharashtra</td>\n",
              "      <td>2017-08-16</td>\n",
              "      <td>7164602334</td>\n",
              "      <td>18:49:05</td>\n",
              "      <td>836012</td>\n",
              "      <td>2017-08-16</td>\n",
              "      <td>16:16:12</td>\n",
              "      <td>89944</td>\n",
              "      <td>3.46</td>\n",
              "      <td>MARUTI SUZUKI</td>\n",
              "      <td>0.0</td>\n",
              "      <td>WAGONR</td>\n",
              "      <td>0.0</td>\n",
              "      <td>Paid Service</td>\n",
              "      <td>0.00</td>\n",
              "      <td>422009</td>\n",
              "      <td>X073</td>\n",
              "      <td>X073- KRITI AUTOMOBILE REPAIR</td>\n",
              "      <td>3.46</td>\n",
              "      <td>X073SA1</td>\n",
              "      <td>1.0</td>\n",
              "      <td>Z001</td>\n",
              "      <td>2.0</td>\n",
              "      <td>Z_MARUTI</td>\n",
              "      <td>MH04BK0425</td>\n",
              "      <td>2</td>\n",
              "      <td>X073- KRITI AUTOMOBILE REPAIR</td>\n",
              "      <td>422007</td>\n",
              "      <td>Nashik</td>\n",
              "      <td>Maharashtra</td>\n",
              "    </tr>\n",
              "    <tr>\n",
              "      <th>3</th>\n",
              "      <td>Pune</td>\n",
              "      <td>Retail</td>\n",
              "      <td>E26786</td>\n",
              "      <td>Maharashtra</td>\n",
              "      <td>2017-03-18</td>\n",
              "      <td>7164601170</td>\n",
              "      <td>14:46:31</td>\n",
              "      <td>626932</td>\n",
              "      <td>2017-03-04</td>\n",
              "      <td>11:41:33</td>\n",
              "      <td>30796</td>\n",
              "      <td>150.48</td>\n",
              "      <td>MARUTI SUZUKI</td>\n",
              "      <td>0.0</td>\n",
              "      <td>WAGONR</td>\n",
              "      <td>0.0</td>\n",
              "      <td>Running Repairs</td>\n",
              "      <td>0.00</td>\n",
              "      <td>411056</td>\n",
              "      <td>X073</td>\n",
              "      <td>X073- KRITI AUTOMOBILE REPAIR</td>\n",
              "      <td>150.48</td>\n",
              "      <td>X073SA1</td>\n",
              "      <td>1.0</td>\n",
              "      <td>Z001</td>\n",
              "      <td>2.0</td>\n",
              "      <td>Z_MARUTI</td>\n",
              "      <td>MH15EB6209</td>\n",
              "      <td>1</td>\n",
              "      <td>X073- KRITI AUTOMOBILE REPAIR</td>\n",
              "      <td>422007</td>\n",
              "      <td>Nashik</td>\n",
              "      <td>Maharashtra</td>\n",
              "    </tr>\n",
              "    <tr>\n",
              "      <th>4</th>\n",
              "      <td>NASIK</td>\n",
              "      <td>Retail</td>\n",
              "      <td>131</td>\n",
              "      <td>Maharashtra</td>\n",
              "      <td>2016-12-31</td>\n",
              "      <td>7164600695</td>\n",
              "      <td>11:55:07</td>\n",
              "      <td>554552</td>\n",
              "      <td>2016-12-28</td>\n",
              "      <td>16:50:13</td>\n",
              "      <td>177260</td>\n",
              "      <td>1519.08</td>\n",
              "      <td>MARUTI SUZUKI</td>\n",
              "      <td>0.0</td>\n",
              "      <td>ALTO</td>\n",
              "      <td>0.0</td>\n",
              "      <td>Paid Service</td>\n",
              "      <td>889.92</td>\n",
              "      <td>422000</td>\n",
              "      <td>X073</td>\n",
              "      <td>X073- KRITI AUTOMOBILE REPAIR</td>\n",
              "      <td>2409.00</td>\n",
              "      <td>X073SA1</td>\n",
              "      <td>1.0</td>\n",
              "      <td>Z005</td>\n",
              "      <td>2.0</td>\n",
              "      <td>Z_MARUTI</td>\n",
              "      <td>MH15BD6287</td>\n",
              "      <td>1</td>\n",
              "      <td>X073- KRITI AUTOMOBILE REPAIR</td>\n",
              "      <td>422007</td>\n",
              "      <td>Nashik</td>\n",
              "      <td>Maharashtra</td>\n",
              "    </tr>\n",
              "  </tbody>\n",
              "</table>\n",
              "</div>"
            ],
            "text/plain": [
              "     CITY Cust Type Customer No.  ... Postal Code    City        State\n",
              "0  Nashik    Retail       E14006  ...      422007  Nashik  Maharashtra\n",
              "1  Nashik    Retail       E14006  ...      422007  Nashik  Maharashtra\n",
              "2  Nashik    Retail       E27136  ...      422007  Nashik  Maharashtra\n",
              "3    Pune    Retail       E26786  ...      422007  Nashik  Maharashtra\n",
              "4   NASIK    Retail          131  ...      422007  Nashik  Maharashtra\n",
              "\n",
              "[5 rows x 33 columns]"
            ]
          },
          "metadata": {
            "tags": []
          },
          "execution_count": 84
        }
      ]
    },
    {
      "cell_type": "code",
      "metadata": {
        "id": "v2gYDbwV1Vj2",
        "colab_type": "code",
        "colab": {}
      },
      "source": [
        ""
      ],
      "execution_count": 0,
      "outputs": []
    },
    {
      "cell_type": "code",
      "metadata": {
        "id": "EoJbcAPpv-uD",
        "colab_type": "code",
        "outputId": "f1cbf638-994d-4667-b387-d869886f11a7",
        "colab": {
          "base_uri": "https://localhost:8080/",
          "height": 34
        }
      },
      "source": [
        "invoice_customer_vehicles_plant.shape"
      ],
      "execution_count": 0,
      "outputs": [
        {
          "output_type": "execute_result",
          "data": {
            "text/plain": [
              "(743801, 33)"
            ]
          },
          "metadata": {
            "tags": []
          },
          "execution_count": 99
        }
      ]
    },
    {
      "cell_type": "code",
      "metadata": {
        "id": "l_gyEZDhw2hM",
        "colab_type": "code",
        "outputId": "429fb838-7232-47e8-cd60-a0d0a8a594fe",
        "colab": {
          "base_uri": "https://localhost:8080/",
          "height": 334
        }
      },
      "source": [
        "invoice_customer_vehicles_plant.describe()"
      ],
      "execution_count": 0,
      "outputs": [
        {
          "output_type": "execute_result",
          "data": {
            "text/html": [
              "<div>\n",
              "<style scoped>\n",
              "    .dataframe tbody tr th:only-of-type {\n",
              "        vertical-align: middle;\n",
              "    }\n",
              "\n",
              "    .dataframe tbody tr th {\n",
              "        vertical-align: top;\n",
              "    }\n",
              "\n",
              "    .dataframe thead th {\n",
              "        text-align: right;\n",
              "    }\n",
              "</style>\n",
              "<table border=\"1\" class=\"dataframe\">\n",
              "  <thead>\n",
              "    <tr style=\"text-align: right;\">\n",
              "      <th></th>\n",
              "      <th>Invoice No</th>\n",
              "      <th>Job Card No</th>\n",
              "      <th>KMs Reading</th>\n",
              "      <th>Labour Total</th>\n",
              "      <th>Misc Total</th>\n",
              "      <th>OSL Total</th>\n",
              "      <th>Parts Total</th>\n",
              "      <th>Pin code</th>\n",
              "      <th>Total Amt Wtd Tax.</th>\n",
              "      <th>Partner Type</th>\n",
              "      <th>Title</th>\n",
              "      <th>Postal Code</th>\n",
              "    </tr>\n",
              "  </thead>\n",
              "  <tbody>\n",
              "    <tr>\n",
              "      <th>count</th>\n",
              "      <td>7.438010e+05</td>\n",
              "      <td>7.438010e+05</td>\n",
              "      <td>7.438010e+05</td>\n",
              "      <td>743801.000000</td>\n",
              "      <td>743801.000000</td>\n",
              "      <td>743801.000000</td>\n",
              "      <td>743801.000000</td>\n",
              "      <td>743801.000000</td>\n",
              "      <td>743801.000000</td>\n",
              "      <td>743801.000000</td>\n",
              "      <td>743801.000000</td>\n",
              "      <td>743801.000000</td>\n",
              "    </tr>\n",
              "    <tr>\n",
              "      <th>mean</th>\n",
              "      <td>7.183450e+09</td>\n",
              "      <td>6.098939e+05</td>\n",
              "      <td>8.416413e+04</td>\n",
              "      <td>1530.608330</td>\n",
              "      <td>291.219836</td>\n",
              "      <td>76.105915</td>\n",
              "      <td>2218.535148</td>\n",
              "      <td>471388.503781</td>\n",
              "      <td>4116.469230</td>\n",
              "      <td>1.231200</td>\n",
              "      <td>1.952764</td>\n",
              "      <td>478618.281046</td>\n",
              "    </tr>\n",
              "    <tr>\n",
              "      <th>std</th>\n",
              "      <td>4.735438e+07</td>\n",
              "      <td>2.304533e+05</td>\n",
              "      <td>1.430325e+05</td>\n",
              "      <td>4828.993265</td>\n",
              "      <td>2435.280185</td>\n",
              "      <td>1055.780333</td>\n",
              "      <td>7810.100921</td>\n",
              "      <td>187263.159601</td>\n",
              "      <td>11360.422771</td>\n",
              "      <td>45.491633</td>\n",
              "      <td>0.212143</td>\n",
              "      <td>179724.614738</td>\n",
              "    </tr>\n",
              "    <tr>\n",
              "      <th>min</th>\n",
              "      <td>7.000000e+09</td>\n",
              "      <td>1.190000e+02</td>\n",
              "      <td>1.000000e+00</td>\n",
              "      <td>-164.950000</td>\n",
              "      <td>-0.060000</td>\n",
              "      <td>0.000000</td>\n",
              "      <td>-2343.200000</td>\n",
              "      <td>0.000000</td>\n",
              "      <td>-2342.200000</td>\n",
              "      <td>1.000000</td>\n",
              "      <td>1.000000</td>\n",
              "      <td>121006.000000</td>\n",
              "    </tr>\n",
              "    <tr>\n",
              "      <th>25%</th>\n",
              "      <td>7.159801e+09</td>\n",
              "      <td>4.254400e+05</td>\n",
              "      <td>3.606100e+04</td>\n",
              "      <td>0.010000</td>\n",
              "      <td>0.000000</td>\n",
              "      <td>0.000000</td>\n",
              "      <td>0.000000</td>\n",
              "      <td>333026.000000</td>\n",
              "      <td>221.560000</td>\n",
              "      <td>1.000000</td>\n",
              "      <td>2.000000</td>\n",
              "      <td>342001.000000</td>\n",
              "    </tr>\n",
              "    <tr>\n",
              "      <th>50%</th>\n",
              "      <td>7.179401e+09</td>\n",
              "      <td>6.160930e+05</td>\n",
              "      <td>6.439100e+04</td>\n",
              "      <td>349.960000</td>\n",
              "      <td>0.000000</td>\n",
              "      <td>0.000000</td>\n",
              "      <td>148.390000</td>\n",
              "      <td>485001.000000</td>\n",
              "      <td>1105.200000</td>\n",
              "      <td>1.000000</td>\n",
              "      <td>2.000000</td>\n",
              "      <td>500050.000000</td>\n",
              "    </tr>\n",
              "    <tr>\n",
              "      <th>75%</th>\n",
              "      <td>7.214001e+09</td>\n",
              "      <td>8.056700e+05</td>\n",
              "      <td>1.005160e+05</td>\n",
              "      <td>1244.250000</td>\n",
              "      <td>0.000000</td>\n",
              "      <td>0.000000</td>\n",
              "      <td>1981.000000</td>\n",
              "      <td>608001.000000</td>\n",
              "      <td>3925.150000</td>\n",
              "      <td>1.000000</td>\n",
              "      <td>2.000000</td>\n",
              "      <td>608001.000000</td>\n",
              "    </tr>\n",
              "    <tr>\n",
              "      <th>max</th>\n",
              "      <td>7.309000e+09</td>\n",
              "      <td>1.001292e+06</td>\n",
              "      <td>9.999999e+06</td>\n",
              "      <td>434000.000000</td>\n",
              "      <td>355200.060000</td>\n",
              "      <td>99974.800000</td>\n",
              "      <td>640296.060000</td>\n",
              "      <td>999999.000000</td>\n",
              "      <td>720296.070000</td>\n",
              "      <td>9003.000000</td>\n",
              "      <td>2.000000</td>\n",
              "      <td>999999.000000</td>\n",
              "    </tr>\n",
              "  </tbody>\n",
              "</table>\n",
              "</div>"
            ],
            "text/plain": [
              "         Invoice No   Job Card No  ...          Title    Postal Code\n",
              "count  7.438010e+05  7.438010e+05  ...  743801.000000  743801.000000\n",
              "mean   7.183450e+09  6.098939e+05  ...       1.952764  478618.281046\n",
              "std    4.735438e+07  2.304533e+05  ...       0.212143  179724.614738\n",
              "min    7.000000e+09  1.190000e+02  ...       1.000000  121006.000000\n",
              "25%    7.159801e+09  4.254400e+05  ...       2.000000  342001.000000\n",
              "50%    7.179401e+09  6.160930e+05  ...       2.000000  500050.000000\n",
              "75%    7.214001e+09  8.056700e+05  ...       2.000000  608001.000000\n",
              "max    7.309000e+09  1.001292e+06  ...       2.000000  999999.000000\n",
              "\n",
              "[8 rows x 12 columns]"
            ]
          },
          "metadata": {
            "tags": []
          },
          "execution_count": 100
        }
      ]
    },
    {
      "cell_type": "code",
      "metadata": {
        "id": "7Nclm3Ma0ijL",
        "colab_type": "code",
        "colab": {}
      },
      "source": [
        ""
      ],
      "execution_count": 0,
      "outputs": []
    },
    {
      "cell_type": "code",
      "metadata": {
        "id": "tE1NjTNX1kVg",
        "colab_type": "code",
        "outputId": "9e483c37-8ba8-4865-b986-faf334163ed4",
        "colab": {
          "base_uri": "https://localhost:8080/",
          "height": 170
        }
      },
      "source": [
        "invoice_customer_vehicles_plant.shape, invoice_customer_vehicles_plant.columns"
      ],
      "execution_count": 0,
      "outputs": [
        {
          "output_type": "execute_result",
          "data": {
            "text/plain": [
              "((743801, 33),\n",
              " Index(['CITY', 'Cust Type', 'Customer No.', 'District', 'Invoice Date',\n",
              "        'Invoice No', 'Invoice Time', 'Job Card No', 'JobCard Date',\n",
              "        'JobCard Time', 'KMs Reading', 'Labour Total', 'Make', 'Misc Total',\n",
              "        'Model', 'OSL Total', 'Order Type', 'Parts Total', 'Pin code', 'Plant',\n",
              "        'Plant Name1', 'Total Amt Wtd Tax.', 'User ID', 'Partner Type',\n",
              "        'Data Origin', 'Title', 'Vehicle Model', 'License Plate Number',\n",
              "        'Fuel Type', 'Name 1', 'Postal Code', 'City', 'State'],\n",
              "       dtype='object'))"
            ]
          },
          "metadata": {
            "tags": []
          },
          "execution_count": 101
        }
      ]
    },
    {
      "cell_type": "code",
      "metadata": {
        "id": "vU7on3Qt1uTh",
        "colab_type": "code",
        "outputId": "6456ad39-f9ff-4d14-8898-e6942b9c5430",
        "colab": {
          "base_uri": "https://localhost:8080/",
          "height": 185
        }
      },
      "source": [
        "invoice_customer_vehicles_plant.head(1)"
      ],
      "execution_count": 0,
      "outputs": [
        {
          "output_type": "execute_result",
          "data": {
            "text/html": [
              "<div>\n",
              "<style scoped>\n",
              "    .dataframe tbody tr th:only-of-type {\n",
              "        vertical-align: middle;\n",
              "    }\n",
              "\n",
              "    .dataframe tbody tr th {\n",
              "        vertical-align: top;\n",
              "    }\n",
              "\n",
              "    .dataframe thead th {\n",
              "        text-align: right;\n",
              "    }\n",
              "</style>\n",
              "<table border=\"1\" class=\"dataframe\">\n",
              "  <thead>\n",
              "    <tr style=\"text-align: right;\">\n",
              "      <th></th>\n",
              "      <th>CITY</th>\n",
              "      <th>Cust Type</th>\n",
              "      <th>Customer No.</th>\n",
              "      <th>District</th>\n",
              "      <th>Invoice Date</th>\n",
              "      <th>Invoice No</th>\n",
              "      <th>Invoice Time</th>\n",
              "      <th>Job Card No</th>\n",
              "      <th>JobCard Date</th>\n",
              "      <th>JobCard Time</th>\n",
              "      <th>KMs Reading</th>\n",
              "      <th>Labour Total</th>\n",
              "      <th>Make</th>\n",
              "      <th>Misc Total</th>\n",
              "      <th>Model</th>\n",
              "      <th>OSL Total</th>\n",
              "      <th>Order Type</th>\n",
              "      <th>Parts Total</th>\n",
              "      <th>Pin code</th>\n",
              "      <th>Plant</th>\n",
              "      <th>Plant Name1</th>\n",
              "      <th>Total Amt Wtd Tax.</th>\n",
              "      <th>User ID</th>\n",
              "      <th>Partner Type</th>\n",
              "      <th>Data Origin</th>\n",
              "      <th>Title</th>\n",
              "      <th>Vehicle Model</th>\n",
              "      <th>License Plate Number</th>\n",
              "      <th>Fuel Type</th>\n",
              "      <th>Name 1</th>\n",
              "      <th>Postal Code</th>\n",
              "      <th>City</th>\n",
              "      <th>State</th>\n",
              "    </tr>\n",
              "  </thead>\n",
              "  <tbody>\n",
              "    <tr>\n",
              "      <th>0</th>\n",
              "      <td>Nashik</td>\n",
              "      <td>Retail</td>\n",
              "      <td>E14006</td>\n",
              "      <td>Maharashtra</td>\n",
              "      <td>2017-04-14</td>\n",
              "      <td>7164601412</td>\n",
              "      <td>15:29:52</td>\n",
              "      <td>674656</td>\n",
              "      <td>2017-04-13</td>\n",
              "      <td>17:09:17</td>\n",
              "      <td>35165</td>\n",
              "      <td>579.13</td>\n",
              "      <td>HONDA</td>\n",
              "      <td>0.0</td>\n",
              "      <td>CITY</td>\n",
              "      <td>0.0</td>\n",
              "      <td>Paid Service</td>\n",
              "      <td>40.54</td>\n",
              "      <td>422000</td>\n",
              "      <td>X073</td>\n",
              "      <td>X073- KRITI AUTOMOBILE REPAIR</td>\n",
              "      <td>619.67</td>\n",
              "      <td>X073SA1</td>\n",
              "      <td>1.0</td>\n",
              "      <td>Z001</td>\n",
              "      <td>2.0</td>\n",
              "      <td>Z_HONDA</td>\n",
              "      <td>MH15EB5067</td>\n",
              "      <td>2</td>\n",
              "      <td>X073- KRITI AUTOMOBILE REPAIR</td>\n",
              "      <td>422007</td>\n",
              "      <td>Nashik</td>\n",
              "      <td>Maharashtra</td>\n",
              "    </tr>\n",
              "  </tbody>\n",
              "</table>\n",
              "</div>"
            ],
            "text/plain": [
              "     CITY Cust Type Customer No.  ... Postal Code    City        State\n",
              "0  Nashik    Retail       E14006  ...      422007  Nashik  Maharashtra\n",
              "\n",
              "[1 rows x 33 columns]"
            ]
          },
          "metadata": {
            "tags": []
          },
          "execution_count": 102
        }
      ]
    },
    {
      "cell_type": "code",
      "metadata": {
        "id": "dzKY_ntK6wPZ",
        "colab_type": "code",
        "colab": {}
      },
      "source": [
        "columns_to_be_dropped_for_cluster = ['Name 1', 'CITY', 'District', 'Invoice Date', 'Invoice No', 'Invoice Time', 'Customer No.', 'Job Card No', 'Make', 'Model', 'OSL Total', 'Pin code', 'Plant Name1', 'User ID', 'License Plate Number', 'Misc Total', 'Postal Code', 'JobCard Time']"
      ],
      "execution_count": 0,
      "outputs": []
    },
    {
      "cell_type": "code",
      "metadata": {
        "id": "Jk_WR-qw59Lx",
        "colab_type": "code",
        "colab": {}
      },
      "source": [
        "cluster_data = invoice_customer_vehicles_plant.drop(columns=columns_to_be_dropped_for_cluster)"
      ],
      "execution_count": 0,
      "outputs": []
    },
    {
      "cell_type": "code",
      "metadata": {
        "id": "UVFKw5ET7Tyq",
        "colab_type": "code",
        "outputId": "c44f4c3d-9c86-42b5-affd-517278a904d0",
        "colab": {
          "base_uri": "https://localhost:8080/",
          "height": 34
        }
      },
      "source": [
        "cluster_data.shape"
      ],
      "execution_count": 0,
      "outputs": [
        {
          "output_type": "execute_result",
          "data": {
            "text/plain": [
              "(743801, 15)"
            ]
          },
          "metadata": {
            "tags": []
          },
          "execution_count": 116
        }
      ]
    },
    {
      "cell_type": "code",
      "metadata": {
        "id": "D_raPHSF7vcE",
        "colab_type": "code",
        "outputId": "33014c54-0acf-4cb5-9592-06d336a30461",
        "colab": {
          "base_uri": "https://localhost:8080/",
          "height": 114
        }
      },
      "source": [
        "cluster_data.head(1)"
      ],
      "execution_count": 0,
      "outputs": [
        {
          "output_type": "execute_result",
          "data": {
            "text/html": [
              "<div>\n",
              "<style scoped>\n",
              "    .dataframe tbody tr th:only-of-type {\n",
              "        vertical-align: middle;\n",
              "    }\n",
              "\n",
              "    .dataframe tbody tr th {\n",
              "        vertical-align: top;\n",
              "    }\n",
              "\n",
              "    .dataframe thead th {\n",
              "        text-align: right;\n",
              "    }\n",
              "</style>\n",
              "<table border=\"1\" class=\"dataframe\">\n",
              "  <thead>\n",
              "    <tr style=\"text-align: right;\">\n",
              "      <th></th>\n",
              "      <th>Cust Type</th>\n",
              "      <th>JobCard Date</th>\n",
              "      <th>KMs Reading</th>\n",
              "      <th>Labour Total</th>\n",
              "      <th>Order Type</th>\n",
              "      <th>Parts Total</th>\n",
              "      <th>Plant</th>\n",
              "      <th>Total Amt Wtd Tax.</th>\n",
              "      <th>Partner Type</th>\n",
              "      <th>Data Origin</th>\n",
              "      <th>Title</th>\n",
              "      <th>Vehicle Model</th>\n",
              "      <th>Fuel Type</th>\n",
              "      <th>City</th>\n",
              "      <th>State</th>\n",
              "    </tr>\n",
              "  </thead>\n",
              "  <tbody>\n",
              "    <tr>\n",
              "      <th>0</th>\n",
              "      <td>Retail</td>\n",
              "      <td>2017-04-13</td>\n",
              "      <td>35165</td>\n",
              "      <td>579.13</td>\n",
              "      <td>Paid Service</td>\n",
              "      <td>40.54</td>\n",
              "      <td>X073</td>\n",
              "      <td>619.67</td>\n",
              "      <td>1.0</td>\n",
              "      <td>Z001</td>\n",
              "      <td>2.0</td>\n",
              "      <td>Z_HONDA</td>\n",
              "      <td>2</td>\n",
              "      <td>Nashik</td>\n",
              "      <td>Maharashtra</td>\n",
              "    </tr>\n",
              "  </tbody>\n",
              "</table>\n",
              "</div>"
            ],
            "text/plain": [
              "  Cust Type JobCard Date  KMs Reading  ...  Fuel Type    City        State\n",
              "0    Retail   2017-04-13        35165  ...          2  Nashik  Maharashtra\n",
              "\n",
              "[1 rows x 15 columns]"
            ]
          },
          "metadata": {
            "tags": []
          },
          "execution_count": 117
        }
      ]
    },
    {
      "cell_type": "code",
      "metadata": {
        "id": "cwaPoUgN8AgT",
        "colab_type": "code",
        "outputId": "bd0ec9cb-fbfa-4c46-f3c1-5c663820edd4",
        "colab": {
          "base_uri": "https://localhost:8080/",
          "height": 114
        }
      },
      "source": [
        "cluster_data.tail(1)"
      ],
      "execution_count": 0,
      "outputs": [
        {
          "output_type": "execute_result",
          "data": {
            "text/html": [
              "<div>\n",
              "<style scoped>\n",
              "    .dataframe tbody tr th:only-of-type {\n",
              "        vertical-align: middle;\n",
              "    }\n",
              "\n",
              "    .dataframe tbody tr th {\n",
              "        vertical-align: top;\n",
              "    }\n",
              "\n",
              "    .dataframe thead th {\n",
              "        text-align: right;\n",
              "    }\n",
              "</style>\n",
              "<table border=\"1\" class=\"dataframe\">\n",
              "  <thead>\n",
              "    <tr style=\"text-align: right;\">\n",
              "      <th></th>\n",
              "      <th>Cust Type</th>\n",
              "      <th>JobCard Date</th>\n",
              "      <th>KMs Reading</th>\n",
              "      <th>Labour Total</th>\n",
              "      <th>Order Type</th>\n",
              "      <th>Parts Total</th>\n",
              "      <th>Plant</th>\n",
              "      <th>Total Amt Wtd Tax.</th>\n",
              "      <th>Partner Type</th>\n",
              "      <th>Data Origin</th>\n",
              "      <th>Title</th>\n",
              "      <th>Vehicle Model</th>\n",
              "      <th>Fuel Type</th>\n",
              "      <th>City</th>\n",
              "      <th>State</th>\n",
              "    </tr>\n",
              "  </thead>\n",
              "  <tbody>\n",
              "    <tr>\n",
              "      <th>743800</th>\n",
              "      <td>Retail</td>\n",
              "      <td>2017-11-30</td>\n",
              "      <td>63154</td>\n",
              "      <td>0.0</td>\n",
              "      <td>Running Repairs</td>\n",
              "      <td>0.0</td>\n",
              "      <td>X720</td>\n",
              "      <td>0.0</td>\n",
              "      <td>1.0</td>\n",
              "      <td>Z006</td>\n",
              "      <td>2.0</td>\n",
              "      <td>Z_TOYOTA</td>\n",
              "      <td>2</td>\n",
              "      <td>Lucknow</td>\n",
              "      <td>Uttar Pradesh</td>\n",
              "    </tr>\n",
              "  </tbody>\n",
              "</table>\n",
              "</div>"
            ],
            "text/plain": [
              "       Cust Type JobCard Date  KMs Reading  ...  Fuel Type     City          State\n",
              "743800    Retail   2017-11-30        63154  ...          2  Lucknow  Uttar Pradesh\n",
              "\n",
              "[1 rows x 15 columns]"
            ]
          },
          "metadata": {
            "tags": []
          },
          "execution_count": 118
        }
      ]
    },
    {
      "cell_type": "code",
      "metadata": {
        "id": "MLW00-3U8tHY",
        "colab_type": "code",
        "colab": {}
      },
      "source": [
        "cluster_data['JobCard Date'] = pd.to_datetime(cluster_data['JobCard Date'])"
      ],
      "execution_count": 0,
      "outputs": []
    },
    {
      "cell_type": "code",
      "metadata": {
        "id": "AkqVGEus9yPl",
        "colab_type": "code",
        "colab": {}
      },
      "source": [
        "cluster_data['JobCard Month'] = cluster_data['JobCard Date'].dt.month"
      ],
      "execution_count": 0,
      "outputs": []
    },
    {
      "cell_type": "code",
      "metadata": {
        "id": "_REBen1O-B3S",
        "colab_type": "code",
        "colab": {}
      },
      "source": [
        "cluster_data.drop(columns=['JobCard Date'], inplace=True)"
      ],
      "execution_count": 0,
      "outputs": []
    },
    {
      "cell_type": "code",
      "metadata": {
        "id": "wWp4_qIQ-Kte",
        "colab_type": "code",
        "outputId": "f23d738e-5254-477f-8a92-a24ef7bf5859",
        "colab": {
          "base_uri": "https://localhost:8080/",
          "height": 114
        }
      },
      "source": [
        "cluster_data.tail(1)"
      ],
      "execution_count": 0,
      "outputs": [
        {
          "output_type": "execute_result",
          "data": {
            "text/html": [
              "<div>\n",
              "<style scoped>\n",
              "    .dataframe tbody tr th:only-of-type {\n",
              "        vertical-align: middle;\n",
              "    }\n",
              "\n",
              "    .dataframe tbody tr th {\n",
              "        vertical-align: top;\n",
              "    }\n",
              "\n",
              "    .dataframe thead th {\n",
              "        text-align: right;\n",
              "    }\n",
              "</style>\n",
              "<table border=\"1\" class=\"dataframe\">\n",
              "  <thead>\n",
              "    <tr style=\"text-align: right;\">\n",
              "      <th></th>\n",
              "      <th>Cust Type</th>\n",
              "      <th>KMs Reading</th>\n",
              "      <th>Labour Total</th>\n",
              "      <th>Order Type</th>\n",
              "      <th>Parts Total</th>\n",
              "      <th>Plant</th>\n",
              "      <th>Total Amt Wtd Tax.</th>\n",
              "      <th>Partner Type</th>\n",
              "      <th>Data Origin</th>\n",
              "      <th>Title</th>\n",
              "      <th>Vehicle Model</th>\n",
              "      <th>Fuel Type</th>\n",
              "      <th>City</th>\n",
              "      <th>State</th>\n",
              "      <th>JobCard Month</th>\n",
              "    </tr>\n",
              "  </thead>\n",
              "  <tbody>\n",
              "    <tr>\n",
              "      <th>743800</th>\n",
              "      <td>Retail</td>\n",
              "      <td>63154</td>\n",
              "      <td>0.0</td>\n",
              "      <td>Running Repairs</td>\n",
              "      <td>0.0</td>\n",
              "      <td>X720</td>\n",
              "      <td>0.0</td>\n",
              "      <td>1.0</td>\n",
              "      <td>Z006</td>\n",
              "      <td>2.0</td>\n",
              "      <td>Z_TOYOTA</td>\n",
              "      <td>2</td>\n",
              "      <td>Lucknow</td>\n",
              "      <td>Uttar Pradesh</td>\n",
              "      <td>11</td>\n",
              "    </tr>\n",
              "  </tbody>\n",
              "</table>\n",
              "</div>"
            ],
            "text/plain": [
              "       Cust Type  KMs Reading  ...          State JobCard Month\n",
              "743800    Retail        63154  ...  Uttar Pradesh            11\n",
              "\n",
              "[1 rows x 15 columns]"
            ]
          },
          "metadata": {
            "tags": []
          },
          "execution_count": 125
        }
      ]
    },
    {
      "cell_type": "code",
      "metadata": {
        "id": "DrZAQGTJ-Ym7",
        "colab_type": "code",
        "outputId": "8c3e31c0-c719-4b8e-b49e-f6b799b79c81",
        "colab": {
          "base_uri": "https://localhost:8080/",
          "height": 34
        }
      },
      "source": [
        "cluster_data.shape"
      ],
      "execution_count": 0,
      "outputs": [
        {
          "output_type": "execute_result",
          "data": {
            "text/plain": [
              "(743801, 15)"
            ]
          },
          "metadata": {
            "tags": []
          },
          "execution_count": 126
        }
      ]
    },
    {
      "cell_type": "markdown",
      "metadata": {
        "id": "PfGb7IaFHWfj",
        "colab_type": "text"
      },
      "source": [
        "**Apply Label Encoding on cluster data**"
      ]
    },
    {
      "cell_type": "code",
      "metadata": {
        "id": "DVAicCYnHciH",
        "colab_type": "code",
        "colab": {}
      },
      "source": [
        "from sklearn.preprocessing import LabelEncoder"
      ],
      "execution_count": 0,
      "outputs": []
    },
    {
      "cell_type": "code",
      "metadata": {
        "id": "fX9pDVCdHqeL",
        "colab_type": "code",
        "colab": {}
      },
      "source": [
        "le = LabelEncoder()"
      ],
      "execution_count": 0,
      "outputs": []
    },
    {
      "cell_type": "code",
      "metadata": {
        "id": "etiult2EH2Ze",
        "colab_type": "code",
        "colab": {}
      },
      "source": [
        "cluster_data_categroical = cluster_data[['Cust Type', 'Order Type', 'Plant', 'Data Origin', 'Vehicle Model', 'City', 'State']]"
      ],
      "execution_count": 0,
      "outputs": []
    },
    {
      "cell_type": "code",
      "metadata": {
        "id": "aPYesXiCHtgj",
        "colab_type": "code",
        "colab": {}
      },
      "source": [
        "cluster_data_encoded = cluster_data_categroical.apply(le.fit_transform)"
      ],
      "execution_count": 0,
      "outputs": []
    },
    {
      "cell_type": "code",
      "metadata": {
        "id": "Vy6s7HC1JfVi",
        "colab_type": "code",
        "colab": {}
      },
      "source": [
        "cluster_data_numerical = cluster_data[['KMs Reading', 'Labour Total', 'Parts Total', 'Total Amt Wtd Tax.', 'Partner Type', 'Title', 'Fuel Type', 'JobCard Month']]"
      ],
      "execution_count": 0,
      "outputs": []
    },
    {
      "cell_type": "code",
      "metadata": {
        "id": "UdgSmAjnJbZA",
        "colab_type": "code",
        "colab": {}
      },
      "source": [
        "cluster_data_transformed = pd.concat([cluster_data_encoded,cluster_data_numerical], axis=1)"
      ],
      "execution_count": 0,
      "outputs": []
    },
    {
      "cell_type": "code",
      "metadata": {
        "id": "t-BkaZXrIiUt",
        "colab_type": "code",
        "outputId": "04ac6de3-2ebd-4801-e6d7-e92e124f9fee",
        "colab": {
          "base_uri": "https://localhost:8080/",
          "height": 221
        }
      },
      "source": [
        "cluster_data_transformed.tail()"
      ],
      "execution_count": 0,
      "outputs": [
        {
          "output_type": "execute_result",
          "data": {
            "text/html": [
              "<div>\n",
              "<style scoped>\n",
              "    .dataframe tbody tr th:only-of-type {\n",
              "        vertical-align: middle;\n",
              "    }\n",
              "\n",
              "    .dataframe tbody tr th {\n",
              "        vertical-align: top;\n",
              "    }\n",
              "\n",
              "    .dataframe thead th {\n",
              "        text-align: right;\n",
              "    }\n",
              "</style>\n",
              "<table border=\"1\" class=\"dataframe\">\n",
              "  <thead>\n",
              "    <tr style=\"text-align: right;\">\n",
              "      <th></th>\n",
              "      <th>Cust Type</th>\n",
              "      <th>Order Type</th>\n",
              "      <th>Plant</th>\n",
              "      <th>Data Origin</th>\n",
              "      <th>Vehicle Model</th>\n",
              "      <th>City</th>\n",
              "      <th>State</th>\n",
              "      <th>KMs Reading</th>\n",
              "      <th>Labour Total</th>\n",
              "      <th>Parts Total</th>\n",
              "      <th>Total Amt Wtd Tax.</th>\n",
              "      <th>Partner Type</th>\n",
              "      <th>Title</th>\n",
              "      <th>Fuel Type</th>\n",
              "      <th>JobCard Month</th>\n",
              "    </tr>\n",
              "  </thead>\n",
              "  <tbody>\n",
              "    <tr>\n",
              "      <th>743796</th>\n",
              "      <td>6</td>\n",
              "      <td>4</td>\n",
              "      <td>395</td>\n",
              "      <td>18</td>\n",
              "      <td>11</td>\n",
              "      <td>173</td>\n",
              "      <td>22</td>\n",
              "      <td>32006</td>\n",
              "      <td>0.00</td>\n",
              "      <td>0.0</td>\n",
              "      <td>0.00</td>\n",
              "      <td>1.0</td>\n",
              "      <td>2.0</td>\n",
              "      <td>1</td>\n",
              "      <td>11</td>\n",
              "    </tr>\n",
              "    <tr>\n",
              "      <th>743797</th>\n",
              "      <td>6</td>\n",
              "      <td>4</td>\n",
              "      <td>395</td>\n",
              "      <td>18</td>\n",
              "      <td>12</td>\n",
              "      <td>173</td>\n",
              "      <td>22</td>\n",
              "      <td>127146</td>\n",
              "      <td>0.00</td>\n",
              "      <td>0.0</td>\n",
              "      <td>0.00</td>\n",
              "      <td>1.0</td>\n",
              "      <td>2.0</td>\n",
              "      <td>1</td>\n",
              "      <td>11</td>\n",
              "    </tr>\n",
              "    <tr>\n",
              "      <th>743798</th>\n",
              "      <td>6</td>\n",
              "      <td>4</td>\n",
              "      <td>395</td>\n",
              "      <td>12</td>\n",
              "      <td>16</td>\n",
              "      <td>173</td>\n",
              "      <td>22</td>\n",
              "      <td>75653</td>\n",
              "      <td>0.00</td>\n",
              "      <td>0.0</td>\n",
              "      <td>0.00</td>\n",
              "      <td>1.0</td>\n",
              "      <td>2.0</td>\n",
              "      <td>2</td>\n",
              "      <td>11</td>\n",
              "    </tr>\n",
              "    <tr>\n",
              "      <th>743799</th>\n",
              "      <td>6</td>\n",
              "      <td>4</td>\n",
              "      <td>395</td>\n",
              "      <td>12</td>\n",
              "      <td>9</td>\n",
              "      <td>173</td>\n",
              "      <td>22</td>\n",
              "      <td>109852</td>\n",
              "      <td>149.18</td>\n",
              "      <td>0.0</td>\n",
              "      <td>149.18</td>\n",
              "      <td>1.0</td>\n",
              "      <td>2.0</td>\n",
              "      <td>2</td>\n",
              "      <td>11</td>\n",
              "    </tr>\n",
              "    <tr>\n",
              "      <th>743800</th>\n",
              "      <td>6</td>\n",
              "      <td>4</td>\n",
              "      <td>395</td>\n",
              "      <td>5</td>\n",
              "      <td>25</td>\n",
              "      <td>173</td>\n",
              "      <td>22</td>\n",
              "      <td>63154</td>\n",
              "      <td>0.00</td>\n",
              "      <td>0.0</td>\n",
              "      <td>0.00</td>\n",
              "      <td>1.0</td>\n",
              "      <td>2.0</td>\n",
              "      <td>2</td>\n",
              "      <td>11</td>\n",
              "    </tr>\n",
              "  </tbody>\n",
              "</table>\n",
              "</div>"
            ],
            "text/plain": [
              "        Cust Type  Order Type  Plant  ...  Title  Fuel Type  JobCard Month\n",
              "743796          6           4    395  ...    2.0          1             11\n",
              "743797          6           4    395  ...    2.0          1             11\n",
              "743798          6           4    395  ...    2.0          2             11\n",
              "743799          6           4    395  ...    2.0          2             11\n",
              "743800          6           4    395  ...    2.0          2             11\n",
              "\n",
              "[5 rows x 15 columns]"
            ]
          },
          "metadata": {
            "tags": []
          },
          "execution_count": 144
        }
      ]
    },
    {
      "cell_type": "code",
      "metadata": {
        "id": "bGTNdsaCJqj8",
        "colab_type": "code",
        "outputId": "2a87a151-6ab5-42ca-d3b5-89929e4e7d4a",
        "colab": {
          "base_uri": "https://localhost:8080/",
          "height": 34
        }
      },
      "source": [
        "cluster_data_transformed.shape"
      ],
      "execution_count": 0,
      "outputs": [
        {
          "output_type": "execute_result",
          "data": {
            "text/plain": [
              "(743801, 15)"
            ]
          },
          "metadata": {
            "tags": []
          },
          "execution_count": 137
        }
      ]
    },
    {
      "cell_type": "markdown",
      "metadata": {
        "id": "daOdM5BV_AVs",
        "colab_type": "text"
      },
      "source": [
        "## Apply Clustering Algorthims"
      ]
    },
    {
      "cell_type": "code",
      "metadata": {
        "id": "l48hKfdB-_YT",
        "colab_type": "code",
        "colab": {}
      },
      "source": [
        "from sklearn.cluster import KMeans"
      ],
      "execution_count": 0,
      "outputs": []
    },
    {
      "cell_type": "code",
      "metadata": {
        "id": "rwlzzHBqLCZ6",
        "colab_type": "code",
        "colab": {}
      },
      "source": [
        "dist=[]\n",
        "# Iterate from 1-9\n",
        "for i in range(1, 10):\n",
        "    # Initialize KMeans algorithm\n",
        "    km = KMeans(n_clusters=i, init='k-means++', n_init=10, max_iter=300, random_state=0)\n",
        "    # Fit on data\n",
        "    km.fit(cluster_data_transformed)\n",
        "    # Append WCSS to list storing WCSS\n",
        "    dist.append(km.inertia_)"
      ],
      "execution_count": 0,
      "outputs": []
    },
    {
      "cell_type": "code",
      "metadata": {
        "id": "VYdA3IaRNxDw",
        "colab_type": "code",
        "colab": {}
      },
      "source": [
        "import matplotlib.pyplot as plt"
      ],
      "execution_count": 0,
      "outputs": []
    },
    {
      "cell_type": "code",
      "metadata": {
        "id": "jOU0wmqUNo1s",
        "colab_type": "code",
        "outputId": "51cdd395-5cda-4927-f293-bc86b2ba37fa",
        "colab": {
          "base_uri": "https://localhost:8080/",
          "height": 276
        }
      },
      "source": [
        "# Line plot # clusters on X-axis and WCSS on Y-axis \n",
        "plt.plot(range(1, 10), dist)\n",
        "plt.show()"
      ],
      "execution_count": 0,
      "outputs": [
        {
          "output_type": "display_data",
          "data": {
            "image/png": "[encoded data removed]",
            "text/plain": [
              "<Figure size 432x288 with 1 Axes>"
            ]
          },
          "metadata": {
            "tags": []
          }
        }
      ]
    },
    {
      "cell_type": "code",
      "metadata": {
        "id": "jQO3DzC4PJM3",
        "colab_type": "code",
        "colab": {}
      },
      "source": [
        "cluster  = KMeans(n_clusters=4, init='k-means++', max_iter=300, n_init=10, random_state=0)\n",
        "# create 'cluster' column\n",
        "cluster_data_transformed['cluster'] = cluster.fit_predict(cluster_data_transformed)"
      ],
      "execution_count": 0,
      "outputs": []
    },
    {
      "cell_type": "code",
      "metadata": {
        "id": "Q_XBnIcrPUg8",
        "colab_type": "code",
        "outputId": "fa293546-6963-4fc1-b941-d41f3ab1dde5",
        "colab": {
          "base_uri": "https://localhost:8080/",
          "height": 221
        }
      },
      "source": [
        "cluster_data_transformed.tail()"
      ],
      "execution_count": 0,
      "outputs": [
        {
          "output_type": "execute_result",
          "data": {
            "text/html": [
              "<div>\n",
              "<style scoped>\n",
              "    .dataframe tbody tr th:only-of-type {\n",
              "        vertical-align: middle;\n",
              "    }\n",
              "\n",
              "    .dataframe tbody tr th {\n",
              "        vertical-align: top;\n",
              "    }\n",
              "\n",
              "    .dataframe thead th {\n",
              "        text-align: right;\n",
              "    }\n",
              "</style>\n",
              "<table border=\"1\" class=\"dataframe\">\n",
              "  <thead>\n",
              "    <tr style=\"text-align: right;\">\n",
              "      <th></th>\n",
              "      <th>Cust Type</th>\n",
              "      <th>Order Type</th>\n",
              "      <th>Plant</th>\n",
              "      <th>Data Origin</th>\n",
              "      <th>Vehicle Model</th>\n",
              "      <th>City</th>\n",
              "      <th>State</th>\n",
              "      <th>KMs Reading</th>\n",
              "      <th>Labour Total</th>\n",
              "      <th>Parts Total</th>\n",
              "      <th>Total Amt Wtd Tax.</th>\n",
              "      <th>Partner Type</th>\n",
              "      <th>Title</th>\n",
              "      <th>Fuel Type</th>\n",
              "      <th>JobCard Month</th>\n",
              "      <th>cluster</th>\n",
              "    </tr>\n",
              "  </thead>\n",
              "  <tbody>\n",
              "    <tr>\n",
              "      <th>743796</th>\n",
              "      <td>6</td>\n",
              "      <td>4</td>\n",
              "      <td>395</td>\n",
              "      <td>18</td>\n",
              "      <td>11</td>\n",
              "      <td>173</td>\n",
              "      <td>22</td>\n",
              "      <td>32006</td>\n",
              "      <td>0.00</td>\n",
              "      <td>0.0</td>\n",
              "      <td>0.00</td>\n",
              "      <td>1.0</td>\n",
              "      <td>2.0</td>\n",
              "      <td>1</td>\n",
              "      <td>11</td>\n",
              "      <td>3</td>\n",
              "    </tr>\n",
              "    <tr>\n",
              "      <th>743797</th>\n",
              "      <td>6</td>\n",
              "      <td>4</td>\n",
              "      <td>395</td>\n",
              "      <td>18</td>\n",
              "      <td>12</td>\n",
              "      <td>173</td>\n",
              "      <td>22</td>\n",
              "      <td>127146</td>\n",
              "      <td>0.00</td>\n",
              "      <td>0.0</td>\n",
              "      <td>0.00</td>\n",
              "      <td>1.0</td>\n",
              "      <td>2.0</td>\n",
              "      <td>1</td>\n",
              "      <td>11</td>\n",
              "      <td>0</td>\n",
              "    </tr>\n",
              "    <tr>\n",
              "      <th>743798</th>\n",
              "      <td>6</td>\n",
              "      <td>4</td>\n",
              "      <td>395</td>\n",
              "      <td>12</td>\n",
              "      <td>16</td>\n",
              "      <td>173</td>\n",
              "      <td>22</td>\n",
              "      <td>75653</td>\n",
              "      <td>0.00</td>\n",
              "      <td>0.0</td>\n",
              "      <td>0.00</td>\n",
              "      <td>1.0</td>\n",
              "      <td>2.0</td>\n",
              "      <td>2</td>\n",
              "      <td>11</td>\n",
              "      <td>3</td>\n",
              "    </tr>\n",
              "    <tr>\n",
              "      <th>743799</th>\n",
              "      <td>6</td>\n",
              "      <td>4</td>\n",
              "      <td>395</td>\n",
              "      <td>12</td>\n",
              "      <td>9</td>\n",
              "      <td>173</td>\n",
              "      <td>22</td>\n",
              "      <td>109852</td>\n",
              "      <td>149.18</td>\n",
              "      <td>0.0</td>\n",
              "      <td>149.18</td>\n",
              "      <td>1.0</td>\n",
              "      <td>2.0</td>\n",
              "      <td>2</td>\n",
              "      <td>11</td>\n",
              "      <td>3</td>\n",
              "    </tr>\n",
              "    <tr>\n",
              "      <th>743800</th>\n",
              "      <td>6</td>\n",
              "      <td>4</td>\n",
              "      <td>395</td>\n",
              "      <td>5</td>\n",
              "      <td>25</td>\n",
              "      <td>173</td>\n",
              "      <td>22</td>\n",
              "      <td>63154</td>\n",
              "      <td>0.00</td>\n",
              "      <td>0.0</td>\n",
              "      <td>0.00</td>\n",
              "      <td>1.0</td>\n",
              "      <td>2.0</td>\n",
              "      <td>2</td>\n",
              "      <td>11</td>\n",
              "      <td>3</td>\n",
              "    </tr>\n",
              "  </tbody>\n",
              "</table>\n",
              "</div>"
            ],
            "text/plain": [
              "        Cust Type  Order Type  Plant  ...  Fuel Type  JobCard Month  cluster\n",
              "743796          6           4    395  ...          1             11        3\n",
              "743797          6           4    395  ...          1             11        0\n",
              "743798          6           4    395  ...          2             11        3\n",
              "743799          6           4    395  ...          2             11        3\n",
              "743800          6           4    395  ...          2             11        3\n",
              "\n",
              "[5 rows x 16 columns]"
            ]
          },
          "metadata": {
            "tags": []
          },
          "execution_count": 153
        }
      ]
    },
    {
      "cell_type": "code",
      "metadata": {
        "id": "kzZHIJI4P1wD",
        "colab_type": "code",
        "colab": {}
      },
      "source": [
        "# Cluster centers\n",
        "centroids = cluster.cluster_centers_"
      ],
      "execution_count": 0,
      "outputs": []
    },
    {
      "cell_type": "code",
      "metadata": {
        "id": "wnutvCjuP-SU",
        "colab_type": "code",
        "colab": {}
      },
      "source": [
        "# Within cluster sum of squares\n",
        "wcss = km.inertia_"
      ],
      "execution_count": 0,
      "outputs": []
    },
    {
      "cell_type": "code",
      "metadata": {
        "id": "mHwkeFRSP_Z8",
        "colab_type": "code",
        "outputId": "ea25e892-ce14-44db-a4a6-f6ea53bfef8d",
        "colab": {
          "base_uri": "https://localhost:8080/",
          "height": 289
        }
      },
      "source": [
        "centroids"
      ],
      "execution_count": 0,
      "outputs": [
        {
          "output_type": "execute_result",
          "data": {
            "text/plain": [
              "array([[5.99270430e+00, 3.06515814e+00, 1.31932312e+02, 6.31335169e+00,\n",
              "        1.43733316e+01, 1.65858579e+02, 1.56308194e+01, 1.72118952e+05,\n",
              "        1.85053761e+03, 2.91090539e+03, 5.20607863e+03, 1.00271143e+00,\n",
              "        1.95706439e+00, 1.87964891e+00, 6.97231967e+00, 3.98016744e+00],\n",
              "       [6.00000000e+00, 3.05771195e+00, 1.56161900e+02, 5.68896834e+00,\n",
              "        1.37004597e+01, 1.83230592e+02, 1.42717058e+01, 1.15489334e+06,\n",
              "        1.55183519e+03, 2.13350072e+03, 3.97107555e+03, 1.00051073e+00,\n",
              "        1.96322778e+00, 1.74208376e+00, 7.14300306e+00, 1.81435138e+00],\n",
              "       [6.00000000e+00, 2.98285714e+00, 1.90514286e+02, 4.75428571e+00,\n",
              "        1.23942857e+01, 1.75057143e+02, 1.49314286e+01, 6.05852670e+06,\n",
              "        2.02082674e+03, 2.16857457e+03, 4.37623326e+03, 1.00571429e+00,\n",
              "        1.95428571e+00, 1.60000000e+00, 7.26285714e+00, 2.61142857e+00],\n",
              "       [5.99689580e+00, 3.01398564e+00, 1.38485619e+02, 6.46590414e+00,\n",
              "        1.25119307e+01, 1.61916121e+02, 1.53134684e+01, 5.42876785e+04,\n",
              "        1.45358984e+03, 2.05304223e+03, 3.85600343e+03, 1.28758389e+00,\n",
              "        1.95166373e+00, 1.65008079e+00, 6.98180560e+00, 1.08499326e-01]])"
            ]
          },
          "metadata": {
            "tags": []
          },
          "execution_count": 156
        }
      ]
    },
    {
      "cell_type": "code",
      "metadata": {
        "id": "-5wT9alhQCg6",
        "colab_type": "code",
        "outputId": "35fc1601-d2b0-45a1-eb49-087df6242f53",
        "colab": {
          "base_uri": "https://localhost:8080/",
          "height": 34
        }
      },
      "source": [
        "wcss"
      ],
      "execution_count": 0,
      "outputs": [
        {
          "output_type": "execute_result",
          "data": {
            "text/plain": [
              "850269059687674.8"
            ]
          },
          "metadata": {
            "tags": []
          },
          "execution_count": 157
        }
      ]
    },
    {
      "cell_type": "code",
      "metadata": {
        "id": "ZtJfcaz_QHl4",
        "colab_type": "code",
        "outputId": "bcccc52c-0e1a-40cd-8a0c-3fb899713541",
        "colab": {
          "base_uri": "https://localhost:8080/",
          "height": 102
        }
      },
      "source": [
        "cluster_data_transformed['cluster'].value_counts()"
      ],
      "execution_count": 0,
      "outputs": [
        {
          "output_type": "execute_result",
          "data": {
            "text/plain": [
              "3    596846\n",
              "0    142864\n",
              "1      3916\n",
              "2       175\n",
              "Name: cluster, dtype: int64"
            ]
          },
          "metadata": {
            "tags": []
          },
          "execution_count": 158
        }
      ]
    }
  ]
}